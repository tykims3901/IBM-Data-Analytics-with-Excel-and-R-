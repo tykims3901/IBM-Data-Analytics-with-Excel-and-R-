{
 "cells": [
  {
   "cell_type": "markdown",
   "metadata": {},
   "source": [
    "<center><img src = \"https://cf-courses-data.s3.us.cloud-object-storage.appdomain.cloud/IBMDeveloperSkillsNetwork-RP0103EN-SkillsNetwork/labs/module%201/images/IDSNlogo.png\" width = 250></center>\n",
    "\n",
    "<h1 align=center><font size = 5>Hands-on Lab: Accessing Your Database with RODBC</h1>\n"
   ]
  },
  {
   "cell_type": "markdown",
   "metadata": {},
   "source": [
    "### Welcome!\n",
    "\n",
    "In this hands-on lab, we will learn how to connect and discover metadata from database servers with R using RODBC.\n"
   ]
  },
  {
   "cell_type": "markdown",
   "metadata": {},
   "source": [
    "<div class=\"alert alert-block alert-info\" style=\"margin-top: 20px\">\n",
    "<h3>Tasks</h3>\n",
    "<ol><ol><ol>\n",
    "<li><a href=\"#ref6a\">Pre-requisites</a></li>\n",
    "<li><a href=\"#ref6b\">Create an R notebook</a></li>\n",
    "<li><a href=\"#ref6c\">Load RODBC</a></li>\n",
    "<li><a href=\"#ref6d\">Connection information</a></li>\n",
    "<li><a href=\"#ref6e\">Create a database connection</a></li>\n",
    "<li><a href=\"#ref6f\">Connection Attributes</a></li>\n",
    "<li><a href=\"#ref6g\">Connection Metadata</a></li>\n",
    "<li><a href=\"#ref6h\">Supported Datatypes</a></li>\n",
    "<li><a href=\"#ref6i\">List of Tables</a></li>\n",
    "<li><a href=\"#ref6j\">Columns in a Table</a></li>\n",
    "<li><a href=\"#ref6k\">Dis-connect</a></li>\n",
    "</ol></ol></ol>\n",
    "<br>\n",
    "Estimated Time Needed: <strong>15 min</strong>\n",
    "</div>\n"
   ]
  },
  {
   "cell_type": "markdown",
   "metadata": {},
   "source": [
    "<a id=\"ref6a\"></a>\n",
    "\n",
    "<h3>a. Pre-requisites</h3>\n"
   ]
  },
  {
   "cell_type": "markdown",
   "metadata": {},
   "source": [
    "In this lab we will use Jupyter Notebooks within SN Labs to access data in a Db2 on Cloud database using RODBC.  Information about Jupyter notebooks, SN Labs, and Db2 services is provided in the previous labs.\n"
   ]
  },
  {
   "cell_type": "markdown",
   "metadata": {},
   "source": [
    "<a id=\"ref6b\"></a>\n",
    "\n",
    "<h3>b. Create an R notebook</h3>\n"
   ]
  },
  {
   "cell_type": "markdown",
   "metadata": {},
   "source": [
    "If necessary, set the notebook kernel to use R (using the dropdown in the top right corner).\n",
    "\n",
    "![](https://ibm.box.com/shared/static/vb8qv1tyq3b40sq4urgyfk9fwi2i8rpm.png)\n"
   ]
  },
  {
   "cell_type": "markdown",
   "metadata": {},
   "source": [
    "<a id=\"ref6c\"></a>\n",
    "\n",
    "<h3>c. Load RODBC</h3>\n"
   ]
  },
  {
   "cell_type": "markdown",
   "metadata": {},
   "source": [
    "The RODBC package and the ODBC driver for Db2 are pre-installed on your workbench. Let’s load the RODBC package by clicking on the following cell and executing it (Shift+Enter):\n"
   ]
  },
  {
   "cell_type": "code",
   "execution_count": 1,
   "metadata": {},
   "outputs": [],
   "source": [
    "library(RODBC);"
   ]
  },
  {
   "cell_type": "markdown",
   "metadata": {},
   "source": [
    "<a id=\"ref6d\"></a>\n",
    "\n",
    "<h3>d. Connection information</h3>\n"
   ]
  },
  {
   "cell_type": "markdown",
   "metadata": {},
   "source": [
    "In the following cell enter the connection details for your instance of Db2 and run it. Remember to update the values for hostname, userid, and password.\n",
    "\n",
    "For instructions on accessing **Db2 Service Credentials**, go to **Hands-on Lab: Setup your database service instance and Access service credentials**.\n"
   ]
  },
  {
   "cell_type": "code",
   "execution_count": 2,
   "metadata": {},
   "outputs": [],
   "source": [
    "dsn_driver <- \"{IBM DB2 ODBC Driver}\"\n",
    "dsn_database <- \"bludb\"            # e.g. \"bludb\"\n",
    "dsn_hostname <- \"54a2f15b-5c0f-46df-8954-7e38e612c2bd.c1ogj3sd0tgtu0lqde00.databases.appdomain.cloud\" # e.g \"54a2f15b-5c0f-46df-8954-.databases.appdomain.cloud\"\n",
    "dsn_port <- \"32733\"   # e.g. \"32733\" \n",
    "dsn_protocol <- \"TCPIP\"            # i.e. \"TCPIP\"\n",
    "dsn_uid <- \"mbx73142\"        # e.g. \"zjh17769\"\n",
    "dsn_pwd <- \"qUmKL2e8KKTIvHxS\"      # e.g. \"zcwd4+8gbq9bm5k4\"  \n",
    "dsn_security <- \"ssl\""
   ]
  },
  {
   "cell_type": "markdown",
   "metadata": {},
   "source": [
    "<details>\n",
    "<summary>Click here to view/hide hint</summary>\n",
    "<p>\n",
    "\n",
    "```\n",
    "# Fill in the <...>\n",
    "dsn_driver <- \"{...}\"\n",
    "dsn_database <- \"...\"            \n",
    "dsn_hostname <- \"<Enter Hostname>\" \n",
    "dsn_port <- \"...\"                \n",
    "dsn_protocol <- \"...\"            \n",
    "dsn_uid <- \"<Enter UserID>\"        \n",
    "dsn_pwd <- \"<Enter Password>\" \n",
    "dsn_security <- \"ssl\"\n",
    "           \n",
    "```\n",
    "\n",
    "</details>\n"
   ]
  },
  {
   "cell_type": "markdown",
   "metadata": {},
   "source": [
    "<details>\n",
    "<summary>Click here to view/hide solution</summary>\n",
    "<p>\n",
    "\n",
    "```\n",
    "dsn_driver <- \"{IBM DB2 ODBC Driver}\"\n",
    "dsn_database <- \"bludb\"            # e.g. \"bludb\"\n",
    "dsn_hostname <- \"<Enter Hostname>\" # e.g \"54a2f15b-5c0f-46df-8954-.databases.appdomain.cloud\"\n",
    "dsn_port <- \"<Enter port number\"   # e.g. \"32733\" \n",
    "dsn_protocol <- \"TCPIP\"            # i.e. \"TCPIP\"\n",
    "dsn_uid <- \"<Enter UserID>\"        # e.g. \"zjh17769\"\n",
    "dsn_pwd <- \"<Enter Password>\"      # e.g. \"zcwd4+8gbq9bm5k4\"  \n",
    "dsn_security <- \"ssl\"\n",
    "```\n",
    "\n",
    "</details>\n"
   ]
  },
  {
   "cell_type": "markdown",
   "metadata": {},
   "source": [
    "<a id=\"ref6e\"></a>\n",
    "\n",
    "<h3>e. Create a database connection</h3>\n"
   ]
  },
  {
   "cell_type": "markdown",
   "metadata": {},
   "source": [
    "Create a connection string and connect:\n"
   ]
  },
  {
   "cell_type": "code",
   "execution_count": 3,
   "metadata": {
    "collapsed": false,
    "jupyter": {
     "outputs_hidden": false
    }
   },
   "outputs": [
    {
     "data": {
      "text/plain": [
       "RODBC Connection 1\n",
       "Details:\n",
       "  case=nochange\n",
       "  DRIVER={IBM DB2 ODBC DRIVER}\n",
       "  UID=mbx73142\n",
       "  PWD=******\n",
       "  DATABASE=bludb\n",
       "  HOSTNAME=54a2f15b-5c0f-46df-8954-7e38e612c2bd.c1ogj3sd0tgtu0lqde00.databases.appdomain.cloud\n",
       "  PORT=32733\n",
       "  PROTOCOL=TCPIP\n",
       "  SECURITY=SSL"
      ]
     },
     "metadata": {},
     "output_type": "display_data"
    }
   ],
   "source": [
    "conn_path <- paste(\"DRIVER=\",dsn_driver,\n",
    "                  \";DATABASE=\",dsn_database,\n",
    "                  \";HOSTNAME=\",dsn_hostname,\n",
    "                  \";PORT=\",dsn_port,\n",
    "                  \";PROTOCOL=\",dsn_protocol,\n",
    "                  \";UID=\",dsn_uid,\n",
    "                  \";PWD=\",dsn_pwd,\n",
    "                  \";SECURITY=\",dsn_security,        \n",
    "                    sep=\"\")\n",
    "conn <- odbcDriverConnect(conn_path)\n",
    "conn"
   ]
  },
  {
   "cell_type": "markdown",
   "metadata": {},
   "source": [
    "<details>\n",
    "<summary>Click here to view/hide hint</summary>\n",
    "<p>\n",
    "\n",
    "```\n",
    "# Fill in the ...\n",
    "conn_path <- paste(\"DRIVER=\",...\n",
    "                  \";DATABASE=\",...\n",
    "                  \";HOSTNAME=\",...\n",
    "                  \";PORT=\",...\n",
    "                  \";PROTOCOL=\",...\n",
    "                  \";UID=\",...\n",
    "                  \";PWD=\",...\"\n",
    "                  \";SECURITY=\",...\")\n",
    "conn <- ...(...)\n",
    "```\n",
    "\n",
    "</details>\n"
   ]
  },
  {
   "cell_type": "markdown",
   "metadata": {},
   "source": [
    "<details>\n",
    "<summary>Click here to view/hide solution</summary>\n",
    "<p>\n",
    "\n",
    "```\n",
    "conn_path <- paste(\"DRIVER=\",dsn_driver,\n",
    "                  \";DATABASE=\",dsn_database,\n",
    "                  \";HOSTNAME=\",dsn_hostname,\n",
    "                  \";PORT=\",dsn_port,\n",
    "                  \";PROTOCOL=\",dsn_protocol,\n",
    "                  \";UID=\",dsn_uid,\n",
    "                  \";PWD=\",dsn_pwd,\n",
    "                  \";SECURITY=\",dsn_security,        \n",
    "                    sep=\"\")\n",
    "conn <- odbcDriverConnect(conn_path)\n",
    "conn\n",
    "```\n",
    "\n",
    "</div>\n"
   ]
  },
  {
   "cell_type": "markdown",
   "metadata": {},
   "source": [
    "<a id=\"ref6f\"></a>\n",
    "\n",
    "<h3>f. Connection Attributes</h3>\n"
   ]
  },
  {
   "cell_type": "markdown",
   "metadata": {},
   "source": [
    "Let’s examine the connection attributes:\n"
   ]
  },
  {
   "cell_type": "code",
   "execution_count": 4,
   "metadata": {},
   "outputs": [
    {
     "data": {
      "text/plain": [
       "$connection.string\n",
       "[1] \"DRIVER={IBM DB2 ODBC DRIVER};UID=mbx73142;PWD=******;DATABASE=bludb;HOSTNAME=54a2f15b-5c0f-46df-8954-7e38e612c2bd.c1ogj3sd0tgtu0lqde00.databases.appdomain.cloud;PORT=32733;PROTOCOL=TCPIP;SECURITY=SSL;\"\n",
       "\n",
       "$handle_ptr\n",
       "<pointer: 0x55a5d4e6dd10>\n",
       "\n",
       "$class\n",
       "[1] \"RODBC\"\n",
       "\n",
       "$case\n",
       "[1] \"nochange\"\n",
       "\n",
       "$id\n",
       "[1] 62236\n",
       "\n",
       "$believeNRows\n",
       "[1] TRUE\n",
       "\n",
       "$colQuote\n",
       "[1] \"\\\"\"\n",
       "\n",
       "$tabQuote\n",
       "[1] \"\\\"\"\n",
       "\n",
       "$interpretDot\n",
       "[1] TRUE\n",
       "\n",
       "$encoding\n",
       "[1] \"\"\n",
       "\n",
       "$rows_at_time\n",
       "[1] 100\n",
       "\n",
       "$isMySQL\n",
       "[1] FALSE\n",
       "\n",
       "$call\n",
       "odbcDriverConnect(connection = \"DRIVER={IBM DB2 ODBC Driver};DATABASE=bludb;HOSTNAME=54a2f15b-5c0f-46df-8954-7e38e612c2bd.c1ogj3sd0tgtu0lqde00.databases.appdomain.cloud;PORT=32733;PROTOCOL=TCPIP;UID=mbx73142;PWD=******;SECURITY=ssl\")\n"
      ]
     },
     "metadata": {},
     "output_type": "display_data"
    }
   ],
   "source": [
    "attributes(conn)"
   ]
  },
  {
   "cell_type": "markdown",
   "metadata": {},
   "source": [
    "<details>\n",
    "<summary>Click here to view/hide hint</summary>\n",
    "<p>\n",
    "\n",
    "```\n",
    "# Fill in the ...\n",
    "...(conn)\n",
    "```\n",
    "\n",
    "</details>\n"
   ]
  },
  {
   "cell_type": "markdown",
   "metadata": {},
   "source": [
    "<details>\n",
    "<summary>Click here to view/hide solution</summary>\n",
    "<p>\n",
    "\n",
    "```\n",
    "attributes(conn)\n",
    "```\n",
    "\n",
    "</details>\n"
   ]
  },
  {
   "cell_type": "markdown",
   "metadata": {},
   "source": [
    "<a id=\"ref6g\"></a>\n",
    "\n",
    "<h3>g. Connection Metadata</h3>\n"
   ]
  },
  {
   "cell_type": "markdown",
   "metadata": {},
   "source": [
    "And review the connection metadata using  the odbcGetInfo() function:\n"
   ]
  },
  {
   "cell_type": "code",
   "execution_count": 5,
   "metadata": {},
   "outputs": [],
   "source": [
    "conn.info <- odbcGetInfo(conn) "
   ]
  },
  {
   "cell_type": "markdown",
   "metadata": {},
   "source": [
    "<details>\n",
    "<summary>Click here to view/hide hint</summary>\n",
    "<p>\n",
    "\n",
    "```\n",
    "conn.... <- odbc...(conn) \n",
    "```\n",
    "\n",
    "</details>\n"
   ]
  },
  {
   "cell_type": "markdown",
   "metadata": {},
   "source": [
    "<details>\n",
    "<summary>Click here to view/hide solution</summary>\n",
    "<p>\n",
    "\n",
    "```\n",
    "conn.info <- odbcGetInfo(conn) \n",
    "```\n",
    "\n",
    "</details>\n"
   ]
  },
  {
   "cell_type": "code",
   "execution_count": 6,
   "metadata": {},
   "outputs": [
    {
     "data": {
      "text/html": [
       "<strong>DBMS_Name:</strong> 'DB2/LINUXX8664'"
      ],
      "text/latex": [
       "\\textbf{DBMS\\textbackslash{}\\_Name:} 'DB2/LINUXX8664'"
      ],
      "text/markdown": [
       "**DBMS_Name:** 'DB2/LINUXX8664'"
      ],
      "text/plain": [
       "       DBMS_Name \n",
       "\"DB2/LINUXX8664\" "
      ]
     },
     "metadata": {},
     "output_type": "display_data"
    },
    {
     "data": {
      "text/html": [
       "<strong>DBMS_Ver:</strong> '11.05.0600'"
      ],
      "text/latex": [
       "\\textbf{DBMS\\textbackslash{}\\_Ver:} '11.05.0600'"
      ],
      "text/markdown": [
       "**DBMS_Ver:** '11.05.0600'"
      ],
      "text/plain": [
       "    DBMS_Ver \n",
       "\"11.05.0600\" "
      ]
     },
     "metadata": {},
     "output_type": "display_data"
    },
    {
     "data": {
      "text/html": [
       "<strong>Driver_ODBC_Ver:</strong> '03.51'"
      ],
      "text/latex": [
       "\\textbf{Driver\\textbackslash{}\\_ODBC\\textbackslash{}\\_Ver:} '03.51'"
      ],
      "text/markdown": [
       "**Driver_ODBC_Ver:** '03.51'"
      ],
      "text/plain": [
       "Driver_ODBC_Ver \n",
       "        \"03.51\" "
      ]
     },
     "metadata": {},
     "output_type": "display_data"
    }
   ],
   "source": [
    "conn.info[\"DBMS_Name\"]\n",
    "conn.info[\"DBMS_Ver\"] \n",
    "conn.info[\"Driver_ODBC_Ver\"]"
   ]
  },
  {
   "cell_type": "markdown",
   "metadata": {},
   "source": [
    "<details>\n",
    "<summary>Click here to view/hide hint</summary>\n",
    "<p>\n",
    "\n",
    "```\n",
    "# Fill in the ...\n",
    "conn....[\"DBMS_...\"]\n",
    "conn....[\"DBMS_...\"] \n",
    "conn....[\"Driver_..._...\"]\n",
    "```\n",
    "\n",
    "</details>\n"
   ]
  },
  {
   "cell_type": "markdown",
   "metadata": {},
   "source": [
    "<details>\n",
    "<summary>Click here to view/hide solution</summary>\n",
    "<p>\n",
    "\n",
    "```\n",
    "conn.info[\"DBMS_Name\"]\n",
    "conn.info[\"DBMS_Ver\"] \n",
    "conn.info[\"Driver_ODBC_Ver\"]\n",
    "```\n",
    "\n",
    "</details>\n"
   ]
  },
  {
   "cell_type": "markdown",
   "metadata": {},
   "source": [
    "<a id=\"ref6h\"></a>\n",
    "\n",
    "<h3>h. Supported Datatypes</h3>\n"
   ]
  },
  {
   "cell_type": "markdown",
   "metadata": {},
   "source": [
    "Let’s now examine the datatypes supported by the database:\n"
   ]
  },
  {
   "cell_type": "code",
   "execution_count": 7,
   "metadata": {},
   "outputs": [
    {
     "name": "stdout",
     "output_type": "stream",
     "text": [
      "                 TYPE_NAME COLUMN_SIZE\n",
      "                       XML           0\n",
      "                  DECFLOAT          34\n",
      "                      CLOB  2147483647\n",
      "                      BLOB  2147483647\n",
      " LONG VARCHAR FOR BIT DATA       32700\n",
      "                 VARBINARY       32672\n",
      "                    BINARY         255\n",
      "              LONG VARCHAR       32700\n",
      "                      CHAR         255\n",
      "                   NUMERIC          31\n",
      "                   DECIMAL          31\n",
      "                   INTEGER          10\n",
      "                  SMALLINT           5\n",
      "                     FLOAT          53\n",
      "                      REAL          24\n",
      "                    DOUBLE          53\n",
      "                   VARCHAR       32672\n",
      "                      DATE          10\n",
      "                      TIME           8\n",
      "                 TIMESTAMP          32\n",
      "                VARGRAPHIC       16336\n",
      "                   GRAPHIC         127\n",
      "           LONG VARGRAPHIC       16350\n",
      "                    DBCLOB  1073741823\n",
      "                    BIGINT          19\n",
      "                   BOOLEAN           1\n"
     ]
    }
   ],
   "source": [
    "sql.info <- sqlTypeInfo(conn)\n",
    "print(sql.info[c(1,3)], row.names=FALSE)"
   ]
  },
  {
   "cell_type": "markdown",
   "metadata": {},
   "source": [
    "<details>\n",
    "<summary>Click here to view/hide hint</summary>\n",
    "<p>\n",
    "\n",
    "```\n",
    "# Fill in the ...\n",
    "sql.... <- sql...(conn)\n",
    "print(sql....[c(1,...)], row....=FALSE) \n",
    "```\n",
    "\n",
    "</details>\n"
   ]
  },
  {
   "cell_type": "markdown",
   "metadata": {},
   "source": [
    "<details>\n",
    "<summary>Click here to view/hide solution</summary>\n",
    "<p>\n",
    "\n",
    "```\n",
    "sql.info <- sqlTypeInfo(conn)\n",
    "print(sql.info[c(1,3)], row.names=FALSE) \n",
    "```\n",
    "\n",
    "</details>\n"
   ]
  },
  {
   "cell_type": "markdown",
   "metadata": {},
   "source": [
    "<a id=\"ref6i\"></a>\n",
    "\n",
    "<h3>i. List of Tables</h3>\n"
   ]
  },
  {
   "cell_type": "markdown",
   "metadata": {},
   "source": [
    "We will use the sqlTables() function to return a dataframe with information about table-like objects (i.e. TABLEs, VIEWs, ALIASes, etc.) in the Db2 system Schema **SYSIBM**. First we will output the number of tables in the schema, and then display their names.\n"
   ]
  },
  {
   "cell_type": "code",
   "execution_count": 8,
   "metadata": {},
   "outputs": [
    {
     "data": {
      "text/html": [
       "0"
      ],
      "text/latex": [
       "0"
      ],
      "text/markdown": [
       "0"
      ],
      "text/plain": [
       "[1] 0"
      ]
     },
     "metadata": {},
     "output_type": "display_data"
    },
    {
     "data": {
      "text/html": [],
      "text/latex": [],
      "text/markdown": [],
      "text/plain": [
       "character(0)"
      ]
     },
     "metadata": {},
     "output_type": "display_data"
    }
   ],
   "source": [
    "tab.frame <- sqlTables(conn, schema=\"<Enter Schema>\") # e.g. \"SYSIBM\"\n",
    "nrow(tab.frame)\n",
    "tab.frame$TABLE_NAME"
   ]
  },
  {
   "cell_type": "markdown",
   "metadata": {},
   "source": [
    "<details>\n",
    "<summary>Click here to view/hide hint</summary>\n",
    "<p>\n",
    "\n",
    "```\n",
    "# Fill in the ...\n",
    "tab.... <- sql...(conn, ...=\"<Enter Schema>\")\n",
    "nrow(tab....)\n",
    "tab.frame$...\n",
    "```\n",
    "\n",
    "</details>\n"
   ]
  },
  {
   "cell_type": "markdown",
   "metadata": {},
   "source": [
    "<details>\n",
    "<summary>Click here to view/hide solution</summary>\n",
    "<p>\n",
    "\n",
    "```\n",
    "tab.frame <- sqlTables(conn, schema=\"<Enter Schema>\") # e.g. \"SYSIBM\"\n",
    "nrow(tab.frame)\n",
    "tab.frame$TABLE_NAME\n",
    "```\n",
    "\n",
    "</details>\n"
   ]
  },
  {
   "cell_type": "markdown",
   "metadata": {},
   "source": [
    "<a id=\"ref6j\"></a>\n",
    "\n",
    "<h3>j. Columns in a Table</h3>\n"
   ]
  },
  {
   "cell_type": "markdown",
   "metadata": {},
   "source": [
    "Next, let’s look at column metadata for columns in the system catalog table **SYSSCHEMATA**:\n"
   ]
  },
  {
   "cell_type": "code",
   "execution_count": 9,
   "metadata": {},
   "outputs": [
    {
     "name": "stdout",
     "output_type": "stream",
     "text": [
      " TABLE_SCHEM  TABLE_NAME           COLUMN_NAME TYPE_NAME COLUMN_SIZE\n",
      "      SYSIBM SYSSCHEMATA                  NAME   VARCHAR         128\n",
      "      SYSIBM SYSSCHEMATA                 OWNER   VARCHAR         128\n",
      "      SYSIBM SYSSCHEMATA               DEFINER   VARCHAR         128\n",
      "      SYSIBM SYSSCHEMATA           CREATE_TIME TIMESTAMP          26\n",
      "      SYSIBM SYSSCHEMATA               REMARKS   VARCHAR         254\n",
      "      SYSIBM SYSSCHEMATA           DEFINERTYPE      CHAR           1\n",
      "      SYSIBM SYSSCHEMATA             OWNERTYPE      CHAR           1\n",
      "      SYSIBM SYSSCHEMATA           DATACAPTURE      CHAR           1\n",
      "      SYSIBM SYSSCHEMATA         AUDITPOLICYID   INTEGER          10\n",
      "      SYSIBM SYSSCHEMATA AUDITEXCEPTIONENABLED      CHAR           1\n",
      " DECIMAL_DIGITS IS_NULLABLE\n",
      "              0          NO\n",
      "              0          NO\n",
      "              0          NO\n",
      "              6          NO\n",
      "              6         YES\n",
      "              6          NO\n",
      "              6          NO\n",
      "              6          NO\n",
      "              0         YES\n",
      "              0          NO\n"
     ]
    }
   ],
   "source": [
    "tab.name <- \"SYSSCHEMATA\" # e.g. \"SYSSCHEMATA\"\n",
    "col.detail <- sqlColumns(conn, tab.name)\n",
    "print(col.detail[c(2,3,4,6,7,9,18)], row.names=FALSE)"
   ]
  },
  {
   "cell_type": "markdown",
   "metadata": {},
   "source": [
    "<details>\n",
    "<summary>Click here to view/hide hint</summary>\n",
    "<p>\n",
    "\n",
    "```\n",
    "# Fill in the ...\n",
    "tab.... <- \"....\"\n",
    "col.detail <- sql...(conn, tab....)\n",
    "print(....detail[c(...,...,7,...,...)], row....=FALSE)\n",
    "```\n",
    "\n",
    "</details>\n"
   ]
  },
  {
   "cell_type": "markdown",
   "metadata": {},
   "source": [
    "<details>\n",
    "<summary>Click here to view/hide solution</summary>\n",
    "<p>\n",
    "\n",
    "```\n",
    "tab.name <- \"<Enter Table>\" # e.g. \"SYSSCHEMATA\"\n",
    "col.detail <- sqlColumns(conn, tab.name)\n",
    "print(col.detail[c(2,3,4,6,7,9,18)], row.names=FALSE)\n",
    "```\n",
    "\n",
    "</details>\n"
   ]
  },
  {
   "cell_type": "markdown",
   "metadata": {},
   "source": [
    "<a id=\"ref6k\"></a>\n",
    "\n",
    "<h3>k. Dis-connect</h3>\n"
   ]
  },
  {
   "cell_type": "markdown",
   "metadata": {},
   "source": [
    "Finally, as a best practice we should close the database connection once we're done with it.\n"
   ]
  },
  {
   "cell_type": "code",
   "execution_count": 10,
   "metadata": {},
   "outputs": [],
   "source": [
    "odbcCloseAll()"
   ]
  },
  {
   "cell_type": "markdown",
   "metadata": {},
   "source": [
    "<details>\n",
    "<summary>Click here to view/hide hint</summary>\n",
    "<p>\n",
    "\n",
    "```\n",
    "odbc...()\n",
    "```\n",
    "\n",
    "</details>\n"
   ]
  },
  {
   "cell_type": "markdown",
   "metadata": {},
   "source": [
    "<details>\n",
    "<summary>Click here to view/hide solution</summary>\n",
    "<p>\n",
    "\n",
    "```\n",
    "odbcCloseAll()\n",
    "```\n",
    "\n",
    "</details>\n"
   ]
  },
  {
   "cell_type": "markdown",
   "metadata": {},
   "source": [
    "<a id=\"ref6o\"></a>\n",
    "\n",
    "<h3>Summary</h3>\n"
   ]
  },
  {
   "cell_type": "markdown",
   "metadata": {},
   "source": [
    "In this lab you accessed data in a Db2 on Cloud database using RODBC connection from a R notebook in Jupyter, and discovered different metadata.\n"
   ]
  },
  {
   "cell_type": "markdown",
   "metadata": {},
   "source": [
    "<hr>\n"
   ]
  },
  {
   "cell_type": "markdown",
   "metadata": {},
   "source": [
    "#### Thank you for completing this lab on getting connected and querying databases using RODBC.\n"
   ]
  },
  {
   "cell_type": "markdown",
   "metadata": {},
   "source": [
    "<hr>\n",
    "\n",
    "## Authors\n",
    "\n",
    "*   [Rav Ahuja](https://ca.linkedin.com/in/rav-ahuja-8aa4562a?utm_medium=Exinfluencer\\&utm_source=Exinfluencer\\&utm_content=000026UJ\\&utm_term=10006555\\&utm_id=NA-SkillsNetwork-Channel-SkillsNetworkCoursesIBMDeveloperSkillsNetworkRP0103ENSkillsNetwork23619267-2021-01-01\\&cm_mmc=Email_Newsletter-\\_-Developer_Ed%2BTech-\\_-WW_WW-\\_-SkillsNetwork-Courses-IBMDeveloperSkillsNetwork-RP0103EN-SkillsNetwork-23619267\\&cm_mmca1=000026UJ\\&cm_mmca2=10006555\\&cm_mmca3=M12345678\\&cvosrc=email.Newsletter.M12345678\\&cvo_campaign=000026UJ)\n",
    "*   [Agatha Colangelo](https://www.linkedin.com/in/agathacolangelo?utm_medium=Exinfluencer\\&utm_source=Exinfluencer\\&utm_content=000026UJ\\&utm_term=10006555\\&utm_id=NA-SkillsNetwork-Channel-SkillsNetworkCoursesIBMDeveloperSkillsNetworkRP0103ENSkillsNetwork23619267-2021-01-01\\&cm_mmc=Email_Newsletter-\\_-Developer_Ed%2BTech-\\_-WW_WW-\\_-SkillsNetwork-Courses-IBMDeveloperSkillsNetwork-RP0103EN-SkillsNetwork-23619267\\&cm_mmca1=000026UJ\\&cm_mmca2=10006555\\&cm_mmca3=M12345678\\&cvosrc=email.Newsletter.M12345678\\&cvo_campaign=000026UJ)\n",
    "*   [Sandip Saha Joy](https://www.linkedin.com/in/sandipsahajoy?utm_medium=Exinfluencer\\&utm_source=Exinfluencer\\&utm_content=000026UJ\\&utm_term=10006555\\&utm_id=NA-SkillsNetwork-Channel-SkillsNetworkCoursesIBMDeveloperSkillsNetworkRP0103ENSkillsNetwork23619267-2021-01-01\\&cm_mmc=Email_Newsletter-\\_-Developer_Ed%2BTech-\\_-WW_WW-\\_-SkillsNetwork-Courses-IBMDeveloperSkillsNetwork-RP0103EN-SkillsNetwork-23619267\\&cm_mmca1=000026UJ\\&cm_mmca2=10006555\\&cm_mmca3=M12345678\\&cvosrc=email.Newsletter.M12345678\\&cvo_campaign=000026UJ)\n",
    "\n",
    "## Changelog\n",
    "\n",
    "| Date (YYYY-MM-DD) | Version | Changed By                   | Change Description                 |\n",
    "| ----------------- | ------- | ---------------------------- | ---------------------------------- |\n",
    "| 2021-07-14        | 2.1    | Lakshmi Holla            | Added ssl changes |\n",
    "| 2021-01-22        | 2.0     | Sandip Saha Joy              | Created revised version of the lab |\n",
    "| 2017              | 1.0     | Rav Ahuja & Agatha Colangelo | Created initial version of the lab |\n",
    "\n",
    "<hr>\n",
    "\n",
    "<h2 align=center><font size = 5>Copyright &copy; IBM Corporation 2017-2021. All rights reserved.</h2>\n"
   ]
  }
 ],
 "metadata": {
  "kernelspec": {
   "display_name": "R",
   "language": "R",
   "name": "conda-env-r-r"
  },
  "language_info": {
   "codemirror_mode": "r",
   "file_extension": ".r",
   "mimetype": "text/x-r-source",
   "name": "R",
   "pygments_lexer": "r",
   "version": "3.5.1"
  },
  "widgets": {
   "state": {},
   "version": "1.1.2"
  }
 },
 "nbformat": 4,
 "nbformat_minor": 4
}
