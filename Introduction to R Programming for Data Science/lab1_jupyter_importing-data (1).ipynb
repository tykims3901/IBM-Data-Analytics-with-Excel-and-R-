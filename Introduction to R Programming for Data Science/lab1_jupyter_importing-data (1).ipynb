{
 "cells": [
  {
   "cell_type": "markdown",
   "metadata": {},
   "source": [
    "<a href=\"https://cognitiveclass.ai/?utm_medium=Exinfluencer&utm_source=Exinfluencer&utm_content=000026UJ&utm_term=10006555&utm_id=NA-SkillsNetwork-Channel-SkillsNetworkCoursesIBMDeveloperSkillsNetworkRP0101ENCoursera23911160-2021-01-01\">\n",
    "    <img src=\"https://cf-courses-data.s3.us.cloud-object-storage.appdomain.cloud/IBMDeveloperSkillsNetwork-RP0101EN-Coursera/v2/M1_R_Basics/images/IDSNlogo.png\" width=\"200\" align=\"center\">\n",
    "</a>\n"
   ]
  },
  {
   "cell_type": "markdown",
   "metadata": {},
   "source": [
    "<h1>Importing Data in R</h1>\n",
    "\n",
    "Estimated time needed: **15** minutes\n",
    "\n",
    "## Objectives\n",
    "\n",
    "After completing this lab you will be able to:\n",
    "\n",
    "*   Import csv and excel file\n",
    "*   Access rows and columns from dataset\n",
    "*   Access R built-in dataset\n"
   ]
  },
  {
   "cell_type": "markdown",
   "metadata": {},
   "source": [
    "## Table of Contents\n",
    "\n",
    "<ul>\n",
    "<li><a href=\"https://#About-the-Dataset\">About the Dataset</a></li>\n",
    "<li><a href=\"https://#Reading-CSV-Files\">Reading CSV Files</a></li>\n",
    "<li><a href=\"https://#Reading-Excel-Files\">Reading Excel Files</a></li>\n",
    "<li><a href=\"https://#Accessing-Rows-and-Columns\">Accessing Rows and Columns from dataset</a></li>\n",
    "<li><a href=\"https://#Accessing-Built-in-Datasets-in-R\">Accessing Built-in Datasets in R</a></li>\n",
    "</ul>\n",
    "\n",
    "<hr>\n"
   ]
  },
  {
   "cell_type": "markdown",
   "metadata": {},
   "source": [
    "<a id=\"ref0\"></a>\n",
    "\n",
    "<h2 align=center>About the Dataset</h2>\n"
   ]
  },
  {
   "cell_type": "markdown",
   "metadata": {},
   "source": [
    "**Movies dataset**\n",
    "\n",
    "Here we have a dataset that includes one row for each movie, with several columns for each movie characteristic:\n",
    "\n",
    "*   **name** - Name of the movie\n",
    "*   **year** - Year the movie was released\n",
    "*   **length_min** - Length of the movie (minutes)\n",
    "*   **genre** - Genre of the movie\n",
    "*   **average_rating** - Average rating on [IMDB](http://www.imdb.com?cm_mmc=Email_Newsletter-\\_-Developer_Ed%2BTech-\\_-WW_WW-\\_-SkillsNetwork-Courses-IBMDeveloperSkillsNetwork-RP0101EN-SkillsNetwork-20900564&cm_mmca1=000026UJ&cm_mmca2=10006555&cm_mmca3=M12345678&cvosrc=email.Newsletter.M12345678&cvo_campaign=000026UJ&cm_mmc=Email_Newsletter-\\_-Developer_Ed%2BTech-\\_-WW_WW-\\_-SkillsNetwork-Courses-IBMDeveloperSkillsNetwork-RP0101EN-SkillsNetwork-20900564&cm_mmca1=000026UJ&cm_mmca2=10006555&cm_mmca3=M12345678&cvosrc=email.Newsletter.M12345678&cvo_campaign=000026UJ&cm_mmc=Email_Newsletter-\\_-Developer_Ed%2BTech-\\_-WW_WW-\\_-SkillsNetwork-Courses-IBMDeveloperSkillsNetwork-RP0101EN-SkillsNetwork-20900564&cm_mmca1=000026UJ&cm_mmca2=10006555&cm_mmca3=M12345678&cvosrc=email.Newsletter.M12345678&cvo_campaign=000026UJ)\n",
    "*   **cost_millions** - Movie's production cost (millions in USD)\n",
    "*   **foreign** - Is the movie foreign (1) or domestic (0)?\n",
    "*   **age_restriction** - Age restriction for the movie <br>\n"
   ]
  },
  {
   "cell_type": "markdown",
   "metadata": {},
   "source": [
    "<img src = \"https://ibm.box.com/shared/static/6kr8sg0n6pc40zd1xn6hjhtvy3k7cmeq.png\" width = 90% align=\"left\">\n"
   ]
  },
  {
   "cell_type": "markdown",
   "metadata": {},
   "source": [
    "Let's learn how to **import and read data** from two common types of files used to store tabular data (when data is stored in a table or a spreadsheet.)\n",
    "\n",
    "*   **CSV files** (.csv)\n",
    "*   **Excel files** (.xls or .xlsx)\n",
    "\n",
    "To begin, we'll need to **download the data**!\n"
   ]
  },
  {
   "cell_type": "markdown",
   "metadata": {},
   "source": [
    "<a id=\"ref0\"></a>\n",
    "\n",
    "<h2 align=center>Download the Data</h2>\n"
   ]
  },
  {
   "cell_type": "markdown",
   "metadata": {},
   "source": [
    "We've made it easy for you to get the data, which we've hosted online. Simply run the code cell below (Shift + Enter) to download the data to your current folder.\n"
   ]
  },
  {
   "cell_type": "code",
   "execution_count": 1,
   "metadata": {},
   "outputs": [],
   "source": [
    "# Download datasets\n",
    "\n",
    "# CSV file\n",
    "download.file(\"https://cf-courses-data.s3.us.cloud-object-storage.appdomain.cloud/IBMDeveloperSkillsNetwork-RP0101EN-Coursera/v2/dataset/movies-db.csv\", \n",
    "              destfile=\"movies-db.csv\")\n",
    "\n",
    "# XLS file\n",
    "download.file(\"https://cf-courses-data.s3.us.cloud-object-storage.appdomain.cloud/IBMDeveloperSkillsNetwork-RP0101EN-Coursera/v2/dataset/movies-db.xls\", \n",
    "              destfile=\"movies-db.xls\")\n"
   ]
  },
  {
   "cell_type": "markdown",
   "metadata": {},
   "source": [
    "**If you ran the cell above, you have now downloaded the following files to your current folder:**\n",
    "\n",
    "> movies-db.csv\\\n",
    "> movies-db.xls\n"
   ]
  },
  {
   "cell_type": "markdown",
   "metadata": {},
   "source": [
    "<a id=\"ref1\"></a>\n",
    "\n",
    "<center><h2>Reading CSV Files</h2></center>\n"
   ]
  },
  {
   "cell_type": "markdown",
   "metadata": {},
   "source": [
    "#### What are CSV files?\n"
   ]
  },
  {
   "cell_type": "markdown",
   "metadata": {},
   "source": [
    "Let's read data from a CSV file. CSV (Comma Separated Values) is one of the most common formats of structured data you will find. These files contain data in a table format, where in each row, columns are separated by a delimiter -- traditionally, a comma (hence comma-separated values).\n",
    "\n",
    "Usually, the first line in a CSV file contains the column names for the table itself. CSV files are popular because you do not need a particular program to open it.\n"
   ]
  },
  {
   "cell_type": "markdown",
   "metadata": {},
   "source": [
    "#### Reading CSV files in R\n"
   ]
  },
  {
   "cell_type": "markdown",
   "metadata": {},
   "source": [
    "In the **`movies-db.csv`** file, the first line of text is the header (names of each of the columns), followed by rows of movie information.\n",
    "\n",
    "To read CSV files into R, we use the core function **`read.csv`**.\n",
    "\n",
    "`read.csv` easy to use. All you need is the filepath to the CSV file. Let's try loading the file using the filepath to the `movies-db.csv` file we downloaded earlier:\n"
   ]
  },
  {
   "cell_type": "code",
   "execution_count": 2,
   "metadata": {
    "collapsed": false,
    "jupyter": {
     "outputs_hidden": false
    }
   },
   "outputs": [
    {
     "data": {
      "text/html": [
       "<table>\n",
       "<caption>A data.frame: 30 × 8</caption>\n",
       "<thead>\n",
       "\t<tr><th scope=col>name</th><th scope=col>year</th><th scope=col>length_min</th><th scope=col>genre</th><th scope=col>average_rating</th><th scope=col>cost_millions</th><th scope=col>foreign</th><th scope=col>age_restriction</th></tr>\n",
       "\t<tr><th scope=col>&lt;fct&gt;</th><th scope=col>&lt;int&gt;</th><th scope=col>&lt;int&gt;</th><th scope=col>&lt;fct&gt;</th><th scope=col>&lt;dbl&gt;</th><th scope=col>&lt;dbl&gt;</th><th scope=col>&lt;int&gt;</th><th scope=col>&lt;int&gt;</th></tr>\n",
       "</thead>\n",
       "<tbody>\n",
       "\t<tr><td>Toy Story                                </td><td>1995</td><td> 81</td><td>Animation</td><td>8.3</td><td> 30.0</td><td>0</td><td> 0</td></tr>\n",
       "\t<tr><td>Akira                                    </td><td>1998</td><td>125</td><td>Animation</td><td>8.1</td><td> 10.4</td><td>1</td><td>14</td></tr>\n",
       "\t<tr><td>The Breakfast Club                       </td><td>1985</td><td> 97</td><td>Drama    </td><td>7.9</td><td>  1.0</td><td>0</td><td>14</td></tr>\n",
       "\t<tr><td>The Artist                               </td><td>2011</td><td>100</td><td>Romance  </td><td>8.0</td><td> 15.0</td><td>1</td><td>12</td></tr>\n",
       "\t<tr><td>Modern Times                             </td><td>1936</td><td> 87</td><td>Comedy   </td><td>8.6</td><td>  1.5</td><td>0</td><td>10</td></tr>\n",
       "\t<tr><td>Fight Club                               </td><td>1999</td><td>139</td><td>Drama    </td><td>8.9</td><td> 63.0</td><td>0</td><td>18</td></tr>\n",
       "\t<tr><td>City of God                              </td><td>2002</td><td>130</td><td>Crime    </td><td>8.7</td><td>  3.3</td><td>1</td><td>18</td></tr>\n",
       "\t<tr><td>The Untouchables                         </td><td>1987</td><td>119</td><td>Drama    </td><td>7.9</td><td> 25.0</td><td>0</td><td>14</td></tr>\n",
       "\t<tr><td>Star Wars Episode IV                     </td><td>1977</td><td>121</td><td>Action   </td><td>8.7</td><td> 11.0</td><td>0</td><td>10</td></tr>\n",
       "\t<tr><td>American Beauty                          </td><td>1999</td><td>122</td><td>Drama    </td><td>8.4</td><td> 15.0</td><td>0</td><td>14</td></tr>\n",
       "\t<tr><td>Room                                     </td><td>2015</td><td>118</td><td>Drama    </td><td>8.3</td><td> 13.0</td><td>1</td><td>14</td></tr>\n",
       "\t<tr><td>Dr. Strangelove                          </td><td>1964</td><td> 94</td><td>Comedy   </td><td>8.5</td><td>  1.8</td><td>1</td><td>10</td></tr>\n",
       "\t<tr><td>The Ring                                 </td><td>1998</td><td> 95</td><td>Horror   </td><td>7.3</td><td>  1.2</td><td>1</td><td>18</td></tr>\n",
       "\t<tr><td>Monty Python and the Holy Grail          </td><td>1975</td><td> 91</td><td>Comedy   </td><td>8.3</td><td>  0.4</td><td>1</td><td>18</td></tr>\n",
       "\t<tr><td>High School Musical                      </td><td>2006</td><td> 98</td><td>Comedy   </td><td>5.2</td><td>  4.2</td><td>0</td><td> 0</td></tr>\n",
       "\t<tr><td>Shaun of the Dead                        </td><td>2004</td><td> 99</td><td>Horror   </td><td>8.0</td><td>  6.1</td><td>1</td><td>18</td></tr>\n",
       "\t<tr><td>Taxi Driver                              </td><td>1976</td><td>113</td><td>Crime    </td><td>8.3</td><td>  1.3</td><td>1</td><td>14</td></tr>\n",
       "\t<tr><td>The Shawshank Redemption                 </td><td>1994</td><td>142</td><td>Crime    </td><td>9.3</td><td> 25.0</td><td>0</td><td>16</td></tr>\n",
       "\t<tr><td>Interstellar                             </td><td>2014</td><td>169</td><td>Adventure</td><td>8.6</td><td>165.0</td><td>0</td><td>10</td></tr>\n",
       "\t<tr><td>Casino                                   </td><td>1995</td><td>178</td><td>Biography</td><td>8.2</td><td> 50.0</td><td>0</td><td>18</td></tr>\n",
       "\t<tr><td>The Goodfellas                           </td><td>1990</td><td>145</td><td>Biography</td><td>8.7</td><td> 25.0</td><td>0</td><td>14</td></tr>\n",
       "\t<tr><td>Blue is the Warmest Colour               </td><td>2013</td><td>179</td><td>Romance  </td><td>7.8</td><td>  4.5</td><td>1</td><td>18</td></tr>\n",
       "\t<tr><td>Black Swan                               </td><td>2010</td><td>108</td><td>Thriller </td><td>8.0</td><td> 13.0</td><td>0</td><td>16</td></tr>\n",
       "\t<tr><td>Back to the Future                       </td><td>1985</td><td>116</td><td>Sci-fi   </td><td>8.5</td><td> 19.0</td><td>0</td><td> 0</td></tr>\n",
       "\t<tr><td>The Wave                                 </td><td>2008</td><td>107</td><td>Thriller </td><td>7.6</td><td>  5.5</td><td>1</td><td>16</td></tr>\n",
       "\t<tr><td>Whiplash                                 </td><td>2014</td><td>106</td><td>Drama    </td><td>8.5</td><td>  3.3</td><td>1</td><td>12</td></tr>\n",
       "\t<tr><td>The Grand Hotel Budapest                 </td><td>2014</td><td>100</td><td>Crime    </td><td>8.1</td><td> 25.5</td><td>0</td><td>14</td></tr>\n",
       "\t<tr><td>Jumanji                                  </td><td>1995</td><td>104</td><td>Fantasy  </td><td>6.9</td><td> 65.0</td><td>0</td><td>12</td></tr>\n",
       "\t<tr><td>The Eternal Sunshine of the Spotless Mind</td><td>2004</td><td>108</td><td>Drama    </td><td>8.3</td><td> 20.0</td><td>0</td><td>14</td></tr>\n",
       "\t<tr><td>Chicago                                  </td><td>2002</td><td>113</td><td>Comedy   </td><td>7.2</td><td> 45.0</td><td>0</td><td>12</td></tr>\n",
       "</tbody>\n",
       "</table>\n"
      ],
      "text/latex": [
       "A data.frame: 30 × 8\n",
       "\\begin{tabular}{llllllll}\n",
       " name & year & length\\_min & genre & average\\_rating & cost\\_millions & foreign & age\\_restriction\\\\\n",
       " <fct> & <int> & <int> & <fct> & <dbl> & <dbl> & <int> & <int>\\\\\n",
       "\\hline\n",
       "\t Toy Story                                 & 1995 &  81 & Animation & 8.3 &  30.0 & 0 &  0\\\\\n",
       "\t Akira                                     & 1998 & 125 & Animation & 8.1 &  10.4 & 1 & 14\\\\\n",
       "\t The Breakfast Club                        & 1985 &  97 & Drama     & 7.9 &   1.0 & 0 & 14\\\\\n",
       "\t The Artist                                & 2011 & 100 & Romance   & 8.0 &  15.0 & 1 & 12\\\\\n",
       "\t Modern Times                              & 1936 &  87 & Comedy    & 8.6 &   1.5 & 0 & 10\\\\\n",
       "\t Fight Club                                & 1999 & 139 & Drama     & 8.9 &  63.0 & 0 & 18\\\\\n",
       "\t City of God                               & 2002 & 130 & Crime     & 8.7 &   3.3 & 1 & 18\\\\\n",
       "\t The Untouchables                          & 1987 & 119 & Drama     & 7.9 &  25.0 & 0 & 14\\\\\n",
       "\t Star Wars Episode IV                      & 1977 & 121 & Action    & 8.7 &  11.0 & 0 & 10\\\\\n",
       "\t American Beauty                           & 1999 & 122 & Drama     & 8.4 &  15.0 & 0 & 14\\\\\n",
       "\t Room                                      & 2015 & 118 & Drama     & 8.3 &  13.0 & 1 & 14\\\\\n",
       "\t Dr. Strangelove                           & 1964 &  94 & Comedy    & 8.5 &   1.8 & 1 & 10\\\\\n",
       "\t The Ring                                  & 1998 &  95 & Horror    & 7.3 &   1.2 & 1 & 18\\\\\n",
       "\t Monty Python and the Holy Grail           & 1975 &  91 & Comedy    & 8.3 &   0.4 & 1 & 18\\\\\n",
       "\t High School Musical                       & 2006 &  98 & Comedy    & 5.2 &   4.2 & 0 &  0\\\\\n",
       "\t Shaun of the Dead                         & 2004 &  99 & Horror    & 8.0 &   6.1 & 1 & 18\\\\\n",
       "\t Taxi Driver                               & 1976 & 113 & Crime     & 8.3 &   1.3 & 1 & 14\\\\\n",
       "\t The Shawshank Redemption                  & 1994 & 142 & Crime     & 9.3 &  25.0 & 0 & 16\\\\\n",
       "\t Interstellar                              & 2014 & 169 & Adventure & 8.6 & 165.0 & 0 & 10\\\\\n",
       "\t Casino                                    & 1995 & 178 & Biography & 8.2 &  50.0 & 0 & 18\\\\\n",
       "\t The Goodfellas                            & 1990 & 145 & Biography & 8.7 &  25.0 & 0 & 14\\\\\n",
       "\t Blue is the Warmest Colour                & 2013 & 179 & Romance   & 7.8 &   4.5 & 1 & 18\\\\\n",
       "\t Black Swan                                & 2010 & 108 & Thriller  & 8.0 &  13.0 & 0 & 16\\\\\n",
       "\t Back to the Future                        & 1985 & 116 & Sci-fi    & 8.5 &  19.0 & 0 &  0\\\\\n",
       "\t The Wave                                  & 2008 & 107 & Thriller  & 7.6 &   5.5 & 1 & 16\\\\\n",
       "\t Whiplash                                  & 2014 & 106 & Drama     & 8.5 &   3.3 & 1 & 12\\\\\n",
       "\t The Grand Hotel Budapest                  & 2014 & 100 & Crime     & 8.1 &  25.5 & 0 & 14\\\\\n",
       "\t Jumanji                                   & 1995 & 104 & Fantasy   & 6.9 &  65.0 & 0 & 12\\\\\n",
       "\t The Eternal Sunshine of the Spotless Mind & 2004 & 108 & Drama     & 8.3 &  20.0 & 0 & 14\\\\\n",
       "\t Chicago                                   & 2002 & 113 & Comedy    & 7.2 &  45.0 & 0 & 12\\\\\n",
       "\\end{tabular}\n"
      ],
      "text/markdown": [
       "\n",
       "A data.frame: 30 × 8\n",
       "\n",
       "| name &lt;fct&gt; | year &lt;int&gt; | length_min &lt;int&gt; | genre &lt;fct&gt; | average_rating &lt;dbl&gt; | cost_millions &lt;dbl&gt; | foreign &lt;int&gt; | age_restriction &lt;int&gt; |\n",
       "|---|---|---|---|---|---|---|---|\n",
       "| Toy Story                                 | 1995 |  81 | Animation | 8.3 |  30.0 | 0 |  0 |\n",
       "| Akira                                     | 1998 | 125 | Animation | 8.1 |  10.4 | 1 | 14 |\n",
       "| The Breakfast Club                        | 1985 |  97 | Drama     | 7.9 |   1.0 | 0 | 14 |\n",
       "| The Artist                                | 2011 | 100 | Romance   | 8.0 |  15.0 | 1 | 12 |\n",
       "| Modern Times                              | 1936 |  87 | Comedy    | 8.6 |   1.5 | 0 | 10 |\n",
       "| Fight Club                                | 1999 | 139 | Drama     | 8.9 |  63.0 | 0 | 18 |\n",
       "| City of God                               | 2002 | 130 | Crime     | 8.7 |   3.3 | 1 | 18 |\n",
       "| The Untouchables                          | 1987 | 119 | Drama     | 7.9 |  25.0 | 0 | 14 |\n",
       "| Star Wars Episode IV                      | 1977 | 121 | Action    | 8.7 |  11.0 | 0 | 10 |\n",
       "| American Beauty                           | 1999 | 122 | Drama     | 8.4 |  15.0 | 0 | 14 |\n",
       "| Room                                      | 2015 | 118 | Drama     | 8.3 |  13.0 | 1 | 14 |\n",
       "| Dr. Strangelove                           | 1964 |  94 | Comedy    | 8.5 |   1.8 | 1 | 10 |\n",
       "| The Ring                                  | 1998 |  95 | Horror    | 7.3 |   1.2 | 1 | 18 |\n",
       "| Monty Python and the Holy Grail           | 1975 |  91 | Comedy    | 8.3 |   0.4 | 1 | 18 |\n",
       "| High School Musical                       | 2006 |  98 | Comedy    | 5.2 |   4.2 | 0 |  0 |\n",
       "| Shaun of the Dead                         | 2004 |  99 | Horror    | 8.0 |   6.1 | 1 | 18 |\n",
       "| Taxi Driver                               | 1976 | 113 | Crime     | 8.3 |   1.3 | 1 | 14 |\n",
       "| The Shawshank Redemption                  | 1994 | 142 | Crime     | 9.3 |  25.0 | 0 | 16 |\n",
       "| Interstellar                              | 2014 | 169 | Adventure | 8.6 | 165.0 | 0 | 10 |\n",
       "| Casino                                    | 1995 | 178 | Biography | 8.2 |  50.0 | 0 | 18 |\n",
       "| The Goodfellas                            | 1990 | 145 | Biography | 8.7 |  25.0 | 0 | 14 |\n",
       "| Blue is the Warmest Colour                | 2013 | 179 | Romance   | 7.8 |   4.5 | 1 | 18 |\n",
       "| Black Swan                                | 2010 | 108 | Thriller  | 8.0 |  13.0 | 0 | 16 |\n",
       "| Back to the Future                        | 1985 | 116 | Sci-fi    | 8.5 |  19.0 | 0 |  0 |\n",
       "| The Wave                                  | 2008 | 107 | Thriller  | 7.6 |   5.5 | 1 | 16 |\n",
       "| Whiplash                                  | 2014 | 106 | Drama     | 8.5 |   3.3 | 1 | 12 |\n",
       "| The Grand Hotel Budapest                  | 2014 | 100 | Crime     | 8.1 |  25.5 | 0 | 14 |\n",
       "| Jumanji                                   | 1995 | 104 | Fantasy   | 6.9 |  65.0 | 0 | 12 |\n",
       "| The Eternal Sunshine of the Spotless Mind | 2004 | 108 | Drama     | 8.3 |  20.0 | 0 | 14 |\n",
       "| Chicago                                   | 2002 | 113 | Comedy    | 7.2 |  45.0 | 0 | 12 |\n",
       "\n"
      ],
      "text/plain": [
       "   name                                      year length_min genre    \n",
       "1  Toy Story                                 1995  81        Animation\n",
       "2  Akira                                     1998 125        Animation\n",
       "3  The Breakfast Club                        1985  97        Drama    \n",
       "4  The Artist                                2011 100        Romance  \n",
       "5  Modern Times                              1936  87        Comedy   \n",
       "6  Fight Club                                1999 139        Drama    \n",
       "7  City of God                               2002 130        Crime    \n",
       "8  The Untouchables                          1987 119        Drama    \n",
       "9  Star Wars Episode IV                      1977 121        Action   \n",
       "10 American Beauty                           1999 122        Drama    \n",
       "11 Room                                      2015 118        Drama    \n",
       "12 Dr. Strangelove                           1964  94        Comedy   \n",
       "13 The Ring                                  1998  95        Horror   \n",
       "14 Monty Python and the Holy Grail           1975  91        Comedy   \n",
       "15 High School Musical                       2006  98        Comedy   \n",
       "16 Shaun of the Dead                         2004  99        Horror   \n",
       "17 Taxi Driver                               1976 113        Crime    \n",
       "18 The Shawshank Redemption                  1994 142        Crime    \n",
       "19 Interstellar                              2014 169        Adventure\n",
       "20 Casino                                    1995 178        Biography\n",
       "21 The Goodfellas                            1990 145        Biography\n",
       "22 Blue is the Warmest Colour                2013 179        Romance  \n",
       "23 Black Swan                                2010 108        Thriller \n",
       "24 Back to the Future                        1985 116        Sci-fi   \n",
       "25 The Wave                                  2008 107        Thriller \n",
       "26 Whiplash                                  2014 106        Drama    \n",
       "27 The Grand Hotel Budapest                  2014 100        Crime    \n",
       "28 Jumanji                                   1995 104        Fantasy  \n",
       "29 The Eternal Sunshine of the Spotless Mind 2004 108        Drama    \n",
       "30 Chicago                                   2002 113        Comedy   \n",
       "   average_rating cost_millions foreign age_restriction\n",
       "1  8.3             30.0         0        0             \n",
       "2  8.1             10.4         1       14             \n",
       "3  7.9              1.0         0       14             \n",
       "4  8.0             15.0         1       12             \n",
       "5  8.6              1.5         0       10             \n",
       "6  8.9             63.0         0       18             \n",
       "7  8.7              3.3         1       18             \n",
       "8  7.9             25.0         0       14             \n",
       "9  8.7             11.0         0       10             \n",
       "10 8.4             15.0         0       14             \n",
       "11 8.3             13.0         1       14             \n",
       "12 8.5              1.8         1       10             \n",
       "13 7.3              1.2         1       18             \n",
       "14 8.3              0.4         1       18             \n",
       "15 5.2              4.2         0        0             \n",
       "16 8.0              6.1         1       18             \n",
       "17 8.3              1.3         1       14             \n",
       "18 9.3             25.0         0       16             \n",
       "19 8.6            165.0         0       10             \n",
       "20 8.2             50.0         0       18             \n",
       "21 8.7             25.0         0       14             \n",
       "22 7.8              4.5         1       18             \n",
       "23 8.0             13.0         0       16             \n",
       "24 8.5             19.0         0        0             \n",
       "25 7.6              5.5         1       16             \n",
       "26 8.5              3.3         1       12             \n",
       "27 8.1             25.5         0       14             \n",
       "28 6.9             65.0         0       12             \n",
       "29 8.3             20.0         0       14             \n",
       "30 7.2             45.0         0       12             "
      ]
     },
     "metadata": {},
     "output_type": "display_data"
    }
   ],
   "source": [
    "# Load the CSV table into the my_data variable.\n",
    "my_data <- read.csv(\"movies-db.csv\")\n",
    "my_data"
   ]
  },
  {
   "cell_type": "markdown",
   "metadata": {},
   "source": [
    "The data was loaded into the `my_data` variable. But instead of viewing all the data at once, we can use the `head` function to take a look at only the top six rows of our table, like so:\n"
   ]
  },
  {
   "cell_type": "code",
   "execution_count": 3,
   "metadata": {
    "collapsed": false,
    "jupyter": {
     "outputs_hidden": false
    }
   },
   "outputs": [
    {
     "data": {
      "text/html": [
       "<table>\n",
       "<caption>A data.frame: 6 × 8</caption>\n",
       "<thead>\n",
       "\t<tr><th></th><th scope=col>name</th><th scope=col>year</th><th scope=col>length_min</th><th scope=col>genre</th><th scope=col>average_rating</th><th scope=col>cost_millions</th><th scope=col>foreign</th><th scope=col>age_restriction</th></tr>\n",
       "\t<tr><th></th><th scope=col>&lt;fct&gt;</th><th scope=col>&lt;int&gt;</th><th scope=col>&lt;int&gt;</th><th scope=col>&lt;fct&gt;</th><th scope=col>&lt;dbl&gt;</th><th scope=col>&lt;dbl&gt;</th><th scope=col>&lt;int&gt;</th><th scope=col>&lt;int&gt;</th></tr>\n",
       "</thead>\n",
       "<tbody>\n",
       "\t<tr><th scope=row>1</th><td>Toy Story         </td><td>1995</td><td> 81</td><td>Animation</td><td>8.3</td><td>30.0</td><td>0</td><td> 0</td></tr>\n",
       "\t<tr><th scope=row>2</th><td>Akira             </td><td>1998</td><td>125</td><td>Animation</td><td>8.1</td><td>10.4</td><td>1</td><td>14</td></tr>\n",
       "\t<tr><th scope=row>3</th><td>The Breakfast Club</td><td>1985</td><td> 97</td><td>Drama    </td><td>7.9</td><td> 1.0</td><td>0</td><td>14</td></tr>\n",
       "\t<tr><th scope=row>4</th><td>The Artist        </td><td>2011</td><td>100</td><td>Romance  </td><td>8.0</td><td>15.0</td><td>1</td><td>12</td></tr>\n",
       "\t<tr><th scope=row>5</th><td>Modern Times      </td><td>1936</td><td> 87</td><td>Comedy   </td><td>8.6</td><td> 1.5</td><td>0</td><td>10</td></tr>\n",
       "\t<tr><th scope=row>6</th><td>Fight Club        </td><td>1999</td><td>139</td><td>Drama    </td><td>8.9</td><td>63.0</td><td>0</td><td>18</td></tr>\n",
       "</tbody>\n",
       "</table>\n"
      ],
      "text/latex": [
       "A data.frame: 6 × 8\n",
       "\\begin{tabular}{r|llllllll}\n",
       "  & name & year & length\\_min & genre & average\\_rating & cost\\_millions & foreign & age\\_restriction\\\\\n",
       "  & <fct> & <int> & <int> & <fct> & <dbl> & <dbl> & <int> & <int>\\\\\n",
       "\\hline\n",
       "\t1 & Toy Story          & 1995 &  81 & Animation & 8.3 & 30.0 & 0 &  0\\\\\n",
       "\t2 & Akira              & 1998 & 125 & Animation & 8.1 & 10.4 & 1 & 14\\\\\n",
       "\t3 & The Breakfast Club & 1985 &  97 & Drama     & 7.9 &  1.0 & 0 & 14\\\\\n",
       "\t4 & The Artist         & 2011 & 100 & Romance   & 8.0 & 15.0 & 1 & 12\\\\\n",
       "\t5 & Modern Times       & 1936 &  87 & Comedy    & 8.6 &  1.5 & 0 & 10\\\\\n",
       "\t6 & Fight Club         & 1999 & 139 & Drama     & 8.9 & 63.0 & 0 & 18\\\\\n",
       "\\end{tabular}\n"
      ],
      "text/markdown": [
       "\n",
       "A data.frame: 6 × 8\n",
       "\n",
       "| <!--/--> | name &lt;fct&gt; | year &lt;int&gt; | length_min &lt;int&gt; | genre &lt;fct&gt; | average_rating &lt;dbl&gt; | cost_millions &lt;dbl&gt; | foreign &lt;int&gt; | age_restriction &lt;int&gt; |\n",
       "|---|---|---|---|---|---|---|---|---|\n",
       "| 1 | Toy Story          | 1995 |  81 | Animation | 8.3 | 30.0 | 0 |  0 |\n",
       "| 2 | Akira              | 1998 | 125 | Animation | 8.1 | 10.4 | 1 | 14 |\n",
       "| 3 | The Breakfast Club | 1985 |  97 | Drama     | 7.9 |  1.0 | 0 | 14 |\n",
       "| 4 | The Artist         | 2011 | 100 | Romance   | 8.0 | 15.0 | 1 | 12 |\n",
       "| 5 | Modern Times       | 1936 |  87 | Comedy    | 8.6 |  1.5 | 0 | 10 |\n",
       "| 6 | Fight Club         | 1999 | 139 | Drama     | 8.9 | 63.0 | 0 | 18 |\n",
       "\n"
      ],
      "text/plain": [
       "  name               year length_min genre     average_rating cost_millions\n",
       "1 Toy Story          1995  81        Animation 8.3            30.0         \n",
       "2 Akira              1998 125        Animation 8.1            10.4         \n",
       "3 The Breakfast Club 1985  97        Drama     7.9             1.0         \n",
       "4 The Artist         2011 100        Romance   8.0            15.0         \n",
       "5 Modern Times       1936  87        Comedy    8.6             1.5         \n",
       "6 Fight Club         1999 139        Drama     8.9            63.0         \n",
       "  foreign age_restriction\n",
       "1 0        0             \n",
       "2 1       14             \n",
       "3 0       14             \n",
       "4 1       12             \n",
       "5 0       10             \n",
       "6 0       18             "
      ]
     },
     "metadata": {},
     "output_type": "display_data"
    }
   ],
   "source": [
    "# Print out the first six rows of my_data\n",
    "head(my_data)"
   ]
  },
  {
   "cell_type": "markdown",
   "metadata": {},
   "source": [
    "Additionally, you may want to take a look at the **structure** of your newly created table. R provides us with a function that summarizes an entire table's properties, called `str`. Let's try it out.\n"
   ]
  },
  {
   "cell_type": "code",
   "execution_count": 4,
   "metadata": {
    "collapsed": false,
    "jupyter": {
     "outputs_hidden": false
    }
   },
   "outputs": [
    {
     "name": "stdout",
     "output_type": "stream",
     "text": [
      "'data.frame':\t30 obs. of  8 variables:\n",
      " $ name           : Factor w/ 30 levels \"Akira\",\"American Beauty\",..: 29 1 21 20 14 10 8 27 18 2 ...\n",
      " $ year           : int  1995 1998 1985 2011 1936 1999 2002 1987 1977 1999 ...\n",
      " $ length_min     : int  81 125 97 100 87 139 130 119 121 122 ...\n",
      " $ genre          : Factor w/ 12 levels \"Action\",\"Adventure\",..: 3 3 7 10 5 7 6 7 1 7 ...\n",
      " $ average_rating : num  8.3 8.1 7.9 8 8.6 8.9 8.7 7.9 8.7 8.4 ...\n",
      " $ cost_millions  : num  30 10.4 1 15 1.5 63 3.3 25 11 15 ...\n",
      " $ foreign        : int  0 1 0 1 0 0 1 0 0 0 ...\n",
      " $ age_restriction: int  0 14 14 12 10 18 18 14 10 14 ...\n"
     ]
    }
   ],
   "source": [
    "# Prints out the structure of your table.\n",
    "str(my_data)"
   ]
  },
  {
   "cell_type": "markdown",
   "metadata": {},
   "source": [
    "When we loaded the file with the `read.csv` function, we had to only pass it one parameter -- the **path** to our desired file.\n"
   ]
  },
  {
   "cell_type": "markdown",
   "metadata": {},
   "source": [
    "<hr>\n",
    "\n",
    "**Coding Exercise:** in the code cell below, get the summary of my_data data frame\n"
   ]
  },
  {
   "cell_type": "code",
   "execution_count": 5,
   "metadata": {},
   "outputs": [
    {
     "data": {
      "text/plain": [
       "                         name         year        length_min           genre  \n",
       " Akira                     : 1   Min.   :1936   Min.   : 81.00   Drama    :7  \n",
       " American Beauty           : 1   1st Qu.:1988   1st Qu.: 99.25   Comedy   :5  \n",
       " Back to the Future        : 1   Median :1998   Median :110.50   Crime    :4  \n",
       " Black Swan                : 1   Mean   :1996   Mean   :116.80   Animation:2  \n",
       " Blue is the Warmest Colour: 1   3rd Qu.:2008   3rd Qu.:124.25   Biography:2  \n",
       " Casino                    : 1   Max.   :2015   Max.   :179.00   Horror   :2  \n",
       " (Other)                   :24                                   (Other)  :8  \n",
       " average_rating  cost_millions        foreign    age_restriction\n",
       " Min.   :5.200   Min.   :  0.400   Min.   :0.0   Min.   : 0.00  \n",
       " 1st Qu.:7.925   1st Qu.:  3.525   1st Qu.:0.0   1st Qu.:12.00  \n",
       " Median :8.300   Median : 13.000   Median :0.0   Median :14.00  \n",
       " Mean   :8.103   Mean   : 22.300   Mean   :0.4   Mean   :12.93  \n",
       " 3rd Qu.:8.500   3rd Qu.: 25.000   3rd Qu.:1.0   3rd Qu.:16.00  \n",
       " Max.   :9.300   Max.   :165.000   Max.   :1.0   Max.   :18.00  \n",
       "                                                                "
      ]
     },
     "metadata": {},
     "output_type": "display_data"
    }
   ],
   "source": [
    "# Write your code below. Don't forget to press Shift+Enter to execute the cell\n",
    "summary(my_data)"
   ]
  },
  {
   "cell_type": "markdown",
   "metadata": {},
   "source": [
    "<details><summary>Click here for the solution</summary>\n",
    "\n",
    "```R\n",
    "summary(my_data)\n",
    "\n",
    "```\n",
    "\n",
    "</details>\n",
    "\n",
    "<hr>\n"
   ]
  },
  {
   "cell_type": "markdown",
   "metadata": {},
   "source": [
    "<a id=\"ref2\"></a>\n",
    "\n",
    "<center><h2>Reading Excel Files</h2></center>\n"
   ]
  },
  {
   "cell_type": "markdown",
   "metadata": {},
   "source": [
    "Reading XLS (Excel Spreadsheet) files is similar to reading CSV files, but there's one catch -- R does not have a native function to read them. However, thankfully, R has an extremely large repository of user-created functions, called *CRAN*. From there, we can download a library package to make us able to read XLS files.\n",
    "\n",
    "To download a package, we use the `install.packages` function (may take minutes because it is a big library). Once installed, you do not need to install that same library ever again, unless, of course, you uninstall it.\n"
   ]
  },
  {
   "cell_type": "markdown",
   "metadata": {},
   "source": [
    "Whenever you are going to use a library that is not native to R, you have to load it into the R environment after you install it. In other words, you need to install once only, but to use it, you must load it into R for every new session. To do so, use the `library` function, which loads up everything we can use in that library into R.\n"
   ]
  },
  {
   "cell_type": "code",
   "execution_count": 6,
   "metadata": {
    "collapsed": false,
    "jupyter": {
     "outputs_hidden": false
    }
   },
   "outputs": [],
   "source": [
    "# Load the \"readxl\" library into the R environment.\n",
    "library(readxl)"
   ]
  },
  {
   "cell_type": "markdown",
   "metadata": {},
   "source": [
    "Now that we have our library and its functions ready, we can move on to actually reading the file. In `readxl`, there is a function called `read_excel`, which does all the work for us. You can use it like this:\n"
   ]
  },
  {
   "cell_type": "code",
   "execution_count": 7,
   "metadata": {
    "collapsed": false,
    "jupyter": {
     "outputs_hidden": false
    }
   },
   "outputs": [],
   "source": [
    "# Read data from the XLS file and attribute the table to the my_excel_data variable.\n",
    "my_excel_data <- read_excel(\"movies-db.xls\")"
   ]
  },
  {
   "cell_type": "markdown",
   "metadata": {},
   "source": [
    "Since `my_excel_data` is now a dataframe in R, much like the one we created out of the CSV file, all of the native R functions can be applied to it, like `head` and `str`.\n"
   ]
  },
  {
   "cell_type": "code",
   "execution_count": 8,
   "metadata": {
    "collapsed": false,
    "jupyter": {
     "outputs_hidden": false
    }
   },
   "outputs": [
    {
     "name": "stdout",
     "output_type": "stream",
     "text": [
      "tibble [30 × 8] (S3: tbl_df/tbl/data.frame)\n",
      " $ name           : chr [1:30] \"Toy Story\" \"Akira\" \"The Breakfast Club\" \"The Artist\" ...\n",
      " $ year           : num [1:30] 1995 1998 1985 2011 1936 ...\n",
      " $ length_min     : num [1:30] 81 125 97 100 87 139 130 119 121 122 ...\n",
      " $ genre          : chr [1:30] \"Animation\" \"Animation\" \"Drama\" \"Romance\" ...\n",
      " $ average_rating : num [1:30] 8.3 8.1 7.9 8 8.6 8.9 8.7 7.9 8.7 8.4 ...\n",
      " $ cost_millions  : num [1:30] 30 10.4 1 15 1.5 63 3.3 25 11 15 ...\n",
      " $ foreign        : num [1:30] 0 1 0 1 0 0 1 0 0 0 ...\n",
      " $ age_restriction: num [1:30] 0 14 14 12 10 18 18 14 10 14 ...\n"
     ]
    }
   ],
   "source": [
    "# Prints out the structure of your table.\n",
    "# Tells you how many rows and columns there are, and the names and type of each column.\n",
    "# This should be the very same as the other table we created, as they are the same dataset.\n",
    "str(my_excel_data)"
   ]
  },
  {
   "cell_type": "markdown",
   "metadata": {},
   "source": [
    "Much like the `read.csv` function, `read_excel` takes as its main parameter the **path** to the desired file.\n"
   ]
  },
  {
   "cell_type": "markdown",
   "metadata": {},
   "source": [
    "<div class=\"alert alert-success alertsuccess\">\n",
    "<b>[Tip]</b>   \n",
    "A library is basically a collection of different classes and functions which are used to perform some specific operations. You can install and use libraries to add more functions that are not included on the core R files.\n",
    "For example, the readxl library adds functions to read data from excel files.\n",
    "<br><br>\n",
    "It's important to know that there are many other libraries too which can be used for a variety of things. There are also plenty of other libraries to read Excel files -- readxl is just one of them.\n",
    "</div>\n"
   ]
  },
  {
   "cell_type": "markdown",
   "metadata": {},
   "source": [
    "***\n"
   ]
  },
  {
   "cell_type": "markdown",
   "metadata": {},
   "source": [
    "<center><h2>Accessing Rows and Columns</h2></center>\n"
   ]
  },
  {
   "cell_type": "markdown",
   "metadata": {},
   "source": [
    "Whenever we use functions to read tabular data in R, the default method of structuring this data in the R environment is using Data Frames -- R's primary data structure. Data Frames are extremely versatile, and R presents us many options to manipulate them.\n",
    "\n",
    "Suppose we want to access the \"name\" column of our dataset. We can directly reference the column name on our data frame to retrieve this data, like this:\n"
   ]
  },
  {
   "cell_type": "code",
   "execution_count": 9,
   "metadata": {
    "collapsed": false,
    "jupyter": {
     "outputs_hidden": false
    }
   },
   "outputs": [
    {
     "data": {
      "text/html": [
       "<table>\n",
       "<caption>A data.frame: 30 × 1</caption>\n",
       "<thead>\n",
       "\t<tr><th scope=col>name</th></tr>\n",
       "\t<tr><th scope=col>&lt;fct&gt;</th></tr>\n",
       "</thead>\n",
       "<tbody>\n",
       "\t<tr><td>Toy Story                                </td></tr>\n",
       "\t<tr><td>Akira                                    </td></tr>\n",
       "\t<tr><td>The Breakfast Club                       </td></tr>\n",
       "\t<tr><td>The Artist                               </td></tr>\n",
       "\t<tr><td>Modern Times                             </td></tr>\n",
       "\t<tr><td>Fight Club                               </td></tr>\n",
       "\t<tr><td>City of God                              </td></tr>\n",
       "\t<tr><td>The Untouchables                         </td></tr>\n",
       "\t<tr><td>Star Wars Episode IV                     </td></tr>\n",
       "\t<tr><td>American Beauty                          </td></tr>\n",
       "\t<tr><td>Room                                     </td></tr>\n",
       "\t<tr><td>Dr. Strangelove                          </td></tr>\n",
       "\t<tr><td>The Ring                                 </td></tr>\n",
       "\t<tr><td>Monty Python and the Holy Grail          </td></tr>\n",
       "\t<tr><td>High School Musical                      </td></tr>\n",
       "\t<tr><td>Shaun of the Dead                        </td></tr>\n",
       "\t<tr><td>Taxi Driver                              </td></tr>\n",
       "\t<tr><td>The Shawshank Redemption                 </td></tr>\n",
       "\t<tr><td>Interstellar                             </td></tr>\n",
       "\t<tr><td>Casino                                   </td></tr>\n",
       "\t<tr><td>The Goodfellas                           </td></tr>\n",
       "\t<tr><td>Blue is the Warmest Colour               </td></tr>\n",
       "\t<tr><td>Black Swan                               </td></tr>\n",
       "\t<tr><td>Back to the Future                       </td></tr>\n",
       "\t<tr><td>The Wave                                 </td></tr>\n",
       "\t<tr><td>Whiplash                                 </td></tr>\n",
       "\t<tr><td>The Grand Hotel Budapest                 </td></tr>\n",
       "\t<tr><td>Jumanji                                  </td></tr>\n",
       "\t<tr><td>The Eternal Sunshine of the Spotless Mind</td></tr>\n",
       "\t<tr><td>Chicago                                  </td></tr>\n",
       "</tbody>\n",
       "</table>\n"
      ],
      "text/latex": [
       "A data.frame: 30 × 1\n",
       "\\begin{tabular}{l}\n",
       " name\\\\\n",
       " <fct>\\\\\n",
       "\\hline\n",
       "\t Toy Story                                \\\\\n",
       "\t Akira                                    \\\\\n",
       "\t The Breakfast Club                       \\\\\n",
       "\t The Artist                               \\\\\n",
       "\t Modern Times                             \\\\\n",
       "\t Fight Club                               \\\\\n",
       "\t City of God                              \\\\\n",
       "\t The Untouchables                         \\\\\n",
       "\t Star Wars Episode IV                     \\\\\n",
       "\t American Beauty                          \\\\\n",
       "\t Room                                     \\\\\n",
       "\t Dr. Strangelove                          \\\\\n",
       "\t The Ring                                 \\\\\n",
       "\t Monty Python and the Holy Grail          \\\\\n",
       "\t High School Musical                      \\\\\n",
       "\t Shaun of the Dead                        \\\\\n",
       "\t Taxi Driver                              \\\\\n",
       "\t The Shawshank Redemption                 \\\\\n",
       "\t Interstellar                             \\\\\n",
       "\t Casino                                   \\\\\n",
       "\t The Goodfellas                           \\\\\n",
       "\t Blue is the Warmest Colour               \\\\\n",
       "\t Black Swan                               \\\\\n",
       "\t Back to the Future                       \\\\\n",
       "\t The Wave                                 \\\\\n",
       "\t Whiplash                                 \\\\\n",
       "\t The Grand Hotel Budapest                 \\\\\n",
       "\t Jumanji                                  \\\\\n",
       "\t The Eternal Sunshine of the Spotless Mind\\\\\n",
       "\t Chicago                                  \\\\\n",
       "\\end{tabular}\n"
      ],
      "text/markdown": [
       "\n",
       "A data.frame: 30 × 1\n",
       "\n",
       "| name &lt;fct&gt; |\n",
       "|---|\n",
       "| Toy Story                                 |\n",
       "| Akira                                     |\n",
       "| The Breakfast Club                        |\n",
       "| The Artist                                |\n",
       "| Modern Times                              |\n",
       "| Fight Club                                |\n",
       "| City of God                               |\n",
       "| The Untouchables                          |\n",
       "| Star Wars Episode IV                      |\n",
       "| American Beauty                           |\n",
       "| Room                                      |\n",
       "| Dr. Strangelove                           |\n",
       "| The Ring                                  |\n",
       "| Monty Python and the Holy Grail           |\n",
       "| High School Musical                       |\n",
       "| Shaun of the Dead                         |\n",
       "| Taxi Driver                               |\n",
       "| The Shawshank Redemption                  |\n",
       "| Interstellar                              |\n",
       "| Casino                                    |\n",
       "| The Goodfellas                            |\n",
       "| Blue is the Warmest Colour                |\n",
       "| Black Swan                                |\n",
       "| Back to the Future                        |\n",
       "| The Wave                                  |\n",
       "| Whiplash                                  |\n",
       "| The Grand Hotel Budapest                  |\n",
       "| Jumanji                                   |\n",
       "| The Eternal Sunshine of the Spotless Mind |\n",
       "| Chicago                                   |\n",
       "\n"
      ],
      "text/plain": [
       "   name                                     \n",
       "1  Toy Story                                \n",
       "2  Akira                                    \n",
       "3  The Breakfast Club                       \n",
       "4  The Artist                               \n",
       "5  Modern Times                             \n",
       "6  Fight Club                               \n",
       "7  City of God                              \n",
       "8  The Untouchables                         \n",
       "9  Star Wars Episode IV                     \n",
       "10 American Beauty                          \n",
       "11 Room                                     \n",
       "12 Dr. Strangelove                          \n",
       "13 The Ring                                 \n",
       "14 Monty Python and the Holy Grail          \n",
       "15 High School Musical                      \n",
       "16 Shaun of the Dead                        \n",
       "17 Taxi Driver                              \n",
       "18 The Shawshank Redemption                 \n",
       "19 Interstellar                             \n",
       "20 Casino                                   \n",
       "21 The Goodfellas                           \n",
       "22 Blue is the Warmest Colour               \n",
       "23 Black Swan                               \n",
       "24 Back to the Future                       \n",
       "25 The Wave                                 \n",
       "26 Whiplash                                 \n",
       "27 The Grand Hotel Budapest                 \n",
       "28 Jumanji                                  \n",
       "29 The Eternal Sunshine of the Spotless Mind\n",
       "30 Chicago                                  "
      ]
     },
     "metadata": {},
     "output_type": "display_data"
    }
   ],
   "source": [
    "# Retrieve a subset of the data frame consisting of the \"name\" columns\n",
    "my_data['name']"
   ]
  },
  {
   "cell_type": "markdown",
   "metadata": {},
   "source": [
    "Another way to do this is by using the `$` notation which at the output will provide a vector:\n"
   ]
  },
  {
   "cell_type": "code",
   "execution_count": 10,
   "metadata": {
    "collapsed": false,
    "jupyter": {
     "outputs_hidden": false
    }
   },
   "outputs": [
    {
     "data": {
      "text/html": [
       "<style>\n",
       ".list-inline {list-style: none; margin:0; padding: 0}\n",
       ".list-inline>li {display: inline-block}\n",
       ".list-inline>li:not(:last-child)::after {content: \"\\00b7\"; padding: 0 .5ex}\n",
       "</style>\n",
       "<ol class=list-inline><li>Toy Story</li><li>Akira</li><li>The Breakfast Club</li><li>The Artist</li><li>Modern Times</li><li>Fight Club</li><li>City of God</li><li>The Untouchables</li><li>Star Wars Episode IV</li><li>American Beauty</li><li>Room</li><li>Dr. Strangelove</li><li>The Ring</li><li>Monty Python and the Holy Grail</li><li>High School Musical</li><li>Shaun of the Dead</li><li>Taxi Driver</li><li>The Shawshank Redemption</li><li>Interstellar</li><li>Casino</li><li>The Goodfellas</li><li>Blue is the Warmest Colour</li><li>Black Swan</li><li>Back to the Future</li><li>The Wave</li><li>Whiplash</li><li>The Grand Hotel Budapest</li><li>Jumanji</li><li>The Eternal Sunshine of the Spotless Mind</li><li>Chicago</li></ol>\n",
       "\n",
       "<details>\n",
       "\t<summary style=display:list-item;cursor:pointer>\n",
       "\t\t<strong>Levels</strong>:\n",
       "\t</summary>\n",
       "\t<style>\n",
       "\t.list-inline {list-style: none; margin:0; padding: 0}\n",
       "\t.list-inline>li {display: inline-block}\n",
       "\t.list-inline>li:not(:last-child)::after {content: \"\\00b7\"; padding: 0 .5ex}\n",
       "\t</style>\n",
       "\t<ol class=list-inline><li>'Akira'</li><li>'American Beauty'</li><li>'Back to the Future'</li><li>'Black Swan'</li><li>'Blue is the Warmest Colour'</li><li>'Casino'</li><li>'Chicago'</li><li>'City of God'</li><li>'Dr. Strangelove'</li><li>'Fight Club'</li><li>'High School Musical'</li><li>'Interstellar'</li><li>'Jumanji'</li><li>'Modern Times'</li><li>'Monty Python and the Holy Grail'</li><li>'Room'</li><li>'Shaun of the Dead'</li><li>'Star Wars Episode IV'</li><li>'Taxi Driver'</li><li>'The Artist'</li><li>'The Breakfast Club'</li><li>'The Eternal Sunshine of the Spotless Mind'</li><li>'The Goodfellas'</li><li>'The Grand Hotel Budapest'</li><li>'The Ring'</li><li>'The Shawshank Redemption'</li><li>'The Untouchables'</li><li>'The Wave'</li><li>'Toy Story'</li><li>'Whiplash'</li></ol>\n",
       "</details>"
      ],
      "text/latex": [
       "\\begin{enumerate*}\n",
       "\\item Toy Story\n",
       "\\item Akira\n",
       "\\item The Breakfast Club\n",
       "\\item The Artist\n",
       "\\item Modern Times\n",
       "\\item Fight Club\n",
       "\\item City of God\n",
       "\\item The Untouchables\n",
       "\\item Star Wars Episode IV\n",
       "\\item American Beauty\n",
       "\\item Room\n",
       "\\item Dr. Strangelove\n",
       "\\item The Ring\n",
       "\\item Monty Python and the Holy Grail\n",
       "\\item High School Musical\n",
       "\\item Shaun of the Dead\n",
       "\\item Taxi Driver\n",
       "\\item The Shawshank Redemption\n",
       "\\item Interstellar\n",
       "\\item Casino\n",
       "\\item The Goodfellas\n",
       "\\item Blue is the Warmest Colour\n",
       "\\item Black Swan\n",
       "\\item Back to the Future\n",
       "\\item The Wave\n",
       "\\item Whiplash\n",
       "\\item The Grand Hotel Budapest\n",
       "\\item Jumanji\n",
       "\\item The Eternal Sunshine of the Spotless Mind\n",
       "\\item Chicago\n",
       "\\end{enumerate*}\n",
       "\n",
       "\\emph{Levels}: \\begin{enumerate*}\n",
       "\\item 'Akira'\n",
       "\\item 'American Beauty'\n",
       "\\item 'Back to the Future'\n",
       "\\item 'Black Swan'\n",
       "\\item 'Blue is the Warmest Colour'\n",
       "\\item 'Casino'\n",
       "\\item 'Chicago'\n",
       "\\item 'City of God'\n",
       "\\item 'Dr. Strangelove'\n",
       "\\item 'Fight Club'\n",
       "\\item 'High School Musical'\n",
       "\\item 'Interstellar'\n",
       "\\item 'Jumanji'\n",
       "\\item 'Modern Times'\n",
       "\\item 'Monty Python and the Holy Grail'\n",
       "\\item 'Room'\n",
       "\\item 'Shaun of the Dead'\n",
       "\\item 'Star Wars Episode IV'\n",
       "\\item 'Taxi Driver'\n",
       "\\item 'The Artist'\n",
       "\\item 'The Breakfast Club'\n",
       "\\item 'The Eternal Sunshine of the Spotless Mind'\n",
       "\\item 'The Goodfellas'\n",
       "\\item 'The Grand Hotel Budapest'\n",
       "\\item 'The Ring'\n",
       "\\item 'The Shawshank Redemption'\n",
       "\\item 'The Untouchables'\n",
       "\\item 'The Wave'\n",
       "\\item 'Toy Story'\n",
       "\\item 'Whiplash'\n",
       "\\end{enumerate*}\n"
      ],
      "text/markdown": [
       "1. Toy Story\n",
       "2. Akira\n",
       "3. The Breakfast Club\n",
       "4. The Artist\n",
       "5. Modern Times\n",
       "6. Fight Club\n",
       "7. City of God\n",
       "8. The Untouchables\n",
       "9. Star Wars Episode IV\n",
       "10. American Beauty\n",
       "11. Room\n",
       "12. Dr. Strangelove\n",
       "13. The Ring\n",
       "14. Monty Python and the Holy Grail\n",
       "15. High School Musical\n",
       "16. Shaun of the Dead\n",
       "17. Taxi Driver\n",
       "18. The Shawshank Redemption\n",
       "19. Interstellar\n",
       "20. Casino\n",
       "21. The Goodfellas\n",
       "22. Blue is the Warmest Colour\n",
       "23. Black Swan\n",
       "24. Back to the Future\n",
       "25. The Wave\n",
       "26. Whiplash\n",
       "27. The Grand Hotel Budapest\n",
       "28. Jumanji\n",
       "29. The Eternal Sunshine of the Spotless Mind\n",
       "30. Chicago\n",
       "\n",
       "\n",
       "\n",
       "**Levels**: 1. 'Akira'\n",
       "2. 'American Beauty'\n",
       "3. 'Back to the Future'\n",
       "4. 'Black Swan'\n",
       "5. 'Blue is the Warmest Colour'\n",
       "6. 'Casino'\n",
       "7. 'Chicago'\n",
       "8. 'City of God'\n",
       "9. 'Dr. Strangelove'\n",
       "10. 'Fight Club'\n",
       "11. 'High School Musical'\n",
       "12. 'Interstellar'\n",
       "13. 'Jumanji'\n",
       "14. 'Modern Times'\n",
       "15. 'Monty Python and the Holy Grail'\n",
       "16. 'Room'\n",
       "17. 'Shaun of the Dead'\n",
       "18. 'Star Wars Episode IV'\n",
       "19. 'Taxi Driver'\n",
       "20. 'The Artist'\n",
       "21. 'The Breakfast Club'\n",
       "22. 'The Eternal Sunshine of the Spotless Mind'\n",
       "23. 'The Goodfellas'\n",
       "24. 'The Grand Hotel Budapest'\n",
       "25. 'The Ring'\n",
       "26. 'The Shawshank Redemption'\n",
       "27. 'The Untouchables'\n",
       "28. 'The Wave'\n",
       "29. 'Toy Story'\n",
       "30. 'Whiplash'\n",
       "\n",
       "\n"
      ],
      "text/plain": [
       " [1] Toy Story                                \n",
       " [2] Akira                                    \n",
       " [3] The Breakfast Club                       \n",
       " [4] The Artist                               \n",
       " [5] Modern Times                             \n",
       " [6] Fight Club                               \n",
       " [7] City of God                              \n",
       " [8] The Untouchables                         \n",
       " [9] Star Wars Episode IV                     \n",
       "[10] American Beauty                          \n",
       "[11] Room                                     \n",
       "[12] Dr. Strangelove                          \n",
       "[13] The Ring                                 \n",
       "[14] Monty Python and the Holy Grail          \n",
       "[15] High School Musical                      \n",
       "[16] Shaun of the Dead                        \n",
       "[17] Taxi Driver                              \n",
       "[18] The Shawshank Redemption                 \n",
       "[19] Interstellar                             \n",
       "[20] Casino                                   \n",
       "[21] The Goodfellas                           \n",
       "[22] Blue is the Warmest Colour               \n",
       "[23] Black Swan                               \n",
       "[24] Back to the Future                       \n",
       "[25] The Wave                                 \n",
       "[26] Whiplash                                 \n",
       "[27] The Grand Hotel Budapest                 \n",
       "[28] Jumanji                                  \n",
       "[29] The Eternal Sunshine of the Spotless Mind\n",
       "[30] Chicago                                  \n",
       "30 Levels: Akira American Beauty Back to the Future ... Whiplash"
      ]
     },
     "metadata": {},
     "output_type": "display_data"
    }
   ],
   "source": [
    "# Retrieve the data for the \"name\" column in the data frame.\n",
    "my_data$name"
   ]
  },
  {
   "cell_type": "markdown",
   "metadata": {},
   "source": [
    "You can also do the same thing using **double square brackets**, to get a vector of `names` column.\n"
   ]
  },
  {
   "cell_type": "code",
   "execution_count": 11,
   "metadata": {
    "collapsed": false,
    "jupyter": {
     "outputs_hidden": false
    }
   },
   "outputs": [
    {
     "data": {
      "text/html": [
       "<style>\n",
       ".list-inline {list-style: none; margin:0; padding: 0}\n",
       ".list-inline>li {display: inline-block}\n",
       ".list-inline>li:not(:last-child)::after {content: \"\\00b7\"; padding: 0 .5ex}\n",
       "</style>\n",
       "<ol class=list-inline><li>Toy Story</li><li>Akira</li><li>The Breakfast Club</li><li>The Artist</li><li>Modern Times</li><li>Fight Club</li><li>City of God</li><li>The Untouchables</li><li>Star Wars Episode IV</li><li>American Beauty</li><li>Room</li><li>Dr. Strangelove</li><li>The Ring</li><li>Monty Python and the Holy Grail</li><li>High School Musical</li><li>Shaun of the Dead</li><li>Taxi Driver</li><li>The Shawshank Redemption</li><li>Interstellar</li><li>Casino</li><li>The Goodfellas</li><li>Blue is the Warmest Colour</li><li>Black Swan</li><li>Back to the Future</li><li>The Wave</li><li>Whiplash</li><li>The Grand Hotel Budapest</li><li>Jumanji</li><li>The Eternal Sunshine of the Spotless Mind</li><li>Chicago</li></ol>\n",
       "\n",
       "<details>\n",
       "\t<summary style=display:list-item;cursor:pointer>\n",
       "\t\t<strong>Levels</strong>:\n",
       "\t</summary>\n",
       "\t<style>\n",
       "\t.list-inline {list-style: none; margin:0; padding: 0}\n",
       "\t.list-inline>li {display: inline-block}\n",
       "\t.list-inline>li:not(:last-child)::after {content: \"\\00b7\"; padding: 0 .5ex}\n",
       "\t</style>\n",
       "\t<ol class=list-inline><li>'Akira'</li><li>'American Beauty'</li><li>'Back to the Future'</li><li>'Black Swan'</li><li>'Blue is the Warmest Colour'</li><li>'Casino'</li><li>'Chicago'</li><li>'City of God'</li><li>'Dr. Strangelove'</li><li>'Fight Club'</li><li>'High School Musical'</li><li>'Interstellar'</li><li>'Jumanji'</li><li>'Modern Times'</li><li>'Monty Python and the Holy Grail'</li><li>'Room'</li><li>'Shaun of the Dead'</li><li>'Star Wars Episode IV'</li><li>'Taxi Driver'</li><li>'The Artist'</li><li>'The Breakfast Club'</li><li>'The Eternal Sunshine of the Spotless Mind'</li><li>'The Goodfellas'</li><li>'The Grand Hotel Budapest'</li><li>'The Ring'</li><li>'The Shawshank Redemption'</li><li>'The Untouchables'</li><li>'The Wave'</li><li>'Toy Story'</li><li>'Whiplash'</li></ol>\n",
       "</details>"
      ],
      "text/latex": [
       "\\begin{enumerate*}\n",
       "\\item Toy Story\n",
       "\\item Akira\n",
       "\\item The Breakfast Club\n",
       "\\item The Artist\n",
       "\\item Modern Times\n",
       "\\item Fight Club\n",
       "\\item City of God\n",
       "\\item The Untouchables\n",
       "\\item Star Wars Episode IV\n",
       "\\item American Beauty\n",
       "\\item Room\n",
       "\\item Dr. Strangelove\n",
       "\\item The Ring\n",
       "\\item Monty Python and the Holy Grail\n",
       "\\item High School Musical\n",
       "\\item Shaun of the Dead\n",
       "\\item Taxi Driver\n",
       "\\item The Shawshank Redemption\n",
       "\\item Interstellar\n",
       "\\item Casino\n",
       "\\item The Goodfellas\n",
       "\\item Blue is the Warmest Colour\n",
       "\\item Black Swan\n",
       "\\item Back to the Future\n",
       "\\item The Wave\n",
       "\\item Whiplash\n",
       "\\item The Grand Hotel Budapest\n",
       "\\item Jumanji\n",
       "\\item The Eternal Sunshine of the Spotless Mind\n",
       "\\item Chicago\n",
       "\\end{enumerate*}\n",
       "\n",
       "\\emph{Levels}: \\begin{enumerate*}\n",
       "\\item 'Akira'\n",
       "\\item 'American Beauty'\n",
       "\\item 'Back to the Future'\n",
       "\\item 'Black Swan'\n",
       "\\item 'Blue is the Warmest Colour'\n",
       "\\item 'Casino'\n",
       "\\item 'Chicago'\n",
       "\\item 'City of God'\n",
       "\\item 'Dr. Strangelove'\n",
       "\\item 'Fight Club'\n",
       "\\item 'High School Musical'\n",
       "\\item 'Interstellar'\n",
       "\\item 'Jumanji'\n",
       "\\item 'Modern Times'\n",
       "\\item 'Monty Python and the Holy Grail'\n",
       "\\item 'Room'\n",
       "\\item 'Shaun of the Dead'\n",
       "\\item 'Star Wars Episode IV'\n",
       "\\item 'Taxi Driver'\n",
       "\\item 'The Artist'\n",
       "\\item 'The Breakfast Club'\n",
       "\\item 'The Eternal Sunshine of the Spotless Mind'\n",
       "\\item 'The Goodfellas'\n",
       "\\item 'The Grand Hotel Budapest'\n",
       "\\item 'The Ring'\n",
       "\\item 'The Shawshank Redemption'\n",
       "\\item 'The Untouchables'\n",
       "\\item 'The Wave'\n",
       "\\item 'Toy Story'\n",
       "\\item 'Whiplash'\n",
       "\\end{enumerate*}\n"
      ],
      "text/markdown": [
       "1. Toy Story\n",
       "2. Akira\n",
       "3. The Breakfast Club\n",
       "4. The Artist\n",
       "5. Modern Times\n",
       "6. Fight Club\n",
       "7. City of God\n",
       "8. The Untouchables\n",
       "9. Star Wars Episode IV\n",
       "10. American Beauty\n",
       "11. Room\n",
       "12. Dr. Strangelove\n",
       "13. The Ring\n",
       "14. Monty Python and the Holy Grail\n",
       "15. High School Musical\n",
       "16. Shaun of the Dead\n",
       "17. Taxi Driver\n",
       "18. The Shawshank Redemption\n",
       "19. Interstellar\n",
       "20. Casino\n",
       "21. The Goodfellas\n",
       "22. Blue is the Warmest Colour\n",
       "23. Black Swan\n",
       "24. Back to the Future\n",
       "25. The Wave\n",
       "26. Whiplash\n",
       "27. The Grand Hotel Budapest\n",
       "28. Jumanji\n",
       "29. The Eternal Sunshine of the Spotless Mind\n",
       "30. Chicago\n",
       "\n",
       "\n",
       "\n",
       "**Levels**: 1. 'Akira'\n",
       "2. 'American Beauty'\n",
       "3. 'Back to the Future'\n",
       "4. 'Black Swan'\n",
       "5. 'Blue is the Warmest Colour'\n",
       "6. 'Casino'\n",
       "7. 'Chicago'\n",
       "8. 'City of God'\n",
       "9. 'Dr. Strangelove'\n",
       "10. 'Fight Club'\n",
       "11. 'High School Musical'\n",
       "12. 'Interstellar'\n",
       "13. 'Jumanji'\n",
       "14. 'Modern Times'\n",
       "15. 'Monty Python and the Holy Grail'\n",
       "16. 'Room'\n",
       "17. 'Shaun of the Dead'\n",
       "18. 'Star Wars Episode IV'\n",
       "19. 'Taxi Driver'\n",
       "20. 'The Artist'\n",
       "21. 'The Breakfast Club'\n",
       "22. 'The Eternal Sunshine of the Spotless Mind'\n",
       "23. 'The Goodfellas'\n",
       "24. 'The Grand Hotel Budapest'\n",
       "25. 'The Ring'\n",
       "26. 'The Shawshank Redemption'\n",
       "27. 'The Untouchables'\n",
       "28. 'The Wave'\n",
       "29. 'Toy Story'\n",
       "30. 'Whiplash'\n",
       "\n",
       "\n"
      ],
      "text/plain": [
       " [1] Toy Story                                \n",
       " [2] Akira                                    \n",
       " [3] The Breakfast Club                       \n",
       " [4] The Artist                               \n",
       " [5] Modern Times                             \n",
       " [6] Fight Club                               \n",
       " [7] City of God                              \n",
       " [8] The Untouchables                         \n",
       " [9] Star Wars Episode IV                     \n",
       "[10] American Beauty                          \n",
       "[11] Room                                     \n",
       "[12] Dr. Strangelove                          \n",
       "[13] The Ring                                 \n",
       "[14] Monty Python and the Holy Grail          \n",
       "[15] High School Musical                      \n",
       "[16] Shaun of the Dead                        \n",
       "[17] Taxi Driver                              \n",
       "[18] The Shawshank Redemption                 \n",
       "[19] Interstellar                             \n",
       "[20] Casino                                   \n",
       "[21] The Goodfellas                           \n",
       "[22] Blue is the Warmest Colour               \n",
       "[23] Black Swan                               \n",
       "[24] Back to the Future                       \n",
       "[25] The Wave                                 \n",
       "[26] Whiplash                                 \n",
       "[27] The Grand Hotel Budapest                 \n",
       "[28] Jumanji                                  \n",
       "[29] The Eternal Sunshine of the Spotless Mind\n",
       "[30] Chicago                                  \n",
       "30 Levels: Akira American Beauty Back to the Future ... Whiplash"
      ]
     },
     "metadata": {},
     "output_type": "display_data"
    }
   ],
   "source": [
    "my_data[[\"name\"]]"
   ]
  },
  {
   "cell_type": "markdown",
   "metadata": {},
   "source": [
    "Similarly, any particular row of the dataset can also be accessed. For example, to get the first row of the dataset with all column values, we can use:\n"
   ]
  },
  {
   "cell_type": "code",
   "execution_count": 12,
   "metadata": {
    "collapsed": false,
    "jupyter": {
     "outputs_hidden": false
    }
   },
   "outputs": [
    {
     "data": {
      "text/html": [
       "<table>\n",
       "<caption>A data.frame: 1 × 8</caption>\n",
       "<thead>\n",
       "\t<tr><th></th><th scope=col>name</th><th scope=col>year</th><th scope=col>length_min</th><th scope=col>genre</th><th scope=col>average_rating</th><th scope=col>cost_millions</th><th scope=col>foreign</th><th scope=col>age_restriction</th></tr>\n",
       "\t<tr><th></th><th scope=col>&lt;fct&gt;</th><th scope=col>&lt;int&gt;</th><th scope=col>&lt;int&gt;</th><th scope=col>&lt;fct&gt;</th><th scope=col>&lt;dbl&gt;</th><th scope=col>&lt;dbl&gt;</th><th scope=col>&lt;int&gt;</th><th scope=col>&lt;int&gt;</th></tr>\n",
       "</thead>\n",
       "<tbody>\n",
       "\t<tr><th scope=row>1</th><td>Toy Story</td><td>1995</td><td>81</td><td>Animation</td><td>8.3</td><td>30</td><td>0</td><td>0</td></tr>\n",
       "</tbody>\n",
       "</table>\n"
      ],
      "text/latex": [
       "A data.frame: 1 × 8\n",
       "\\begin{tabular}{r|llllllll}\n",
       "  & name & year & length\\_min & genre & average\\_rating & cost\\_millions & foreign & age\\_restriction\\\\\n",
       "  & <fct> & <int> & <int> & <fct> & <dbl> & <dbl> & <int> & <int>\\\\\n",
       "\\hline\n",
       "\t1 & Toy Story & 1995 & 81 & Animation & 8.3 & 30 & 0 & 0\\\\\n",
       "\\end{tabular}\n"
      ],
      "text/markdown": [
       "\n",
       "A data.frame: 1 × 8\n",
       "\n",
       "| <!--/--> | name &lt;fct&gt; | year &lt;int&gt; | length_min &lt;int&gt; | genre &lt;fct&gt; | average_rating &lt;dbl&gt; | cost_millions &lt;dbl&gt; | foreign &lt;int&gt; | age_restriction &lt;int&gt; |\n",
       "|---|---|---|---|---|---|---|---|---|\n",
       "| 1 | Toy Story | 1995 | 81 | Animation | 8.3 | 30 | 0 | 0 |\n",
       "\n"
      ],
      "text/plain": [
       "  name      year length_min genre     average_rating cost_millions foreign\n",
       "1 Toy Story 1995 81         Animation 8.3            30            0      \n",
       "  age_restriction\n",
       "1 0              "
      ]
     },
     "metadata": {},
     "output_type": "display_data"
    }
   ],
   "source": [
    "# Retrieve the first row of the data frame.\n",
    "my_data[1,]"
   ]
  },
  {
   "cell_type": "markdown",
   "metadata": {},
   "source": [
    "The first value before the comma represents the **row** of the dataset and the second value (which is blank in the above example) represents the **column** of the dataset to be retrieved. By setting the first number as 1 we say we want data from row 1. By leaving the column blank we say we want all the columns in that row.\n",
    "\n",
    "We can specify more than one column or row by using **`c`**, the **concatenate** function. By using `c` to concatenate a list of elements, we tell R that we want these observations out of the data frame. Let's try it out.\n"
   ]
  },
  {
   "cell_type": "code",
   "execution_count": 13,
   "metadata": {
    "collapsed": false,
    "jupyter": {
     "outputs_hidden": false
    }
   },
   "outputs": [
    {
     "data": {
      "text/html": [
       "<table>\n",
       "<caption>A data.frame: 1 × 2</caption>\n",
       "<thead>\n",
       "\t<tr><th></th><th scope=col>name</th><th scope=col>length_min</th></tr>\n",
       "\t<tr><th></th><th scope=col>&lt;fct&gt;</th><th scope=col>&lt;int&gt;</th></tr>\n",
       "</thead>\n",
       "<tbody>\n",
       "\t<tr><th scope=row>1</th><td>Toy Story</td><td>81</td></tr>\n",
       "</tbody>\n",
       "</table>\n"
      ],
      "text/latex": [
       "A data.frame: 1 × 2\n",
       "\\begin{tabular}{r|ll}\n",
       "  & name & length\\_min\\\\\n",
       "  & <fct> & <int>\\\\\n",
       "\\hline\n",
       "\t1 & Toy Story & 81\\\\\n",
       "\\end{tabular}\n"
      ],
      "text/markdown": [
       "\n",
       "A data.frame: 1 × 2\n",
       "\n",
       "| <!--/--> | name &lt;fct&gt; | length_min &lt;int&gt; |\n",
       "|---|---|---|\n",
       "| 1 | Toy Story | 81 |\n",
       "\n"
      ],
      "text/plain": [
       "  name      length_min\n",
       "1 Toy Story 81        "
      ]
     },
     "metadata": {},
     "output_type": "display_data"
    }
   ],
   "source": [
    "# Retrieve the first row of the data frame, but only the \"name\" and \"length_min\" columns.\n",
    "my_data[1, c(\"name\",\"length_min\")]"
   ]
  },
  {
   "cell_type": "markdown",
   "metadata": {},
   "source": [
    "***\n"
   ]
  },
  {
   "cell_type": "markdown",
   "metadata": {},
   "source": [
    "<a id=\"ref4\"></a>\n",
    "\n",
    "<center><h2>Accessing Built-in Datasets in R</h2></center>\n"
   ]
  },
  {
   "cell_type": "markdown",
   "metadata": {},
   "source": [
    "R provides various built-in datasets for users to utilize for different purposes. To know which datasets are available, R provides a simple function -- `data` -- that returns all of the present datasets' names with a small description beside them. The ones in the `datasets` package are all inbuilt.\n"
   ]
  },
  {
   "cell_type": "code",
   "execution_count": 14,
   "metadata": {
    "collapsed": false,
    "jupyter": {
     "outputs_hidden": false
    }
   },
   "outputs": [
    {
     "data": {
      "text/html": [
       "<h3>Data sets</h3>\n",
       "<table>\n",
       "<caption>A data.frame: 104 × 3</caption>\n",
       "<thead>\n",
       "\t<tr><th scope=col>Package</th><th scope=col>Item</th><th scope=col>Title</th></tr>\n",
       "\t<tr><th scope=col>&lt;chr&gt;</th><th scope=col>&lt;chr&gt;</th><th scope=col>&lt;chr&gt;</th></tr>\n",
       "</thead>\n",
       "<tbody>\n",
       "\t<tr><td>datasets</td><td>AirPassengers         </td><td>Monthly Airline Passenger Numbers 1949-1960                    </td></tr>\n",
       "\t<tr><td>datasets</td><td>BJsales               </td><td>Sales Data with Leading Indicator                              </td></tr>\n",
       "\t<tr><td>datasets</td><td>BJsales.lead (BJsales)</td><td>Sales Data with Leading Indicator                              </td></tr>\n",
       "\t<tr><td>datasets</td><td>BOD                   </td><td>Biochemical Oxygen Demand                                      </td></tr>\n",
       "\t<tr><td>datasets</td><td>CO2                   </td><td>Carbon Dioxide Uptake in Grass Plants                          </td></tr>\n",
       "\t<tr><td>datasets</td><td>ChickWeight           </td><td>Weight versus age of chicks on different diets                 </td></tr>\n",
       "\t<tr><td>datasets</td><td>DNase                 </td><td>Elisa assay of DNase                                           </td></tr>\n",
       "\t<tr><td>datasets</td><td>EuStockMarkets        </td><td>Daily Closing Prices of Major European Stock Indices, 1991-1998</td></tr>\n",
       "\t<tr><td>datasets</td><td>Formaldehyde          </td><td>Determination of Formaldehyde                                  </td></tr>\n",
       "\t<tr><td>datasets</td><td>HairEyeColor          </td><td>Hair and Eye Color of Statistics Students                      </td></tr>\n",
       "\t<tr><td>datasets</td><td>Harman23.cor          </td><td>Harman Example 2.3                                             </td></tr>\n",
       "\t<tr><td>datasets</td><td>Harman74.cor          </td><td>Harman Example 7.4                                             </td></tr>\n",
       "\t<tr><td>datasets</td><td>Indometh              </td><td>Pharmacokinetics of Indomethacin                               </td></tr>\n",
       "\t<tr><td>datasets</td><td>InsectSprays          </td><td>Effectiveness of Insect Sprays                                 </td></tr>\n",
       "\t<tr><td>datasets</td><td><span style=white-space:pre-wrap>JohnsonJohnson        </span></td><td><span style=white-space:pre-wrap>Quarterly Earnings per Johnson &amp; Johnson Share                 </span></td></tr>\n",
       "\t<tr><td>datasets</td><td>LakeHuron             </td><td>Level of Lake Huron 1875-1972                                  </td></tr>\n",
       "\t<tr><td>datasets</td><td>LifeCycleSavings      </td><td>Intercountry Life-Cycle Savings Data                           </td></tr>\n",
       "\t<tr><td>datasets</td><td>Loblolly              </td><td>Growth of Loblolly pine trees                                  </td></tr>\n",
       "\t<tr><td>datasets</td><td>Nile                  </td><td>Flow of the River Nile                                         </td></tr>\n",
       "\t<tr><td>datasets</td><td>Orange                </td><td>Growth of Orange Trees                                         </td></tr>\n",
       "\t<tr><td>datasets</td><td>OrchardSprays         </td><td>Potency of Orchard Sprays                                      </td></tr>\n",
       "\t<tr><td>datasets</td><td>PlantGrowth           </td><td>Results from an Experiment on Plant Growth                     </td></tr>\n",
       "\t<tr><td>datasets</td><td>Puromycin             </td><td>Reaction Velocity of an Enzymatic Reaction                     </td></tr>\n",
       "\t<tr><td>datasets</td><td>Seatbelts             </td><td>Road Casualties in Great Britain 1969-84                       </td></tr>\n",
       "\t<tr><td>datasets</td><td>Theoph                </td><td>Pharmacokinetics of Theophylline                               </td></tr>\n",
       "\t<tr><td>datasets</td><td>Titanic               </td><td>Survival of passengers on the Titanic                          </td></tr>\n",
       "\t<tr><td>datasets</td><td>ToothGrowth           </td><td>The Effect of Vitamin C on Tooth Growth in Guinea Pigs         </td></tr>\n",
       "\t<tr><td>datasets</td><td>UCBAdmissions         </td><td>Student Admissions at UC Berkeley                              </td></tr>\n",
       "\t<tr><td>datasets</td><td>UKDriverDeaths        </td><td>Road Casualties in Great Britain 1969-84                       </td></tr>\n",
       "\t<tr><td>datasets</td><td>UKgas                 </td><td>UK Quarterly Gas Consumption                                   </td></tr>\n",
       "\t<tr><td>datasets</td><td>USAccDeaths           </td><td>Accidental Deaths in the US 1973-1978                          </td></tr>\n",
       "\t<tr><td>datasets</td><td>USArrests             </td><td>Violent Crime Rates by US State                                </td></tr>\n",
       "\t<tr><td>datasets</td><td>USJudgeRatings        </td><td>Lawyers' Ratings of State Judges in the US Superior Court      </td></tr>\n",
       "\t<tr><td>datasets</td><td>USPersonalExpenditure </td><td>Personal Expenditure Data                                      </td></tr>\n",
       "\t<tr><td>datasets</td><td>UScitiesD             </td><td>Distances Between European Cities and Between US Cities        </td></tr>\n",
       "\t<tr><td>datasets</td><td>VADeaths              </td><td>Death Rates in Virginia (1940)                                 </td></tr>\n",
       "\t<tr><td>datasets</td><td>WWWusage              </td><td>Internet Usage per Minute                                      </td></tr>\n",
       "\t<tr><td>datasets</td><td>WorldPhones           </td><td>The World's Telephones                                         </td></tr>\n",
       "\t<tr><td>datasets</td><td>ability.cov           </td><td>Ability and Intelligence Tests                                 </td></tr>\n",
       "\t<tr><td>datasets</td><td>airmiles              </td><td>Passenger Miles on Commercial US Airlines, 1937-1960           </td></tr>\n",
       "\t<tr><td>datasets</td><td>airquality            </td><td>New York Air Quality Measurements                              </td></tr>\n",
       "\t<tr><td>datasets</td><td>anscombe              </td><td>Anscombe's Quartet of 'Identical' Simple Linear Regressions    </td></tr>\n",
       "\t<tr><td>datasets</td><td>attenu                </td><td>The Joyner-Boore Attenuation Data                              </td></tr>\n",
       "\t<tr><td>datasets</td><td>attitude              </td><td>The Chatterjee-Price Attitude Data                             </td></tr>\n",
       "\t<tr><td>datasets</td><td>austres               </td><td>Quarterly Time Series of the Number of Australian Residents    </td></tr>\n",
       "\t<tr><td>datasets</td><td>beaver1 (beavers)     </td><td>Body Temperature Series of Two Beavers                         </td></tr>\n",
       "\t<tr><td>datasets</td><td>beaver2 (beavers)     </td><td>Body Temperature Series of Two Beavers                         </td></tr>\n",
       "\t<tr><td>datasets</td><td>cars                  </td><td>Speed and Stopping Distances of Cars                           </td></tr>\n",
       "\t<tr><td>datasets</td><td>chickwts              </td><td>Chicken Weights by Feed Type                                   </td></tr>\n",
       "\t<tr><td>datasets</td><td>co2                   </td><td>Mauna Loa Atmospheric CO2 Concentration                        </td></tr>\n",
       "\t<tr><td>datasets</td><td>crimtab               </td><td>Student's 3000 Criminals Data                                  </td></tr>\n",
       "\t<tr><td>datasets</td><td>discoveries           </td><td>Yearly Numbers of Important Discoveries                        </td></tr>\n",
       "\t<tr><td>datasets</td><td>esoph                 </td><td>Smoking, Alcohol and (O)esophageal Cancer                      </td></tr>\n",
       "\t<tr><td>datasets</td><td>euro                  </td><td>Conversion Rates of Euro Currencies                            </td></tr>\n",
       "\t<tr><td>datasets</td><td>euro.cross (euro)     </td><td>Conversion Rates of Euro Currencies                            </td></tr>\n",
       "\t<tr><td>datasets</td><td>eurodist              </td><td>Distances Between European Cities and Between US Cities        </td></tr>\n",
       "\t<tr><td>datasets</td><td>faithful              </td><td>Old Faithful Geyser Data                                       </td></tr>\n",
       "\t<tr><td>datasets</td><td>fdeaths (UKLungDeaths)</td><td>Monthly Deaths from Lung Diseases in the UK                    </td></tr>\n",
       "\t<tr><td>datasets</td><td>freeny                </td><td>Freeny's Revenue Data                                          </td></tr>\n",
       "\t<tr><td>datasets</td><td>freeny.x (freeny)     </td><td>Freeny's Revenue Data                                          </td></tr>\n",
       "\t<tr><td>datasets</td><td>freeny.y (freeny)     </td><td>Freeny's Revenue Data                                          </td></tr>\n",
       "\t<tr><td>datasets</td><td>infert                </td><td>Infertility after Spontaneous and Induced Abortion             </td></tr>\n",
       "\t<tr><td>datasets</td><td>iris                  </td><td>Edgar Anderson's Iris Data                                     </td></tr>\n",
       "\t<tr><td>datasets</td><td>iris3                 </td><td>Edgar Anderson's Iris Data                                     </td></tr>\n",
       "\t<tr><td>datasets</td><td>islands               </td><td>Areas of the World's Major Landmasses                          </td></tr>\n",
       "\t<tr><td>datasets</td><td>ldeaths (UKLungDeaths)</td><td>Monthly Deaths from Lung Diseases in the UK                    </td></tr>\n",
       "\t<tr><td>datasets</td><td>lh                    </td><td>Luteinizing Hormone in Blood Samples                           </td></tr>\n",
       "\t<tr><td>datasets</td><td>longley               </td><td>Longley's Economic Regression Data                             </td></tr>\n",
       "\t<tr><td>datasets</td><td>lynx                  </td><td>Annual Canadian Lynx trappings 1821-1934                       </td></tr>\n",
       "\t<tr><td>datasets</td><td>mdeaths (UKLungDeaths)</td><td>Monthly Deaths from Lung Diseases in the UK                    </td></tr>\n",
       "\t<tr><td>datasets</td><td>morley                </td><td>Michelson Speed of Light Data                                  </td></tr>\n",
       "\t<tr><td>datasets</td><td>mtcars                </td><td>Motor Trend Car Road Tests                                     </td></tr>\n",
       "\t<tr><td>datasets</td><td>nhtemp                </td><td>Average Yearly Temperatures in New Haven                       </td></tr>\n",
       "\t<tr><td>datasets</td><td>nottem                </td><td>Average Monthly Temperatures at Nottingham, 1920-1939          </td></tr>\n",
       "\t<tr><td>datasets</td><td>npk                   </td><td>Classical N, P, K Factorial Experiment                         </td></tr>\n",
       "\t<tr><td>datasets</td><td>occupationalStatus    </td><td>Occupational Status of Fathers and their Sons                  </td></tr>\n",
       "\t<tr><td>datasets</td><td>precip                </td><td>Annual Precipitation in US Cities                              </td></tr>\n",
       "\t<tr><td>datasets</td><td>presidents            </td><td>Quarterly Approval Ratings of US Presidents                    </td></tr>\n",
       "\t<tr><td>datasets</td><td>pressure              </td><td>Vapor Pressure of Mercury as a Function of Temperature         </td></tr>\n",
       "\t<tr><td>datasets</td><td>quakes                </td><td>Locations of Earthquakes off Fiji                              </td></tr>\n",
       "\t<tr><td>datasets</td><td>randu                 </td><td>Random Numbers from Congruential Generator RANDU               </td></tr>\n",
       "\t<tr><td>datasets</td><td>rivers                </td><td>Lengths of Major North American Rivers                         </td></tr>\n",
       "\t<tr><td>datasets</td><td>rock                  </td><td>Measurements on Petroleum Rock Samples                         </td></tr>\n",
       "\t<tr><td>datasets</td><td>sleep                 </td><td>Student's Sleep Data                                           </td></tr>\n",
       "\t<tr><td>datasets</td><td>stack.loss (stackloss)</td><td>Brownlee's Stack Loss Plant Data                               </td></tr>\n",
       "\t<tr><td>datasets</td><td>stack.x (stackloss)   </td><td>Brownlee's Stack Loss Plant Data                               </td></tr>\n",
       "\t<tr><td>datasets</td><td>stackloss             </td><td>Brownlee's Stack Loss Plant Data                               </td></tr>\n",
       "\t<tr><td>datasets</td><td>state.abb (state)     </td><td>US State Facts and Figures                                     </td></tr>\n",
       "\t<tr><td>datasets</td><td>state.area (state)    </td><td>US State Facts and Figures                                     </td></tr>\n",
       "\t<tr><td>datasets</td><td>state.center (state)  </td><td>US State Facts and Figures                                     </td></tr>\n",
       "\t<tr><td>datasets</td><td>state.division (state)</td><td>US State Facts and Figures                                     </td></tr>\n",
       "\t<tr><td>datasets</td><td>state.name (state)    </td><td>US State Facts and Figures                                     </td></tr>\n",
       "\t<tr><td>datasets</td><td>state.region (state)  </td><td>US State Facts and Figures                                     </td></tr>\n",
       "\t<tr><td>datasets</td><td>state.x77 (state)     </td><td>US State Facts and Figures                                     </td></tr>\n",
       "\t<tr><td>datasets</td><td>sunspot.month         </td><td>Monthly Sunspot Data, from 1749 to \"Present\"                   </td></tr>\n",
       "\t<tr><td>datasets</td><td>sunspot.year          </td><td>Yearly Sunspot Data, 1700-1988                                 </td></tr>\n",
       "\t<tr><td>datasets</td><td>sunspots              </td><td>Monthly Sunspot Numbers, 1749-1983                             </td></tr>\n",
       "\t<tr><td>datasets</td><td>swiss                 </td><td>Swiss Fertility and Socioeconomic Indicators (1888) Data       </td></tr>\n",
       "\t<tr><td>datasets</td><td>treering              </td><td>Yearly Treering Data, -6000-1979                               </td></tr>\n",
       "\t<tr><td>datasets</td><td>trees                 </td><td>Girth, Height and Volume for Black Cherry Trees                </td></tr>\n",
       "\t<tr><td>datasets</td><td>uspop                 </td><td>Populations Recorded by the US Census                          </td></tr>\n",
       "\t<tr><td>datasets</td><td>volcano               </td><td>Topographic Information on Auckland's Maunga Whau Volcano      </td></tr>\n",
       "\t<tr><td>datasets</td><td>warpbreaks            </td><td>The Number of Breaks in Yarn during Weaving                    </td></tr>\n",
       "\t<tr><td>datasets</td><td>women                 </td><td>Average Heights and Weights for American Women                 </td></tr>\n",
       "</tbody>\n",
       "</table>\n",
       "\n",
       "<p>Use ‘data(package = .packages(all.available = TRUE))’\n",
       "to list the data sets in all *available* packages.</p>"
      ],
      "text/plain": [
       "Data sets in package ‘datasets’:\n",
       "\n",
       "AirPassengers           Monthly Airline Passenger Numbers 1949-1960\n",
       "BJsales                 Sales Data with Leading Indicator\n",
       "BJsales.lead (BJsales)\n",
       "                        Sales Data with Leading Indicator\n",
       "BOD                     Biochemical Oxygen Demand\n",
       "CO2                     Carbon Dioxide Uptake in Grass Plants\n",
       "ChickWeight             Weight versus age of chicks on different diets\n",
       "DNase                   Elisa assay of DNase\n",
       "EuStockMarkets          Daily Closing Prices of Major European Stock\n",
       "                        Indices, 1991-1998\n",
       "Formaldehyde            Determination of Formaldehyde\n",
       "HairEyeColor            Hair and Eye Color of Statistics Students\n",
       "Harman23.cor            Harman Example 2.3\n",
       "Harman74.cor            Harman Example 7.4\n",
       "Indometh                Pharmacokinetics of Indomethacin\n",
       "InsectSprays            Effectiveness of Insect Sprays\n",
       "JohnsonJohnson          Quarterly Earnings per Johnson & Johnson Share\n",
       "LakeHuron               Level of Lake Huron 1875-1972\n",
       "LifeCycleSavings        Intercountry Life-Cycle Savings Data\n",
       "Loblolly                Growth of Loblolly pine trees\n",
       "Nile                    Flow of the River Nile\n",
       "Orange                  Growth of Orange Trees\n",
       "OrchardSprays           Potency of Orchard Sprays\n",
       "PlantGrowth             Results from an Experiment on Plant Growth\n",
       "Puromycin               Reaction Velocity of an Enzymatic Reaction\n",
       "Seatbelts               Road Casualties in Great Britain 1969-84\n",
       "Theoph                  Pharmacokinetics of Theophylline\n",
       "Titanic                 Survival of passengers on the Titanic\n",
       "ToothGrowth             The Effect of Vitamin C on Tooth Growth in\n",
       "                        Guinea Pigs\n",
       "UCBAdmissions           Student Admissions at UC Berkeley\n",
       "UKDriverDeaths          Road Casualties in Great Britain 1969-84\n",
       "UKgas                   UK Quarterly Gas Consumption\n",
       "USAccDeaths             Accidental Deaths in the US 1973-1978\n",
       "USArrests               Violent Crime Rates by US State\n",
       "USJudgeRatings          Lawyers' Ratings of State Judges in the US\n",
       "                        Superior Court\n",
       "USPersonalExpenditure   Personal Expenditure Data\n",
       "UScitiesD               Distances Between European Cities and Between\n",
       "                        US Cities\n",
       "VADeaths                Death Rates in Virginia (1940)\n",
       "WWWusage                Internet Usage per Minute\n",
       "WorldPhones             The World's Telephones\n",
       "ability.cov             Ability and Intelligence Tests\n",
       "airmiles                Passenger Miles on Commercial US Airlines,\n",
       "                        1937-1960\n",
       "airquality              New York Air Quality Measurements\n",
       "anscombe                Anscombe's Quartet of 'Identical' Simple Linear\n",
       "                        Regressions\n",
       "attenu                  The Joyner-Boore Attenuation Data\n",
       "attitude                The Chatterjee-Price Attitude Data\n",
       "austres                 Quarterly Time Series of the Number of\n",
       "                        Australian Residents\n",
       "beaver1 (beavers)       Body Temperature Series of Two Beavers\n",
       "beaver2 (beavers)       Body Temperature Series of Two Beavers\n",
       "cars                    Speed and Stopping Distances of Cars\n",
       "chickwts                Chicken Weights by Feed Type\n",
       "co2                     Mauna Loa Atmospheric CO2 Concentration\n",
       "crimtab                 Student's 3000 Criminals Data\n",
       "discoveries             Yearly Numbers of Important Discoveries\n",
       "esoph                   Smoking, Alcohol and (O)esophageal Cancer\n",
       "euro                    Conversion Rates of Euro Currencies\n",
       "euro.cross (euro)       Conversion Rates of Euro Currencies\n",
       "eurodist                Distances Between European Cities and Between\n",
       "                        US Cities\n",
       "faithful                Old Faithful Geyser Data\n",
       "fdeaths (UKLungDeaths)\n",
       "                        Monthly Deaths from Lung Diseases in the UK\n",
       "freeny                  Freeny's Revenue Data\n",
       "freeny.x (freeny)       Freeny's Revenue Data\n",
       "freeny.y (freeny)       Freeny's Revenue Data\n",
       "infert                  Infertility after Spontaneous and Induced\n",
       "                        Abortion\n",
       "iris                    Edgar Anderson's Iris Data\n",
       "iris3                   Edgar Anderson's Iris Data\n",
       "islands                 Areas of the World's Major Landmasses\n",
       "ldeaths (UKLungDeaths)\n",
       "                        Monthly Deaths from Lung Diseases in the UK\n",
       "lh                      Luteinizing Hormone in Blood Samples\n",
       "longley                 Longley's Economic Regression Data\n",
       "lynx                    Annual Canadian Lynx trappings 1821-1934\n",
       "mdeaths (UKLungDeaths)\n",
       "                        Monthly Deaths from Lung Diseases in the UK\n",
       "morley                  Michelson Speed of Light Data\n",
       "mtcars                  Motor Trend Car Road Tests\n",
       "nhtemp                  Average Yearly Temperatures in New Haven\n",
       "nottem                  Average Monthly Temperatures at Nottingham,\n",
       "                        1920-1939\n",
       "npk                     Classical N, P, K Factorial Experiment\n",
       "occupationalStatus      Occupational Status of Fathers and their Sons\n",
       "precip                  Annual Precipitation in US Cities\n",
       "presidents              Quarterly Approval Ratings of US Presidents\n",
       "pressure                Vapor Pressure of Mercury as a Function of\n",
       "                        Temperature\n",
       "quakes                  Locations of Earthquakes off Fiji\n",
       "randu                   Random Numbers from Congruential Generator\n",
       "                        RANDU\n",
       "rivers                  Lengths of Major North American Rivers\n",
       "rock                    Measurements on Petroleum Rock Samples\n",
       "sleep                   Student's Sleep Data\n",
       "stack.loss (stackloss)\n",
       "                        Brownlee's Stack Loss Plant Data\n",
       "stack.x (stackloss)     Brownlee's Stack Loss Plant Data\n",
       "stackloss               Brownlee's Stack Loss Plant Data\n",
       "state.abb (state)       US State Facts and Figures\n",
       "state.area (state)      US State Facts and Figures\n",
       "state.center (state)    US State Facts and Figures\n",
       "state.division (state)\n",
       "                        US State Facts and Figures\n",
       "state.name (state)      US State Facts and Figures\n",
       "state.region (state)    US State Facts and Figures\n",
       "state.x77 (state)       US State Facts and Figures\n",
       "sunspot.month           Monthly Sunspot Data, from 1749 to \"Present\"\n",
       "sunspot.year            Yearly Sunspot Data, 1700-1988\n",
       "sunspots                Monthly Sunspot Numbers, 1749-1983\n",
       "swiss                   Swiss Fertility and Socioeconomic Indicators\n",
       "                        (1888) Data\n",
       "treering                Yearly Treering Data, -6000-1979\n",
       "trees                   Girth, Height and Volume for Black Cherry Trees\n",
       "uspop                   Populations Recorded by the US Census\n",
       "volcano                 Topographic Information on Auckland's Maunga\n",
       "                        Whau Volcano\n",
       "warpbreaks              The Number of Breaks in Yarn during Weaving\n",
       "women                   Average Heights and Weights for American Women\n",
       "\n",
       "Use ‘data(package = .packages(all.available = TRUE))’\n",
       "to list the data sets in all *available* packages."
      ]
     },
     "metadata": {},
     "output_type": "display_data"
    }
   ],
   "source": [
    "# Displays a list of the inbuilt datasets. Opens in a new \"window\".\n",
    "data()"
   ]
  },
  {
   "cell_type": "markdown",
   "metadata": {},
   "source": [
    "As you can see, there are many different datasets already inbuilt in the R environment. Having to go through each of them to take a look at their structure and try to find out what they represent might be very tiring. Thankfully, R has documentation present for each inbuilt dataset. You can take a look at that by using the `help` function.\n",
    "\n",
    "For example, if we want to know more about the `women` dataset, we can use the following function:\n"
   ]
  },
  {
   "cell_type": "code",
   "execution_count": 15,
   "metadata": {
    "collapsed": false,
    "jupyter": {
     "outputs_hidden": false
    }
   },
   "outputs": [
    {
     "data": {
      "text/html": [
       "\n",
       "<table width=\"100%\" summary=\"page for women {datasets}\"><tr><td>women {datasets}</td><td style=\"text-align: right;\">R Documentation</td></tr></table>\n",
       "\n",
       "<h2>Average Heights and Weights for American Women</h2>\n",
       "\n",
       "<h3>Description</h3>\n",
       "\n",
       "<p>This data set gives the average heights and weights for American women\n",
       "aged 30&ndash;39.\n",
       "</p>\n",
       "\n",
       "\n",
       "<h3>Usage</h3>\n",
       "\n",
       "<pre>women</pre>\n",
       "\n",
       "\n",
       "<h3>Format</h3>\n",
       "\n",
       "<p>A data frame with 15 observations on 2 variables.\n",
       "</p>\n",
       "\n",
       "<table summary=\"Rd table\">\n",
       "<tr>\n",
       " <td style=\"text-align: right;\">\n",
       "    <code>[,1]</code>  </td><td style=\"text-align: left;\"> <code>height</code>  </td><td style=\"text-align: left;\"> numeric  </td><td style=\"text-align: left;\"> Height (in)</td>\n",
       "</tr>\n",
       "<tr>\n",
       " <td style=\"text-align: right;\">\n",
       "    <code>[,2]</code>  </td><td style=\"text-align: left;\"> <code>weight</code>  </td><td style=\"text-align: left;\"> numeric  </td><td style=\"text-align: left;\"> Weight (lbs)\n",
       "  </td>\n",
       "</tr>\n",
       "\n",
       "</table>\n",
       "\n",
       "\n",
       "\n",
       "<h3>Details</h3>\n",
       "\n",
       "<p>The data set appears to have been taken from the American Society of\n",
       "Actuaries <em>Build and Blood Pressure Study</em> for some (unknown to\n",
       "us) earlier year.\n",
       "</p>\n",
       "<p>The World Almanac notes: &ldquo;The figures represent weights in\n",
       "ordinary indoor clothing and shoes, and heights with shoes&rdquo;.\n",
       "</p>\n",
       "\n",
       "\n",
       "<h3>Source</h3>\n",
       "\n",
       "<p>The World Almanac and Book of Facts, 1975.</p>\n",
       "\n",
       "\n",
       "<h3>References</h3>\n",
       "\n",
       "<p>McNeil, D. R. (1977)\n",
       "<em>Interactive Data Analysis</em>.\n",
       "Wiley.\n",
       "</p>\n",
       "\n",
       "\n",
       "<h3>Examples</h3>\n",
       "\n",
       "<pre>\n",
       "require(graphics)\n",
       "plot(women, xlab = \"Height (in)\", ylab = \"Weight (lb)\",\n",
       "     main = \"women data: American women aged 30-39\")\n",
       "</pre>\n",
       "\n",
       "<hr /><div style=\"text-align: center;\">[Package <em>datasets</em> version 3.5.1 ]</div>"
      ],
      "text/latex": [
       "\\inputencoding{utf8}\n",
       "\\HeaderA{women}{Average Heights and Weights for American Women}{women}\n",
       "\\keyword{datasets}{women}\n",
       "%\n",
       "\\begin{Description}\\relax\n",
       "This data set gives the average heights and weights for American women\n",
       "aged 30--39.\n",
       "\\end{Description}\n",
       "%\n",
       "\\begin{Usage}\n",
       "\\begin{verbatim}\n",
       "women\n",
       "\\end{verbatim}\n",
       "\\end{Usage}\n",
       "%\n",
       "\\begin{Format}\n",
       "A data frame with 15 observations on 2 variables.\n",
       "\n",
       "\\Tabular{rlll}{\n",
       "\\code{[,1]}  & \\code{height}  & numeric  & Height (in)\\\\{}\n",
       "\\code{[,2]}  & \\code{weight}  & numeric  & Weight (lbs)\n",
       "}\n",
       "\\end{Format}\n",
       "%\n",
       "\\begin{Details}\\relax\n",
       "The data set appears to have been taken from the American Society of\n",
       "Actuaries \\emph{Build and Blood Pressure Study} for some (unknown to\n",
       "us) earlier year.\n",
       "\n",
       "The World Almanac notes: ``The figures represent weights in\n",
       "ordinary indoor clothing and shoes, and heights with shoes''.\n",
       "\\end{Details}\n",
       "%\n",
       "\\begin{Source}\\relax\n",
       "The World Almanac and Book of Facts, 1975.\n",
       "\\end{Source}\n",
       "%\n",
       "\\begin{References}\\relax\n",
       "McNeil, D. R. (1977)\n",
       "\\emph{Interactive Data Analysis}.\n",
       "Wiley.\n",
       "\\end{References}\n",
       "%\n",
       "\\begin{Examples}\n",
       "\\begin{ExampleCode}\n",
       "require(graphics)\n",
       "plot(women, xlab = \"Height (in)\", ylab = \"Weight (lb)\",\n",
       "     main = \"women data: American women aged 30-39\")\n",
       "\\end{ExampleCode}\n",
       "\\end{Examples}"
      ],
      "text/plain": [
       "women                 package:datasets                 R Documentation\n",
       "\n",
       "_\bA_\bv_\be_\br_\ba_\bg_\be _\bH_\be_\bi_\bg_\bh_\bt_\bs _\ba_\bn_\bd _\bW_\be_\bi_\bg_\bh_\bt_\bs _\bf_\bo_\br _\bA_\bm_\be_\br_\bi_\bc_\ba_\bn _\bW_\bo_\bm_\be_\bn\n",
       "\n",
       "_\bD_\be_\bs_\bc_\br_\bi_\bp_\bt_\bi_\bo_\bn:\n",
       "\n",
       "     This data set gives the average heights and weights for American\n",
       "     women aged 30-39.\n",
       "\n",
       "_\bU_\bs_\ba_\bg_\be:\n",
       "\n",
       "     women\n",
       "     \n",
       "_\bF_\bo_\br_\bm_\ba_\bt:\n",
       "\n",
       "     A data frame with 15 observations on 2 variables.\n",
       "\n",
       "       ‘[,1]’  ‘height’  numeric  Height (in)  \n",
       "       ‘[,2]’  ‘weight’  numeric  Weight (lbs) \n",
       "      \n",
       "_\bD_\be_\bt_\ba_\bi_\bl_\bs:\n",
       "\n",
       "     The data set appears to have been taken from the American Society\n",
       "     of Actuaries _Build and Blood Pressure Study_ for some (unknown to\n",
       "     us) earlier year.\n",
       "\n",
       "     The World Almanac notes: “The figures represent weights in\n",
       "     ordinary indoor clothing and shoes, and heights with shoes”.\n",
       "\n",
       "_\bS_\bo_\bu_\br_\bc_\be:\n",
       "\n",
       "     The World Almanac and Book of Facts, 1975.\n",
       "\n",
       "_\bR_\be_\bf_\be_\br_\be_\bn_\bc_\be_\bs:\n",
       "\n",
       "     McNeil, D. R. (1977) _Interactive Data Analysis_.  Wiley.\n",
       "\n",
       "_\bE_\bx_\ba_\bm_\bp_\bl_\be_\bs:\n",
       "\n",
       "     require(graphics)\n",
       "     plot(women, xlab = \"Height (in)\", ylab = \"Weight (lb)\",\n",
       "          main = \"women data: American women aged 30-39\")\n",
       "     "
      ]
     },
     "metadata": {},
     "output_type": "display_data"
    }
   ],
   "source": [
    "# Opens up the documentation for the inbuilt \"women\" dataset.\n",
    "help(women)"
   ]
  },
  {
   "cell_type": "markdown",
   "metadata": {},
   "source": [
    "Since the datasets listed are inbuilt, you do not need to import or load them to use them. If you reference them by their name, R already has the data frame ready.\n"
   ]
  },
  {
   "cell_type": "code",
   "execution_count": 16,
   "metadata": {
    "collapsed": false,
    "jupyter": {
     "outputs_hidden": false
    },
    "scrolled": true
   },
   "outputs": [
    {
     "data": {
      "text/html": [
       "<table>\n",
       "<caption>A data.frame: 15 × 2</caption>\n",
       "<thead>\n",
       "\t<tr><th scope=col>height</th><th scope=col>weight</th></tr>\n",
       "\t<tr><th scope=col>&lt;dbl&gt;</th><th scope=col>&lt;dbl&gt;</th></tr>\n",
       "</thead>\n",
       "<tbody>\n",
       "\t<tr><td>58</td><td>115</td></tr>\n",
       "\t<tr><td>59</td><td>117</td></tr>\n",
       "\t<tr><td>60</td><td>120</td></tr>\n",
       "\t<tr><td>61</td><td>123</td></tr>\n",
       "\t<tr><td>62</td><td>126</td></tr>\n",
       "\t<tr><td>63</td><td>129</td></tr>\n",
       "\t<tr><td>64</td><td>132</td></tr>\n",
       "\t<tr><td>65</td><td>135</td></tr>\n",
       "\t<tr><td>66</td><td>139</td></tr>\n",
       "\t<tr><td>67</td><td>142</td></tr>\n",
       "\t<tr><td>68</td><td>146</td></tr>\n",
       "\t<tr><td>69</td><td>150</td></tr>\n",
       "\t<tr><td>70</td><td>154</td></tr>\n",
       "\t<tr><td>71</td><td>159</td></tr>\n",
       "\t<tr><td>72</td><td>164</td></tr>\n",
       "</tbody>\n",
       "</table>\n"
      ],
      "text/latex": [
       "A data.frame: 15 × 2\n",
       "\\begin{tabular}{ll}\n",
       " height & weight\\\\\n",
       " <dbl> & <dbl>\\\\\n",
       "\\hline\n",
       "\t 58 & 115\\\\\n",
       "\t 59 & 117\\\\\n",
       "\t 60 & 120\\\\\n",
       "\t 61 & 123\\\\\n",
       "\t 62 & 126\\\\\n",
       "\t 63 & 129\\\\\n",
       "\t 64 & 132\\\\\n",
       "\t 65 & 135\\\\\n",
       "\t 66 & 139\\\\\n",
       "\t 67 & 142\\\\\n",
       "\t 68 & 146\\\\\n",
       "\t 69 & 150\\\\\n",
       "\t 70 & 154\\\\\n",
       "\t 71 & 159\\\\\n",
       "\t 72 & 164\\\\\n",
       "\\end{tabular}\n"
      ],
      "text/markdown": [
       "\n",
       "A data.frame: 15 × 2\n",
       "\n",
       "| height &lt;dbl&gt; | weight &lt;dbl&gt; |\n",
       "|---|---|\n",
       "| 58 | 115 |\n",
       "| 59 | 117 |\n",
       "| 60 | 120 |\n",
       "| 61 | 123 |\n",
       "| 62 | 126 |\n",
       "| 63 | 129 |\n",
       "| 64 | 132 |\n",
       "| 65 | 135 |\n",
       "| 66 | 139 |\n",
       "| 67 | 142 |\n",
       "| 68 | 146 |\n",
       "| 69 | 150 |\n",
       "| 70 | 154 |\n",
       "| 71 | 159 |\n",
       "| 72 | 164 |\n",
       "\n"
      ],
      "text/plain": [
       "   height weight\n",
       "1  58     115   \n",
       "2  59     117   \n",
       "3  60     120   \n",
       "4  61     123   \n",
       "5  62     126   \n",
       "6  63     129   \n",
       "7  64     132   \n",
       "8  65     135   \n",
       "9  66     139   \n",
       "10 67     142   \n",
       "11 68     146   \n",
       "12 69     150   \n",
       "13 70     154   \n",
       "14 71     159   \n",
       "15 72     164   "
      ]
     },
     "metadata": {},
     "output_type": "display_data"
    }
   ],
   "source": [
    "women"
   ]
  },
  {
   "cell_type": "markdown",
   "metadata": {},
   "source": [
    "<hr>\n",
    "\n",
    "**Coding Exercise:** in the code cell below, get the CO2 dataset\n"
   ]
  },
  {
   "cell_type": "code",
   "execution_count": 17,
   "metadata": {},
   "outputs": [
    {
     "data": {
      "text/html": [
       "<table>\n",
       "<caption>A Time Series: 39 × 12</caption>\n",
       "<thead>\n",
       "\t<tr><th></th><th scope=col>Jan</th><th scope=col>Feb</th><th scope=col>Mar</th><th scope=col>Apr</th><th scope=col>May</th><th scope=col>Jun</th><th scope=col>Jul</th><th scope=col>Aug</th><th scope=col>Sep</th><th scope=col>Oct</th><th scope=col>Nov</th><th scope=col>Dec</th></tr>\n",
       "</thead>\n",
       "<tbody>\n",
       "\t<tr><th scope=row>1959</th><td>315.42</td><td>316.31</td><td>316.50</td><td>317.56</td><td>318.13</td><td>318.00</td><td>316.39</td><td>314.65</td><td>313.68</td><td>313.18</td><td>314.66</td><td>315.43</td></tr>\n",
       "\t<tr><th scope=row>1960</th><td>316.27</td><td>316.81</td><td>317.42</td><td>318.87</td><td>319.87</td><td>319.43</td><td>318.01</td><td>315.74</td><td>314.00</td><td>313.68</td><td>314.84</td><td>316.03</td></tr>\n",
       "\t<tr><th scope=row>1961</th><td>316.73</td><td>317.54</td><td>318.38</td><td>319.31</td><td>320.42</td><td>319.61</td><td>318.42</td><td>316.63</td><td>314.83</td><td>315.16</td><td>315.94</td><td>316.85</td></tr>\n",
       "\t<tr><th scope=row>1962</th><td>317.78</td><td>318.40</td><td>319.53</td><td>320.42</td><td>320.85</td><td>320.45</td><td>319.45</td><td>317.25</td><td>316.11</td><td>315.27</td><td>316.53</td><td>317.53</td></tr>\n",
       "\t<tr><th scope=row>1963</th><td>318.58</td><td>318.92</td><td>319.70</td><td>321.22</td><td>322.08</td><td>321.31</td><td>319.58</td><td>317.61</td><td>316.05</td><td>315.83</td><td>316.91</td><td>318.20</td></tr>\n",
       "\t<tr><th scope=row>1964</th><td>319.41</td><td>320.07</td><td>320.74</td><td>321.40</td><td>322.06</td><td>321.73</td><td>320.27</td><td>318.54</td><td>316.54</td><td>316.71</td><td>317.53</td><td>318.55</td></tr>\n",
       "\t<tr><th scope=row>1965</th><td>319.27</td><td>320.28</td><td>320.73</td><td>321.97</td><td>322.00</td><td>321.71</td><td>321.05</td><td>318.71</td><td>317.66</td><td>317.14</td><td>318.70</td><td>319.25</td></tr>\n",
       "\t<tr><th scope=row>1966</th><td>320.46</td><td>321.43</td><td>322.23</td><td>323.54</td><td>323.91</td><td>323.59</td><td>322.24</td><td>320.20</td><td>318.48</td><td>317.94</td><td>319.63</td><td>320.87</td></tr>\n",
       "\t<tr><th scope=row>1967</th><td>322.17</td><td>322.34</td><td>322.88</td><td>324.25</td><td>324.83</td><td>323.93</td><td>322.38</td><td>320.76</td><td>319.10</td><td>319.24</td><td>320.56</td><td>321.80</td></tr>\n",
       "\t<tr><th scope=row>1968</th><td>322.40</td><td>322.99</td><td>323.73</td><td>324.86</td><td>325.40</td><td>325.20</td><td>323.98</td><td>321.95</td><td>320.18</td><td>320.09</td><td>321.16</td><td>322.74</td></tr>\n",
       "\t<tr><th scope=row>1969</th><td>323.83</td><td>324.26</td><td>325.47</td><td>326.50</td><td>327.21</td><td>326.54</td><td>325.72</td><td>323.50</td><td>322.22</td><td>321.62</td><td>322.69</td><td>323.95</td></tr>\n",
       "\t<tr><th scope=row>1970</th><td>324.89</td><td>325.82</td><td>326.77</td><td>327.97</td><td>327.91</td><td>327.50</td><td>326.18</td><td>324.53</td><td>322.93</td><td>322.90</td><td>323.85</td><td>324.96</td></tr>\n",
       "\t<tr><th scope=row>1971</th><td>326.01</td><td>326.51</td><td>327.01</td><td>327.62</td><td>328.76</td><td>328.40</td><td>327.20</td><td>325.27</td><td>323.20</td><td>323.40</td><td>324.63</td><td>325.85</td></tr>\n",
       "\t<tr><th scope=row>1972</th><td>326.60</td><td>327.47</td><td>327.58</td><td>329.56</td><td>329.90</td><td>328.92</td><td>327.88</td><td>326.16</td><td>324.68</td><td>325.04</td><td>326.34</td><td>327.39</td></tr>\n",
       "\t<tr><th scope=row>1973</th><td>328.37</td><td>329.40</td><td>330.14</td><td>331.33</td><td>332.31</td><td>331.90</td><td>330.70</td><td>329.15</td><td>327.35</td><td>327.02</td><td>327.99</td><td>328.48</td></tr>\n",
       "\t<tr><th scope=row>1974</th><td>329.18</td><td>330.55</td><td>331.32</td><td>332.48</td><td>332.92</td><td>332.08</td><td>331.01</td><td>329.23</td><td>327.27</td><td>327.21</td><td>328.29</td><td>329.41</td></tr>\n",
       "\t<tr><th scope=row>1975</th><td>330.23</td><td>331.25</td><td>331.87</td><td>333.14</td><td>333.80</td><td>333.43</td><td>331.73</td><td>329.90</td><td>328.40</td><td>328.17</td><td>329.32</td><td>330.59</td></tr>\n",
       "\t<tr><th scope=row>1976</th><td>331.58</td><td>332.39</td><td>333.33</td><td>334.41</td><td>334.71</td><td>334.17</td><td>332.89</td><td>330.77</td><td>329.14</td><td>328.78</td><td>330.14</td><td>331.52</td></tr>\n",
       "\t<tr><th scope=row>1977</th><td>332.75</td><td>333.24</td><td>334.53</td><td>335.90</td><td>336.57</td><td>336.10</td><td>334.76</td><td>332.59</td><td>331.42</td><td>330.98</td><td>332.24</td><td>333.68</td></tr>\n",
       "\t<tr><th scope=row>1978</th><td>334.80</td><td>335.22</td><td>336.47</td><td>337.59</td><td>337.84</td><td>337.72</td><td>336.37</td><td>334.51</td><td>332.60</td><td>332.38</td><td>333.75</td><td>334.78</td></tr>\n",
       "\t<tr><th scope=row>1979</th><td>336.05</td><td>336.59</td><td>337.79</td><td>338.71</td><td>339.30</td><td>339.12</td><td>337.56</td><td>335.92</td><td>333.75</td><td>333.70</td><td>335.12</td><td>336.56</td></tr>\n",
       "\t<tr><th scope=row>1980</th><td>337.84</td><td>338.19</td><td>339.91</td><td>340.60</td><td>341.29</td><td>341.00</td><td>339.39</td><td>337.43</td><td>335.72</td><td>335.84</td><td>336.93</td><td>338.04</td></tr>\n",
       "\t<tr><th scope=row>1981</th><td>339.06</td><td>340.30</td><td>341.21</td><td>342.33</td><td>342.74</td><td>342.08</td><td>340.32</td><td>338.26</td><td>336.52</td><td>336.68</td><td>338.19</td><td>339.44</td></tr>\n",
       "\t<tr><th scope=row>1982</th><td>340.57</td><td>341.44</td><td>342.53</td><td>343.39</td><td>343.96</td><td>343.18</td><td>341.88</td><td>339.65</td><td>337.81</td><td>337.69</td><td>339.09</td><td>340.32</td></tr>\n",
       "\t<tr><th scope=row>1983</th><td>341.20</td><td>342.35</td><td>342.93</td><td>344.77</td><td>345.58</td><td>345.14</td><td>343.81</td><td>342.21</td><td>339.69</td><td>339.82</td><td>340.98</td><td>342.82</td></tr>\n",
       "\t<tr><th scope=row>1984</th><td>343.52</td><td>344.33</td><td>345.11</td><td>346.88</td><td>347.25</td><td>346.62</td><td>345.22</td><td>343.11</td><td>340.90</td><td>341.18</td><td>342.80</td><td>344.04</td></tr>\n",
       "\t<tr><th scope=row>1985</th><td>344.79</td><td>345.82</td><td>347.25</td><td>348.17</td><td>348.74</td><td>348.07</td><td>346.38</td><td>344.51</td><td>342.92</td><td>342.62</td><td>344.06</td><td>345.38</td></tr>\n",
       "\t<tr><th scope=row>1986</th><td>346.11</td><td>346.78</td><td>347.68</td><td>349.37</td><td>350.03</td><td>349.37</td><td>347.76</td><td>345.73</td><td>344.68</td><td>343.99</td><td>345.48</td><td>346.72</td></tr>\n",
       "\t<tr><th scope=row>1987</th><td>347.84</td><td>348.29</td><td>349.23</td><td>350.80</td><td>351.66</td><td>351.07</td><td>349.33</td><td>347.92</td><td>346.27</td><td>346.18</td><td>347.64</td><td>348.78</td></tr>\n",
       "\t<tr><th scope=row>1988</th><td>350.25</td><td>351.54</td><td>352.05</td><td>353.41</td><td>354.04</td><td>353.62</td><td>352.22</td><td>350.27</td><td>348.55</td><td>348.72</td><td>349.91</td><td>351.18</td></tr>\n",
       "\t<tr><th scope=row>1989</th><td>352.60</td><td>352.92</td><td>353.53</td><td>355.26</td><td>355.52</td><td>354.97</td><td>353.75</td><td>351.52</td><td>349.64</td><td>349.83</td><td>351.14</td><td>352.37</td></tr>\n",
       "\t<tr><th scope=row>1990</th><td>353.50</td><td>354.55</td><td>355.23</td><td>356.04</td><td>357.00</td><td>356.07</td><td>354.67</td><td>352.76</td><td>350.82</td><td>351.04</td><td>352.69</td><td>354.07</td></tr>\n",
       "\t<tr><th scope=row>1991</th><td>354.59</td><td>355.63</td><td>357.03</td><td>358.48</td><td>359.22</td><td>358.12</td><td>356.06</td><td>353.92</td><td>352.05</td><td>352.11</td><td>353.64</td><td>354.89</td></tr>\n",
       "\t<tr><th scope=row>1992</th><td>355.88</td><td>356.63</td><td>357.72</td><td>359.07</td><td>359.58</td><td>359.17</td><td>356.94</td><td>354.92</td><td>352.94</td><td>353.23</td><td>354.09</td><td>355.33</td></tr>\n",
       "\t<tr><th scope=row>1993</th><td>356.63</td><td>357.10</td><td>358.32</td><td>359.41</td><td>360.23</td><td>359.55</td><td>357.53</td><td>355.48</td><td>353.67</td><td>353.95</td><td>355.30</td><td>356.78</td></tr>\n",
       "\t<tr><th scope=row>1994</th><td>358.34</td><td>358.89</td><td>359.95</td><td>361.25</td><td>361.67</td><td>360.94</td><td>359.55</td><td>357.49</td><td>355.84</td><td>356.00</td><td>357.59</td><td>359.05</td></tr>\n",
       "\t<tr><th scope=row>1995</th><td>359.98</td><td>361.03</td><td>361.66</td><td>363.48</td><td>363.82</td><td>363.30</td><td>361.94</td><td>359.50</td><td>358.11</td><td>357.80</td><td>359.61</td><td>360.74</td></tr>\n",
       "\t<tr><th scope=row>1996</th><td>362.09</td><td>363.29</td><td>364.06</td><td>364.76</td><td>365.45</td><td>365.01</td><td>363.70</td><td>361.54</td><td>359.51</td><td>359.65</td><td>360.80</td><td>362.38</td></tr>\n",
       "\t<tr><th scope=row>1997</th><td>363.23</td><td>364.06</td><td>364.61</td><td>366.40</td><td>366.84</td><td>365.68</td><td>364.52</td><td>362.57</td><td>360.24</td><td>360.83</td><td>362.49</td><td>364.34</td></tr>\n",
       "</tbody>\n",
       "</table>\n"
      ],
      "text/latex": [
       "A Time Series: 39 × 12\n",
       "\\begin{tabular}{r|llllllllllll}\n",
       "  & Jan & Feb & Mar & Apr & May & Jun & Jul & Aug & Sep & Oct & Nov & Dec\\\\\n",
       "\\hline\n",
       "\t1959 & 315.42 & 316.31 & 316.50 & 317.56 & 318.13 & 318.00 & 316.39 & 314.65 & 313.68 & 313.18 & 314.66 & 315.43\\\\\n",
       "\t1960 & 316.27 & 316.81 & 317.42 & 318.87 & 319.87 & 319.43 & 318.01 & 315.74 & 314.00 & 313.68 & 314.84 & 316.03\\\\\n",
       "\t1961 & 316.73 & 317.54 & 318.38 & 319.31 & 320.42 & 319.61 & 318.42 & 316.63 & 314.83 & 315.16 & 315.94 & 316.85\\\\\n",
       "\t1962 & 317.78 & 318.40 & 319.53 & 320.42 & 320.85 & 320.45 & 319.45 & 317.25 & 316.11 & 315.27 & 316.53 & 317.53\\\\\n",
       "\t1963 & 318.58 & 318.92 & 319.70 & 321.22 & 322.08 & 321.31 & 319.58 & 317.61 & 316.05 & 315.83 & 316.91 & 318.20\\\\\n",
       "\t1964 & 319.41 & 320.07 & 320.74 & 321.40 & 322.06 & 321.73 & 320.27 & 318.54 & 316.54 & 316.71 & 317.53 & 318.55\\\\\n",
       "\t1965 & 319.27 & 320.28 & 320.73 & 321.97 & 322.00 & 321.71 & 321.05 & 318.71 & 317.66 & 317.14 & 318.70 & 319.25\\\\\n",
       "\t1966 & 320.46 & 321.43 & 322.23 & 323.54 & 323.91 & 323.59 & 322.24 & 320.20 & 318.48 & 317.94 & 319.63 & 320.87\\\\\n",
       "\t1967 & 322.17 & 322.34 & 322.88 & 324.25 & 324.83 & 323.93 & 322.38 & 320.76 & 319.10 & 319.24 & 320.56 & 321.80\\\\\n",
       "\t1968 & 322.40 & 322.99 & 323.73 & 324.86 & 325.40 & 325.20 & 323.98 & 321.95 & 320.18 & 320.09 & 321.16 & 322.74\\\\\n",
       "\t1969 & 323.83 & 324.26 & 325.47 & 326.50 & 327.21 & 326.54 & 325.72 & 323.50 & 322.22 & 321.62 & 322.69 & 323.95\\\\\n",
       "\t1970 & 324.89 & 325.82 & 326.77 & 327.97 & 327.91 & 327.50 & 326.18 & 324.53 & 322.93 & 322.90 & 323.85 & 324.96\\\\\n",
       "\t1971 & 326.01 & 326.51 & 327.01 & 327.62 & 328.76 & 328.40 & 327.20 & 325.27 & 323.20 & 323.40 & 324.63 & 325.85\\\\\n",
       "\t1972 & 326.60 & 327.47 & 327.58 & 329.56 & 329.90 & 328.92 & 327.88 & 326.16 & 324.68 & 325.04 & 326.34 & 327.39\\\\\n",
       "\t1973 & 328.37 & 329.40 & 330.14 & 331.33 & 332.31 & 331.90 & 330.70 & 329.15 & 327.35 & 327.02 & 327.99 & 328.48\\\\\n",
       "\t1974 & 329.18 & 330.55 & 331.32 & 332.48 & 332.92 & 332.08 & 331.01 & 329.23 & 327.27 & 327.21 & 328.29 & 329.41\\\\\n",
       "\t1975 & 330.23 & 331.25 & 331.87 & 333.14 & 333.80 & 333.43 & 331.73 & 329.90 & 328.40 & 328.17 & 329.32 & 330.59\\\\\n",
       "\t1976 & 331.58 & 332.39 & 333.33 & 334.41 & 334.71 & 334.17 & 332.89 & 330.77 & 329.14 & 328.78 & 330.14 & 331.52\\\\\n",
       "\t1977 & 332.75 & 333.24 & 334.53 & 335.90 & 336.57 & 336.10 & 334.76 & 332.59 & 331.42 & 330.98 & 332.24 & 333.68\\\\\n",
       "\t1978 & 334.80 & 335.22 & 336.47 & 337.59 & 337.84 & 337.72 & 336.37 & 334.51 & 332.60 & 332.38 & 333.75 & 334.78\\\\\n",
       "\t1979 & 336.05 & 336.59 & 337.79 & 338.71 & 339.30 & 339.12 & 337.56 & 335.92 & 333.75 & 333.70 & 335.12 & 336.56\\\\\n",
       "\t1980 & 337.84 & 338.19 & 339.91 & 340.60 & 341.29 & 341.00 & 339.39 & 337.43 & 335.72 & 335.84 & 336.93 & 338.04\\\\\n",
       "\t1981 & 339.06 & 340.30 & 341.21 & 342.33 & 342.74 & 342.08 & 340.32 & 338.26 & 336.52 & 336.68 & 338.19 & 339.44\\\\\n",
       "\t1982 & 340.57 & 341.44 & 342.53 & 343.39 & 343.96 & 343.18 & 341.88 & 339.65 & 337.81 & 337.69 & 339.09 & 340.32\\\\\n",
       "\t1983 & 341.20 & 342.35 & 342.93 & 344.77 & 345.58 & 345.14 & 343.81 & 342.21 & 339.69 & 339.82 & 340.98 & 342.82\\\\\n",
       "\t1984 & 343.52 & 344.33 & 345.11 & 346.88 & 347.25 & 346.62 & 345.22 & 343.11 & 340.90 & 341.18 & 342.80 & 344.04\\\\\n",
       "\t1985 & 344.79 & 345.82 & 347.25 & 348.17 & 348.74 & 348.07 & 346.38 & 344.51 & 342.92 & 342.62 & 344.06 & 345.38\\\\\n",
       "\t1986 & 346.11 & 346.78 & 347.68 & 349.37 & 350.03 & 349.37 & 347.76 & 345.73 & 344.68 & 343.99 & 345.48 & 346.72\\\\\n",
       "\t1987 & 347.84 & 348.29 & 349.23 & 350.80 & 351.66 & 351.07 & 349.33 & 347.92 & 346.27 & 346.18 & 347.64 & 348.78\\\\\n",
       "\t1988 & 350.25 & 351.54 & 352.05 & 353.41 & 354.04 & 353.62 & 352.22 & 350.27 & 348.55 & 348.72 & 349.91 & 351.18\\\\\n",
       "\t1989 & 352.60 & 352.92 & 353.53 & 355.26 & 355.52 & 354.97 & 353.75 & 351.52 & 349.64 & 349.83 & 351.14 & 352.37\\\\\n",
       "\t1990 & 353.50 & 354.55 & 355.23 & 356.04 & 357.00 & 356.07 & 354.67 & 352.76 & 350.82 & 351.04 & 352.69 & 354.07\\\\\n",
       "\t1991 & 354.59 & 355.63 & 357.03 & 358.48 & 359.22 & 358.12 & 356.06 & 353.92 & 352.05 & 352.11 & 353.64 & 354.89\\\\\n",
       "\t1992 & 355.88 & 356.63 & 357.72 & 359.07 & 359.58 & 359.17 & 356.94 & 354.92 & 352.94 & 353.23 & 354.09 & 355.33\\\\\n",
       "\t1993 & 356.63 & 357.10 & 358.32 & 359.41 & 360.23 & 359.55 & 357.53 & 355.48 & 353.67 & 353.95 & 355.30 & 356.78\\\\\n",
       "\t1994 & 358.34 & 358.89 & 359.95 & 361.25 & 361.67 & 360.94 & 359.55 & 357.49 & 355.84 & 356.00 & 357.59 & 359.05\\\\\n",
       "\t1995 & 359.98 & 361.03 & 361.66 & 363.48 & 363.82 & 363.30 & 361.94 & 359.50 & 358.11 & 357.80 & 359.61 & 360.74\\\\\n",
       "\t1996 & 362.09 & 363.29 & 364.06 & 364.76 & 365.45 & 365.01 & 363.70 & 361.54 & 359.51 & 359.65 & 360.80 & 362.38\\\\\n",
       "\t1997 & 363.23 & 364.06 & 364.61 & 366.40 & 366.84 & 365.68 & 364.52 & 362.57 & 360.24 & 360.83 & 362.49 & 364.34\\\\\n",
       "\\end{tabular}\n"
      ],
      "text/markdown": [
       "\n",
       "A Time Series: 39 × 12\n",
       "\n",
       "| <!--/--> | Jan | Feb | Mar | Apr | May | Jun | Jul | Aug | Sep | Oct | Nov | Dec |\n",
       "|---|---|---|---|---|---|---|---|---|---|---|---|---|\n",
       "| 1959 | 315.42 | 316.31 | 316.50 | 317.56 | 318.13 | 318.00 | 316.39 | 314.65 | 313.68 | 313.18 | 314.66 | 315.43 |\n",
       "| 1960 | 316.27 | 316.81 | 317.42 | 318.87 | 319.87 | 319.43 | 318.01 | 315.74 | 314.00 | 313.68 | 314.84 | 316.03 |\n",
       "| 1961 | 316.73 | 317.54 | 318.38 | 319.31 | 320.42 | 319.61 | 318.42 | 316.63 | 314.83 | 315.16 | 315.94 | 316.85 |\n",
       "| 1962 | 317.78 | 318.40 | 319.53 | 320.42 | 320.85 | 320.45 | 319.45 | 317.25 | 316.11 | 315.27 | 316.53 | 317.53 |\n",
       "| 1963 | 318.58 | 318.92 | 319.70 | 321.22 | 322.08 | 321.31 | 319.58 | 317.61 | 316.05 | 315.83 | 316.91 | 318.20 |\n",
       "| 1964 | 319.41 | 320.07 | 320.74 | 321.40 | 322.06 | 321.73 | 320.27 | 318.54 | 316.54 | 316.71 | 317.53 | 318.55 |\n",
       "| 1965 | 319.27 | 320.28 | 320.73 | 321.97 | 322.00 | 321.71 | 321.05 | 318.71 | 317.66 | 317.14 | 318.70 | 319.25 |\n",
       "| 1966 | 320.46 | 321.43 | 322.23 | 323.54 | 323.91 | 323.59 | 322.24 | 320.20 | 318.48 | 317.94 | 319.63 | 320.87 |\n",
       "| 1967 | 322.17 | 322.34 | 322.88 | 324.25 | 324.83 | 323.93 | 322.38 | 320.76 | 319.10 | 319.24 | 320.56 | 321.80 |\n",
       "| 1968 | 322.40 | 322.99 | 323.73 | 324.86 | 325.40 | 325.20 | 323.98 | 321.95 | 320.18 | 320.09 | 321.16 | 322.74 |\n",
       "| 1969 | 323.83 | 324.26 | 325.47 | 326.50 | 327.21 | 326.54 | 325.72 | 323.50 | 322.22 | 321.62 | 322.69 | 323.95 |\n",
       "| 1970 | 324.89 | 325.82 | 326.77 | 327.97 | 327.91 | 327.50 | 326.18 | 324.53 | 322.93 | 322.90 | 323.85 | 324.96 |\n",
       "| 1971 | 326.01 | 326.51 | 327.01 | 327.62 | 328.76 | 328.40 | 327.20 | 325.27 | 323.20 | 323.40 | 324.63 | 325.85 |\n",
       "| 1972 | 326.60 | 327.47 | 327.58 | 329.56 | 329.90 | 328.92 | 327.88 | 326.16 | 324.68 | 325.04 | 326.34 | 327.39 |\n",
       "| 1973 | 328.37 | 329.40 | 330.14 | 331.33 | 332.31 | 331.90 | 330.70 | 329.15 | 327.35 | 327.02 | 327.99 | 328.48 |\n",
       "| 1974 | 329.18 | 330.55 | 331.32 | 332.48 | 332.92 | 332.08 | 331.01 | 329.23 | 327.27 | 327.21 | 328.29 | 329.41 |\n",
       "| 1975 | 330.23 | 331.25 | 331.87 | 333.14 | 333.80 | 333.43 | 331.73 | 329.90 | 328.40 | 328.17 | 329.32 | 330.59 |\n",
       "| 1976 | 331.58 | 332.39 | 333.33 | 334.41 | 334.71 | 334.17 | 332.89 | 330.77 | 329.14 | 328.78 | 330.14 | 331.52 |\n",
       "| 1977 | 332.75 | 333.24 | 334.53 | 335.90 | 336.57 | 336.10 | 334.76 | 332.59 | 331.42 | 330.98 | 332.24 | 333.68 |\n",
       "| 1978 | 334.80 | 335.22 | 336.47 | 337.59 | 337.84 | 337.72 | 336.37 | 334.51 | 332.60 | 332.38 | 333.75 | 334.78 |\n",
       "| 1979 | 336.05 | 336.59 | 337.79 | 338.71 | 339.30 | 339.12 | 337.56 | 335.92 | 333.75 | 333.70 | 335.12 | 336.56 |\n",
       "| 1980 | 337.84 | 338.19 | 339.91 | 340.60 | 341.29 | 341.00 | 339.39 | 337.43 | 335.72 | 335.84 | 336.93 | 338.04 |\n",
       "| 1981 | 339.06 | 340.30 | 341.21 | 342.33 | 342.74 | 342.08 | 340.32 | 338.26 | 336.52 | 336.68 | 338.19 | 339.44 |\n",
       "| 1982 | 340.57 | 341.44 | 342.53 | 343.39 | 343.96 | 343.18 | 341.88 | 339.65 | 337.81 | 337.69 | 339.09 | 340.32 |\n",
       "| 1983 | 341.20 | 342.35 | 342.93 | 344.77 | 345.58 | 345.14 | 343.81 | 342.21 | 339.69 | 339.82 | 340.98 | 342.82 |\n",
       "| 1984 | 343.52 | 344.33 | 345.11 | 346.88 | 347.25 | 346.62 | 345.22 | 343.11 | 340.90 | 341.18 | 342.80 | 344.04 |\n",
       "| 1985 | 344.79 | 345.82 | 347.25 | 348.17 | 348.74 | 348.07 | 346.38 | 344.51 | 342.92 | 342.62 | 344.06 | 345.38 |\n",
       "| 1986 | 346.11 | 346.78 | 347.68 | 349.37 | 350.03 | 349.37 | 347.76 | 345.73 | 344.68 | 343.99 | 345.48 | 346.72 |\n",
       "| 1987 | 347.84 | 348.29 | 349.23 | 350.80 | 351.66 | 351.07 | 349.33 | 347.92 | 346.27 | 346.18 | 347.64 | 348.78 |\n",
       "| 1988 | 350.25 | 351.54 | 352.05 | 353.41 | 354.04 | 353.62 | 352.22 | 350.27 | 348.55 | 348.72 | 349.91 | 351.18 |\n",
       "| 1989 | 352.60 | 352.92 | 353.53 | 355.26 | 355.52 | 354.97 | 353.75 | 351.52 | 349.64 | 349.83 | 351.14 | 352.37 |\n",
       "| 1990 | 353.50 | 354.55 | 355.23 | 356.04 | 357.00 | 356.07 | 354.67 | 352.76 | 350.82 | 351.04 | 352.69 | 354.07 |\n",
       "| 1991 | 354.59 | 355.63 | 357.03 | 358.48 | 359.22 | 358.12 | 356.06 | 353.92 | 352.05 | 352.11 | 353.64 | 354.89 |\n",
       "| 1992 | 355.88 | 356.63 | 357.72 | 359.07 | 359.58 | 359.17 | 356.94 | 354.92 | 352.94 | 353.23 | 354.09 | 355.33 |\n",
       "| 1993 | 356.63 | 357.10 | 358.32 | 359.41 | 360.23 | 359.55 | 357.53 | 355.48 | 353.67 | 353.95 | 355.30 | 356.78 |\n",
       "| 1994 | 358.34 | 358.89 | 359.95 | 361.25 | 361.67 | 360.94 | 359.55 | 357.49 | 355.84 | 356.00 | 357.59 | 359.05 |\n",
       "| 1995 | 359.98 | 361.03 | 361.66 | 363.48 | 363.82 | 363.30 | 361.94 | 359.50 | 358.11 | 357.80 | 359.61 | 360.74 |\n",
       "| 1996 | 362.09 | 363.29 | 364.06 | 364.76 | 365.45 | 365.01 | 363.70 | 361.54 | 359.51 | 359.65 | 360.80 | 362.38 |\n",
       "| 1997 | 363.23 | 364.06 | 364.61 | 366.40 | 366.84 | 365.68 | 364.52 | 362.57 | 360.24 | 360.83 | 362.49 | 364.34 |\n",
       "\n"
      ],
      "text/plain": [
       "     Jan    Feb    Mar    Apr    May    Jun    Jul    Aug    Sep    Oct   \n",
       "1959 315.42 316.31 316.50 317.56 318.13 318.00 316.39 314.65 313.68 313.18\n",
       "1960 316.27 316.81 317.42 318.87 319.87 319.43 318.01 315.74 314.00 313.68\n",
       "1961 316.73 317.54 318.38 319.31 320.42 319.61 318.42 316.63 314.83 315.16\n",
       "1962 317.78 318.40 319.53 320.42 320.85 320.45 319.45 317.25 316.11 315.27\n",
       "1963 318.58 318.92 319.70 321.22 322.08 321.31 319.58 317.61 316.05 315.83\n",
       "1964 319.41 320.07 320.74 321.40 322.06 321.73 320.27 318.54 316.54 316.71\n",
       "1965 319.27 320.28 320.73 321.97 322.00 321.71 321.05 318.71 317.66 317.14\n",
       "1966 320.46 321.43 322.23 323.54 323.91 323.59 322.24 320.20 318.48 317.94\n",
       "1967 322.17 322.34 322.88 324.25 324.83 323.93 322.38 320.76 319.10 319.24\n",
       "1968 322.40 322.99 323.73 324.86 325.40 325.20 323.98 321.95 320.18 320.09\n",
       "1969 323.83 324.26 325.47 326.50 327.21 326.54 325.72 323.50 322.22 321.62\n",
       "1970 324.89 325.82 326.77 327.97 327.91 327.50 326.18 324.53 322.93 322.90\n",
       "1971 326.01 326.51 327.01 327.62 328.76 328.40 327.20 325.27 323.20 323.40\n",
       "1972 326.60 327.47 327.58 329.56 329.90 328.92 327.88 326.16 324.68 325.04\n",
       "1973 328.37 329.40 330.14 331.33 332.31 331.90 330.70 329.15 327.35 327.02\n",
       "1974 329.18 330.55 331.32 332.48 332.92 332.08 331.01 329.23 327.27 327.21\n",
       "1975 330.23 331.25 331.87 333.14 333.80 333.43 331.73 329.90 328.40 328.17\n",
       "1976 331.58 332.39 333.33 334.41 334.71 334.17 332.89 330.77 329.14 328.78\n",
       "1977 332.75 333.24 334.53 335.90 336.57 336.10 334.76 332.59 331.42 330.98\n",
       "1978 334.80 335.22 336.47 337.59 337.84 337.72 336.37 334.51 332.60 332.38\n",
       "1979 336.05 336.59 337.79 338.71 339.30 339.12 337.56 335.92 333.75 333.70\n",
       "1980 337.84 338.19 339.91 340.60 341.29 341.00 339.39 337.43 335.72 335.84\n",
       "1981 339.06 340.30 341.21 342.33 342.74 342.08 340.32 338.26 336.52 336.68\n",
       "1982 340.57 341.44 342.53 343.39 343.96 343.18 341.88 339.65 337.81 337.69\n",
       "1983 341.20 342.35 342.93 344.77 345.58 345.14 343.81 342.21 339.69 339.82\n",
       "1984 343.52 344.33 345.11 346.88 347.25 346.62 345.22 343.11 340.90 341.18\n",
       "1985 344.79 345.82 347.25 348.17 348.74 348.07 346.38 344.51 342.92 342.62\n",
       "1986 346.11 346.78 347.68 349.37 350.03 349.37 347.76 345.73 344.68 343.99\n",
       "1987 347.84 348.29 349.23 350.80 351.66 351.07 349.33 347.92 346.27 346.18\n",
       "1988 350.25 351.54 352.05 353.41 354.04 353.62 352.22 350.27 348.55 348.72\n",
       "1989 352.60 352.92 353.53 355.26 355.52 354.97 353.75 351.52 349.64 349.83\n",
       "1990 353.50 354.55 355.23 356.04 357.00 356.07 354.67 352.76 350.82 351.04\n",
       "1991 354.59 355.63 357.03 358.48 359.22 358.12 356.06 353.92 352.05 352.11\n",
       "1992 355.88 356.63 357.72 359.07 359.58 359.17 356.94 354.92 352.94 353.23\n",
       "1993 356.63 357.10 358.32 359.41 360.23 359.55 357.53 355.48 353.67 353.95\n",
       "1994 358.34 358.89 359.95 361.25 361.67 360.94 359.55 357.49 355.84 356.00\n",
       "1995 359.98 361.03 361.66 363.48 363.82 363.30 361.94 359.50 358.11 357.80\n",
       "1996 362.09 363.29 364.06 364.76 365.45 365.01 363.70 361.54 359.51 359.65\n",
       "1997 363.23 364.06 364.61 366.40 366.84 365.68 364.52 362.57 360.24 360.83\n",
       "     Nov    Dec   \n",
       "1959 314.66 315.43\n",
       "1960 314.84 316.03\n",
       "1961 315.94 316.85\n",
       "1962 316.53 317.53\n",
       "1963 316.91 318.20\n",
       "1964 317.53 318.55\n",
       "1965 318.70 319.25\n",
       "1966 319.63 320.87\n",
       "1967 320.56 321.80\n",
       "1968 321.16 322.74\n",
       "1969 322.69 323.95\n",
       "1970 323.85 324.96\n",
       "1971 324.63 325.85\n",
       "1972 326.34 327.39\n",
       "1973 327.99 328.48\n",
       "1974 328.29 329.41\n",
       "1975 329.32 330.59\n",
       "1976 330.14 331.52\n",
       "1977 332.24 333.68\n",
       "1978 333.75 334.78\n",
       "1979 335.12 336.56\n",
       "1980 336.93 338.04\n",
       "1981 338.19 339.44\n",
       "1982 339.09 340.32\n",
       "1983 340.98 342.82\n",
       "1984 342.80 344.04\n",
       "1985 344.06 345.38\n",
       "1986 345.48 346.72\n",
       "1987 347.64 348.78\n",
       "1988 349.91 351.18\n",
       "1989 351.14 352.37\n",
       "1990 352.69 354.07\n",
       "1991 353.64 354.89\n",
       "1992 354.09 355.33\n",
       "1993 355.30 356.78\n",
       "1994 357.59 359.05\n",
       "1995 359.61 360.74\n",
       "1996 360.80 362.38\n",
       "1997 362.49 364.34"
      ]
     },
     "metadata": {},
     "output_type": "display_data"
    }
   ],
   "source": [
    "# Write your code below. Don't forget to press Shift+Enter to execute the cell\n",
    "co2"
   ]
  },
  {
   "cell_type": "markdown",
   "metadata": {},
   "source": [
    "<details><summary>Click here for the solution</summary>\n",
    "\n",
    "```R\n",
    "co2\n",
    "\n",
    "```\n",
    "\n",
    "</details>\n",
    "\n",
    "<hr>\n"
   ]
  },
  {
   "cell_type": "markdown",
   "metadata": {},
   "source": [
    "### Scaling R with big data\n",
    "\n",
    "As you learn more about R, if you are interested in exploring platforms that can help you run analyses at scale, you might want to sign up for a free account on [IBM Watson Studio](http://cocl.us/dsx_rp0101en), which allows you to run analyses in R with two Spark executors for free.\n",
    "\n",
    "<hr>\n"
   ]
  },
  {
   "cell_type": "markdown",
   "metadata": {},
   "source": [
    "### Authors\n",
    "\n",
    "Hi! It's [Iqbal Singh](https://ca.linkedin.com/in/iqbalsingh15?utm_medium=Exinfluencer&utm_source=Exinfluencer&utm_content=000026UJ&utm_term=10006555&utm_id=NA-SkillsNetwork-Channel-SkillsNetworkCoursesIBMDeveloperSkillsNetworkRP0101ENCoursera23911160-2021-01-01&cm_mmc=Email_Newsletter-\\_-Developer_Ed%2BTech-\\_-WW_WW-\\_-SkillsNetwork-Courses-IBMDeveloperSkillsNetwork-RP0101EN-SkillsNetwork-20900564&cm_mmca1=000026UJ&cm_mmca2=10006555&cm_mmca3=M12345678&cvosrc=email.Newsletter.M12345678&cvo_campaign=000026UJ) and [Walter Gomes](https://br.linkedin.com/in/walter-gomes-de-amorim-junior-624726121?utm_medium=Exinfluencer&utm_source=Exinfluencer&utm_content=000026UJ&utm_term=10006555&utm_id=NA-SkillsNetwork-Channel-SkillsNetworkCoursesIBMDeveloperSkillsNetworkRP0101ENCoursera23911160-2021-01-01&cm_mmc=Email_Newsletter-\\_-Developer_Ed%2BTech-\\_-WW_WW-\\_-SkillsNetwork-Courses-IBMDeveloperSkillsNetwork-RP0101EN-SkillsNetwork-20900564&cm_mmca1=000026UJ&cm_mmca2=10006555&cm_mmca3=M12345678&cvosrc=email.Newsletter.M12345678&cvo_campaign=000026UJ), the authors of this notebook.\n",
    "I hope you found it easy to learn how to import data into R! Feel free to connect with us if you have any questions.\n"
   ]
  },
  {
   "cell_type": "markdown",
   "metadata": {},
   "source": [
    "### Other Contributors\n",
    "\n",
    "<a href=\"https://www.linkedin.com/in/yan-luo-96288783/?utm_medium=Exinfluencer&utm_source=Exinfluencer&utm_content=000026UJ&utm_term=10006555&utm_id=NA-SkillsNetwork-Channel-SkillsNetworkCoursesIBMDeveloperSkillsNetworkRP0101ENCoursera23911160-2021-01-01\">Yan Luo</a>\n"
   ]
  },
  {
   "cell_type": "markdown",
   "metadata": {},
   "source": [
    "## Change Log\n",
    "\n",
    "| Date (YYYY-MM-DD) | Version | Changed By | Change Description |\n",
    "| ----------------- | ------- | ---------- | ------------------ |\n",
    "| 2021-03-04        | 2.0     | Yan        | Added coding tasks |\n",
    "|                   |         |            |                    |\n",
    "|                   |         |            |                    |\n",
    "\n",
    "## <h3 align=\"center\"> © IBM Corporation 2021. All rights reserved. <h3/>\n"
   ]
  }
 ],
 "metadata": {
  "kernelspec": {
   "display_name": "R",
   "language": "R",
   "name": "conda-env-r-r"
  },
  "language_info": {
   "codemirror_mode": "r",
   "file_extension": ".r",
   "mimetype": "text/x-r-source",
   "name": "R",
   "pygments_lexer": "r",
   "version": "3.5.1"
  },
  "widgets": {
   "state": {},
   "version": "1.1.2"
  }
 },
 "nbformat": 4,
 "nbformat_minor": 4
}
