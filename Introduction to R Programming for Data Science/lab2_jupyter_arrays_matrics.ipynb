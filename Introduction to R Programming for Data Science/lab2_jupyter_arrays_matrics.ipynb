{
 "cells": [
  {
   "cell_type": "markdown",
   "metadata": {},
   "source": [
    "<a href=\"https://cognitiveclass.ai/?utm_medium=Exinfluencer&utm_source=Exinfluencer&utm_content=000026UJ&utm_term=10006555&utm_id=NA-SkillsNetwork-Channel-SkillsNetworkCoursesIBMDeveloperSkillsNetworkRP0101ENCoursera23911160-2021-01-01\">\n",
    "    <img src=\"https://cf-courses-data.s3.us.cloud-object-storage.appdomain.cloud/IBMDeveloperSkillsNetwork-RP0101EN-Coursera/v2/M1_R_Basics/images/IDSNlogo.png\" width=\"200\" align=\"center\">\n",
    "</a>\n"
   ]
  },
  {
   "cell_type": "markdown",
   "metadata": {},
   "source": [
    "<h1>Arrays and Matrices</h1>\n",
    "\n",
    "Estimated time needed: **20** minutes\n",
    "\n",
    "## Objectives\n",
    "\n",
    "After completing this lab you will be able to:\n",
    "\n",
    "*   Understand what is an array by coding practices\n",
    "*   Operate on arrays\n",
    "*   Understand what is a matrix by coding practices\n",
    "*   Operate on matrices\n"
   ]
  },
  {
   "cell_type": "markdown",
   "metadata": {},
   "source": [
    "## Table of Contents\n",
    "\n",
    "<strong>This lesson will cover some basics concepts about vector and factors in R:</strong>\n",
    "\n",
    "<ul>\n",
    "<li> <a href=\"https://#What-is-an-Array?\">What is an Array?</a> </li>\n",
    "<li> <a href=\"https://#Array-Indexing\">Array Indexing</a> </li>\n",
    "<li> <a href=\"https://#What-is-a-Matrix?\">What is a Matrix?</a> </li>\n",
    "<li> <a href=\"https://#Concatenation-Function\">Concatenation Function</a> </li>\n",
    "\n",
    "</ul>\n",
    "<br>\n"
   ]
  },
  {
   "cell_type": "markdown",
   "metadata": {},
   "source": [
    "<a id=\"ref0\"></a>\n",
    "\n",
    "# About the Dataset\n",
    "\n",
    "Imagine you got many movie recomendations from your friends and compiled all of the recomendations in a table, with specific info about each movie.\n",
    "\n",
    "The table has one row for each movie and several columns\n",
    "\n",
    "*   **name** - The name of the movie\n",
    "*   **year** - The year the movie was released\n",
    "*   **length_min** - The lenght of the movie in minutes\n",
    "*   **genre** - The genre of the movie\n",
    "*   **average_rating** - Average rating on Imdb\n",
    "*   **cost_millions** - The movie's production cost in millions\n",
    "*   **sequences** - The amount of sequences\n",
    "*   **foreign** - Indicative of whether the movie is foreign (1) or domestic (0)\n",
    "*   **age_restriction** - The age restriction for the movie <br>\n",
    "\n",
    "You can see part of the dataset below\n",
    "\n",
    "<img src = \"https://ibm.box.com/shared/static/6kr8sg0n6pc40zd1xn6hjhtvy3k7cmeq.png\" align = \"center\">\n"
   ]
  },
  {
   "cell_type": "markdown",
   "metadata": {},
   "source": [
    "<h2>What is an Array?</h2>\n",
    "<br>\n",
    "\n",
    "An array is a data structure that holds values grouped together, like a 2 x 2 table of 2 rows and 2 columns. Arrays can also be **multidimensional**, such as a 2 x 2 x 2 array.\n"
   ]
  },
  {
   "cell_type": "markdown",
   "metadata": {},
   "source": [
    "#### What is the difference between an array and a vector?\n",
    "\n",
    "Vectors are always one dimensional like a single row of data. On the other hand, an array can be multidimensional (stored as rows and columns). The \"dimension\" indicates how many rows of data there are.\n"
   ]
  },
  {
   "cell_type": "markdown",
   "metadata": {},
   "source": [
    "#### Let's create a 4 x 3 array (4 rows, 3 columns)\n",
    "\n",
    "The example below is a vector of 9 movie names, hence the data type is the same for all the elements.\n"
   ]
  },
  {
   "cell_type": "code",
   "execution_count": 1,
   "metadata": {
    "collapsed": false,
    "jupyter": {
     "outputs_hidden": false
    }
   },
   "outputs": [
    {
     "data": {
      "text/html": [
       "<style>\n",
       ".list-inline {list-style: none; margin:0; padding: 0}\n",
       ".list-inline>li {display: inline-block}\n",
       ".list-inline>li:not(:last-child)::after {content: \"\\00b7\"; padding: 0 .5ex}\n",
       "</style>\n",
       "<ol class=list-inline><li>'Akira'</li><li>'Toy Story'</li><li>'Room'</li><li>'The Wave'</li><li>'Whiplash'</li><li>'Star Wars'</li><li>'The Ring'</li><li>'The Artist'</li><li>'Jumanji'</li></ol>\n"
      ],
      "text/latex": [
       "\\begin{enumerate*}\n",
       "\\item 'Akira'\n",
       "\\item 'Toy Story'\n",
       "\\item 'Room'\n",
       "\\item 'The Wave'\n",
       "\\item 'Whiplash'\n",
       "\\item 'Star Wars'\n",
       "\\item 'The Ring'\n",
       "\\item 'The Artist'\n",
       "\\item 'Jumanji'\n",
       "\\end{enumerate*}\n"
      ],
      "text/markdown": [
       "1. 'Akira'\n",
       "2. 'Toy Story'\n",
       "3. 'Room'\n",
       "4. 'The Wave'\n",
       "5. 'Whiplash'\n",
       "6. 'Star Wars'\n",
       "7. 'The Ring'\n",
       "8. 'The Artist'\n",
       "9. 'Jumanji'\n",
       "\n",
       "\n"
      ],
      "text/plain": [
       "[1] \"Akira\"      \"Toy Story\"  \"Room\"       \"The Wave\"   \"Whiplash\"  \n",
       "[6] \"Star Wars\"  \"The Ring\"   \"The Artist\" \"Jumanji\"   "
      ]
     },
     "metadata": {},
     "output_type": "display_data"
    }
   ],
   "source": [
    "#lets first create a vector of nine movies\n",
    "movie_vector <- c(\"Akira\", \"Toy Story\", \"Room\", \"The Wave\", \"Whiplash\",\n",
    "                  \"Star Wars\", \"The Ring\", \"The Artist\", \"Jumanji\")\n",
    "movie_vector"
   ]
  },
  {
   "cell_type": "markdown",
   "metadata": {},
   "source": [
    "To create an array, we can use the **array()** function.\n"
   ]
  },
  {
   "cell_type": "code",
   "execution_count": 2,
   "metadata": {
    "collapsed": false,
    "jupyter": {
     "outputs_hidden": false
    }
   },
   "outputs": [
    {
     "data": {
      "text/html": [
       "<table>\n",
       "<caption>A matrix: 4 × 3 of type chr</caption>\n",
       "<tbody>\n",
       "\t<tr><td>Akira    </td><td>Whiplash  </td><td>Jumanji  </td></tr>\n",
       "\t<tr><td>Toy Story</td><td>Star Wars </td><td>Akira    </td></tr>\n",
       "\t<tr><td>Room     </td><td>The Ring  </td><td>Toy Story</td></tr>\n",
       "\t<tr><td>The Wave </td><td>The Artist</td><td>Room     </td></tr>\n",
       "</tbody>\n",
       "</table>\n"
      ],
      "text/latex": [
       "A matrix: 4 × 3 of type chr\n",
       "\\begin{tabular}{lll}\n",
       "\t Akira     & Whiplash   & Jumanji  \\\\\n",
       "\t Toy Story & Star Wars  & Akira    \\\\\n",
       "\t Room      & The Ring   & Toy Story\\\\\n",
       "\t The Wave  & The Artist & Room     \\\\\n",
       "\\end{tabular}\n"
      ],
      "text/markdown": [
       "\n",
       "A matrix: 4 × 3 of type chr\n",
       "\n",
       "| Akira     | Whiplash   | Jumanji   |\n",
       "| Toy Story | Star Wars  | Akira     |\n",
       "| Room      | The Ring   | Toy Story |\n",
       "| The Wave  | The Artist | Room      |\n",
       "\n"
      ],
      "text/plain": [
       "     [,1]      [,2]       [,3]     \n",
       "[1,] Akira     Whiplash   Jumanji  \n",
       "[2,] Toy Story Star Wars  Akira    \n",
       "[3,] Room      The Ring   Toy Story\n",
       "[4,] The Wave  The Artist Room     "
      ]
     },
     "metadata": {},
     "output_type": "display_data"
    }
   ],
   "source": [
    "movie_array <- array(movie_vector, dim = c(4,3))\n",
    "movie_array"
   ]
  },
  {
   "cell_type": "markdown",
   "metadata": {},
   "source": [
    "Note that **arrays are created column-wise**. Did you also notice that there were only 9 movie names, but the array was 4 x 3? The original **vector doesn't have enough elements** to fill the entire array (that should have 3 x 4 = 12 elements). So R simply fills rest of the empty values by going back to the beginning of the vector and starting again (\"Akira\", \"Toy story\", \"Room\" in this case).\n"
   ]
  },
  {
   "cell_type": "markdown",
   "metadata": {},
   "source": [
    "We also needed to provide **`c(4,3)`** as a second *argument* to specify the number of rows (4) and columns (3) that we wanted.\n"
   ]
  },
  {
   "cell_type": "markdown",
   "metadata": {},
   "source": [
    "<div class=\"alert alert-success alertsuccess\" style=\"margin-top: 20px\">\n",
    "[Tip] What is an \"argument\"? How are \"arguments\" different from \"parameters\"?   \n",
    "\n",
    "<br>\n",
    "Arguments and parameters are terms you will hear constantly when talking about \"functions\".  \n",
    "- The \"parameters\" are the input variables used in a function, like \"dim\" in the function \"array()\".   \n",
    "- The \"arguments\" refer to the \"values\" for those parameters that a function takes as inputs, like \"c(4,3)\"  \n",
    "<br>\n",
    "We actually don't need to write out the name of the parameter (dim) each time, as in:  \n",
    "`array(movie_vector, c(4,3))`  \n",
    "As long as we write the arguments out in the correct order, R can interpret the code.  \n",
    "\n",
    "<br>\n",
    "Arguments in a function may sometimes need to be of a \"specific type\". For more information on each function, you can open up the help file by running the function name with a ? beforehand, as in:  \n",
    "`?array`\n",
    "<p></p>\n",
    "\n",
    "</div>\n"
   ]
  },
  {
   "cell_type": "markdown",
   "metadata": {},
   "source": [
    "<h2 align=center>Array Indexing</h2>\n"
   ]
  },
  {
   "cell_type": "markdown",
   "metadata": {},
   "source": [
    "Let's look at our array again:\n"
   ]
  },
  {
   "cell_type": "code",
   "execution_count": 3,
   "metadata": {
    "collapsed": false,
    "jupyter": {
     "outputs_hidden": false
    }
   },
   "outputs": [
    {
     "data": {
      "text/html": [
       "<table>\n",
       "<caption>A matrix: 4 × 3 of type chr</caption>\n",
       "<tbody>\n",
       "\t<tr><td>Akira    </td><td>Whiplash  </td><td>Jumanji  </td></tr>\n",
       "\t<tr><td>Toy Story</td><td>Star Wars </td><td>Akira    </td></tr>\n",
       "\t<tr><td>Room     </td><td>The Ring  </td><td>Toy Story</td></tr>\n",
       "\t<tr><td>The Wave </td><td>The Artist</td><td>Room     </td></tr>\n",
       "</tbody>\n",
       "</table>\n"
      ],
      "text/latex": [
       "A matrix: 4 × 3 of type chr\n",
       "\\begin{tabular}{lll}\n",
       "\t Akira     & Whiplash   & Jumanji  \\\\\n",
       "\t Toy Story & Star Wars  & Akira    \\\\\n",
       "\t Room      & The Ring   & Toy Story\\\\\n",
       "\t The Wave  & The Artist & Room     \\\\\n",
       "\\end{tabular}\n"
      ],
      "text/markdown": [
       "\n",
       "A matrix: 4 × 3 of type chr\n",
       "\n",
       "| Akira     | Whiplash   | Jumanji   |\n",
       "| Toy Story | Star Wars  | Akira     |\n",
       "| Room      | The Ring   | Toy Story |\n",
       "| The Wave  | The Artist | Room      |\n",
       "\n"
      ],
      "text/plain": [
       "     [,1]      [,2]       [,3]     \n",
       "[1,] Akira     Whiplash   Jumanji  \n",
       "[2,] Toy Story Star Wars  Akira    \n",
       "[3,] Room      The Ring   Toy Story\n",
       "[4,] The Wave  The Artist Room     "
      ]
     },
     "metadata": {},
     "output_type": "display_data"
    }
   ],
   "source": [
    "movie_array"
   ]
  },
  {
   "cell_type": "markdown",
   "metadata": {},
   "source": [
    "To access an element of an array, we should pass in **\\[row, column]** as the row and column number of that element.\\\n",
    "For example, here we retrieve **Whiplash** from row 1 and column 2:\n"
   ]
  },
  {
   "cell_type": "code",
   "execution_count": 4,
   "metadata": {
    "collapsed": false,
    "jupyter": {
     "outputs_hidden": false
    }
   },
   "outputs": [
    {
     "data": {
      "text/html": [
       "'Whiplash'"
      ],
      "text/latex": [
       "'Whiplash'"
      ],
      "text/markdown": [
       "'Whiplash'"
      ],
      "text/plain": [
       "[1] \"Whiplash\""
      ]
     },
     "metadata": {},
     "output_type": "display_data"
    }
   ],
   "source": [
    "movie_array[1,2] #[row, column]"
   ]
  },
  {
   "cell_type": "markdown",
   "metadata": {},
   "source": [
    "To display all the elements of the first row, we should put 1 in the row and nothing in the column part. Be sure to keep in the comma after the `1`.\n"
   ]
  },
  {
   "cell_type": "code",
   "execution_count": 5,
   "metadata": {
    "collapsed": false,
    "jupyter": {
     "outputs_hidden": false
    }
   },
   "outputs": [
    {
     "data": {
      "text/html": [
       "<style>\n",
       ".list-inline {list-style: none; margin:0; padding: 0}\n",
       ".list-inline>li {display: inline-block}\n",
       ".list-inline>li:not(:last-child)::after {content: \"\\00b7\"; padding: 0 .5ex}\n",
       "</style>\n",
       "<ol class=list-inline><li>'Akira'</li><li>'Whiplash'</li><li>'Jumanji'</li></ol>\n"
      ],
      "text/latex": [
       "\\begin{enumerate*}\n",
       "\\item 'Akira'\n",
       "\\item 'Whiplash'\n",
       "\\item 'Jumanji'\n",
       "\\end{enumerate*}\n"
      ],
      "text/markdown": [
       "1. 'Akira'\n",
       "2. 'Whiplash'\n",
       "3. 'Jumanji'\n",
       "\n",
       "\n"
      ],
      "text/plain": [
       "[1] \"Akira\"    \"Whiplash\" \"Jumanji\" "
      ]
     },
     "metadata": {},
     "output_type": "display_data"
    }
   ],
   "source": [
    "movie_array[1,]"
   ]
  },
  {
   "cell_type": "markdown",
   "metadata": {},
   "source": [
    "Likewise, you can get the elements by column as below.\n"
   ]
  },
  {
   "cell_type": "code",
   "execution_count": 6,
   "metadata": {
    "collapsed": false,
    "jupyter": {
     "outputs_hidden": false
    }
   },
   "outputs": [
    {
     "data": {
      "text/html": [
       "<style>\n",
       ".list-inline {list-style: none; margin:0; padding: 0}\n",
       ".list-inline>li {display: inline-block}\n",
       ".list-inline>li:not(:last-child)::after {content: \"\\00b7\"; padding: 0 .5ex}\n",
       "</style>\n",
       "<ol class=list-inline><li>'Whiplash'</li><li>'Star Wars'</li><li>'The Ring'</li><li>'The Artist'</li></ol>\n"
      ],
      "text/latex": [
       "\\begin{enumerate*}\n",
       "\\item 'Whiplash'\n",
       "\\item 'Star Wars'\n",
       "\\item 'The Ring'\n",
       "\\item 'The Artist'\n",
       "\\end{enumerate*}\n"
      ],
      "text/markdown": [
       "1. 'Whiplash'\n",
       "2. 'Star Wars'\n",
       "3. 'The Ring'\n",
       "4. 'The Artist'\n",
       "\n",
       "\n"
      ],
      "text/plain": [
       "[1] \"Whiplash\"   \"Star Wars\"  \"The Ring\"   \"The Artist\""
      ]
     },
     "metadata": {},
     "output_type": "display_data"
    }
   ],
   "source": [
    "movie_array[,2]"
   ]
  },
  {
   "cell_type": "markdown",
   "metadata": {},
   "source": [
    "To get the dimension of the array, **dim()** should be used.\n"
   ]
  },
  {
   "cell_type": "code",
   "execution_count": 7,
   "metadata": {
    "collapsed": false,
    "jupyter": {
     "outputs_hidden": false
    }
   },
   "outputs": [
    {
     "data": {
      "text/html": [
       "<style>\n",
       ".list-inline {list-style: none; margin:0; padding: 0}\n",
       ".list-inline>li {display: inline-block}\n",
       ".list-inline>li:not(:last-child)::after {content: \"\\00b7\"; padding: 0 .5ex}\n",
       "</style>\n",
       "<ol class=list-inline><li>4</li><li>3</li></ol>\n"
      ],
      "text/latex": [
       "\\begin{enumerate*}\n",
       "\\item 4\n",
       "\\item 3\n",
       "\\end{enumerate*}\n"
      ],
      "text/markdown": [
       "1. 4\n",
       "2. 3\n",
       "\n",
       "\n"
      ],
      "text/plain": [
       "[1] 4 3"
      ]
     },
     "metadata": {},
     "output_type": "display_data"
    }
   ],
   "source": [
    "dim(movie_array)"
   ]
  },
  {
   "cell_type": "markdown",
   "metadata": {},
   "source": [
    "We can also do math on arrays. Let's create an array of the lengths of each of the nine movies used earlier.\n"
   ]
  },
  {
   "cell_type": "code",
   "execution_count": 8,
   "metadata": {
    "collapsed": false,
    "jupyter": {
     "outputs_hidden": false
    }
   },
   "outputs": [
    {
     "data": {
      "text/html": [
       "<table>\n",
       "<caption>A matrix: 3 × 3 of type dbl</caption>\n",
       "<tbody>\n",
       "\t<tr><td>125</td><td> 81</td><td> 95</td></tr>\n",
       "\t<tr><td> 81</td><td>106</td><td>100</td></tr>\n",
       "\t<tr><td>118</td><td>121</td><td>104</td></tr>\n",
       "</tbody>\n",
       "</table>\n"
      ],
      "text/latex": [
       "A matrix: 3 × 3 of type dbl\n",
       "\\begin{tabular}{lll}\n",
       "\t 125 &  81 &  95\\\\\n",
       "\t  81 & 106 & 100\\\\\n",
       "\t 118 & 121 & 104\\\\\n",
       "\\end{tabular}\n"
      ],
      "text/markdown": [
       "\n",
       "A matrix: 3 × 3 of type dbl\n",
       "\n",
       "| 125 |  81 |  95 |\n",
       "|  81 | 106 | 100 |\n",
       "| 118 | 121 | 104 |\n",
       "\n"
      ],
      "text/plain": [
       "     [,1] [,2] [,3]\n",
       "[1,] 125   81   95 \n",
       "[2,]  81  106  100 \n",
       "[3,] 118  121  104 "
      ]
     },
     "metadata": {},
     "output_type": "display_data"
    }
   ],
   "source": [
    "length_vector <- c(125, 81, 118, 81, 106, 121, 95, 100, 104)\n",
    "length_array <- array(length_vector, dim = c(3,3))\n",
    "length_array"
   ]
  },
  {
   "cell_type": "markdown",
   "metadata": {},
   "source": [
    "Let's add 5 to the array, to account for a 5-min bathroom break:\n"
   ]
  },
  {
   "cell_type": "code",
   "execution_count": 9,
   "metadata": {
    "collapsed": false,
    "jupyter": {
     "outputs_hidden": false
    }
   },
   "outputs": [
    {
     "data": {
      "text/html": [
       "<table>\n",
       "<caption>A matrix: 3 × 3 of type dbl</caption>\n",
       "<tbody>\n",
       "\t<tr><td>130</td><td> 86</td><td>100</td></tr>\n",
       "\t<tr><td> 86</td><td>111</td><td>105</td></tr>\n",
       "\t<tr><td>123</td><td>126</td><td>109</td></tr>\n",
       "</tbody>\n",
       "</table>\n"
      ],
      "text/latex": [
       "A matrix: 3 × 3 of type dbl\n",
       "\\begin{tabular}{lll}\n",
       "\t 130 &  86 & 100\\\\\n",
       "\t  86 & 111 & 105\\\\\n",
       "\t 123 & 126 & 109\\\\\n",
       "\\end{tabular}\n"
      ],
      "text/markdown": [
       "\n",
       "A matrix: 3 × 3 of type dbl\n",
       "\n",
       "| 130 |  86 | 100 |\n",
       "|  86 | 111 | 105 |\n",
       "| 123 | 126 | 109 |\n",
       "\n"
      ],
      "text/plain": [
       "     [,1] [,2] [,3]\n",
       "[1,] 130   86  100 \n",
       "[2,]  86  111  105 \n",
       "[3,] 123  126  109 "
      ]
     },
     "metadata": {},
     "output_type": "display_data"
    }
   ],
   "source": [
    "length_array + 5"
   ]
  },
  {
   "cell_type": "markdown",
   "metadata": {},
   "source": [
    "**Coding Exercise:** in the code cell below, create a new length vector with 12 elements and create a 4 x 3 array from it\n"
   ]
  },
  {
   "cell_type": "code",
   "execution_count": 10,
   "metadata": {},
   "outputs": [
    {
     "data": {
      "text/html": [
       "<table>\n",
       "<caption>A matrix: 4 × 3 of type dbl</caption>\n",
       "<tbody>\n",
       "\t<tr><td>125</td><td>106</td><td>104</td></tr>\n",
       "\t<tr><td> 81</td><td>121</td><td> 85</td></tr>\n",
       "\t<tr><td>118</td><td> 95</td><td> 64</td></tr>\n",
       "\t<tr><td> 81</td><td>100</td><td> 83</td></tr>\n",
       "</tbody>\n",
       "</table>\n"
      ],
      "text/latex": [
       "A matrix: 4 × 3 of type dbl\n",
       "\\begin{tabular}{lll}\n",
       "\t 125 & 106 & 104\\\\\n",
       "\t  81 & 121 &  85\\\\\n",
       "\t 118 &  95 &  64\\\\\n",
       "\t  81 & 100 &  83\\\\\n",
       "\\end{tabular}\n"
      ],
      "text/markdown": [
       "\n",
       "A matrix: 4 × 3 of type dbl\n",
       "\n",
       "| 125 | 106 | 104 |\n",
       "|  81 | 121 |  85 |\n",
       "| 118 |  95 |  64 |\n",
       "|  81 | 100 |  83 |\n",
       "\n"
      ],
      "text/plain": [
       "     [,1] [,2] [,3]\n",
       "[1,] 125  106  104 \n",
       "[2,]  81  121   85 \n",
       "[3,] 118   95   64 \n",
       "[4,]  81  100   83 "
      ]
     },
     "metadata": {},
     "output_type": "display_data"
    }
   ],
   "source": [
    "# Write your code below. Don't forget to press Shift+Enter to execute the cell\n",
    "new_length_vector <- c(125, 81, 118, 81, 106, 121, 95, 100, 104, 85, 64, 83)\n",
    "new_length_array <- array(new_length_vector, dim = c(4,3))\n",
    "new_length_array"
   ]
  },
  {
   "cell_type": "markdown",
   "metadata": {},
   "source": [
    "<details><summary>Click here for the solution</summary>\n",
    "\n",
    "```R\n",
    "new_length_vector <- c(125, 81, 118, 81, 106, 121, 95, 100, 104, 85, 64, 83)\n",
    "new_length_array <- array(new_length_vector, dim = c(4,3))\n",
    "new_length_array\n",
    "\n",
    "```\n",
    "\n",
    "</details>\n"
   ]
  },
  {
   "cell_type": "markdown",
   "metadata": {},
   "source": [
    "<div class=\"alert alert-success alertsuccess\" style=\"margin-top: 20px\">\n",
    "Tip: Performing operations on objects, like adding 5 to an array, does not change the object.To change the object, we would need to assign the new result to itself.\n",
    "</div>\n"
   ]
  },
  {
   "cell_type": "markdown",
   "metadata": {},
   "source": [
    "<a id=\"ref3\"></a>\n",
    "\n",
    "<h2 align=center>Using Logical Conditions to Subset Arrays</h2>\n"
   ]
  },
  {
   "cell_type": "markdown",
   "metadata": {},
   "source": [
    "Which movies can I finish watching in two hours? Using a logical condition, we can check which movies are less than 2 hours long.\n"
   ]
  },
  {
   "cell_type": "code",
   "execution_count": 11,
   "metadata": {
    "collapsed": false,
    "jupyter": {
     "outputs_hidden": false
    }
   },
   "outputs": [
    {
     "data": {
      "text/html": [
       "<table>\n",
       "<caption>A matrix: 3 × 3 of type lgl</caption>\n",
       "<tbody>\n",
       "\t<tr><td>FALSE</td><td> TRUE</td><td>TRUE</td></tr>\n",
       "\t<tr><td> TRUE</td><td> TRUE</td><td>TRUE</td></tr>\n",
       "\t<tr><td> TRUE</td><td>FALSE</td><td>TRUE</td></tr>\n",
       "</tbody>\n",
       "</table>\n"
      ],
      "text/latex": [
       "A matrix: 3 × 3 of type lgl\n",
       "\\begin{tabular}{lll}\n",
       "\t FALSE &  TRUE & TRUE\\\\\n",
       "\t  TRUE &  TRUE & TRUE\\\\\n",
       "\t  TRUE & FALSE & TRUE\\\\\n",
       "\\end{tabular}\n"
      ],
      "text/markdown": [
       "\n",
       "A matrix: 3 × 3 of type lgl\n",
       "\n",
       "| FALSE |  TRUE | TRUE |\n",
       "|  TRUE |  TRUE | TRUE |\n",
       "|  TRUE | FALSE | TRUE |\n",
       "\n"
      ],
      "text/plain": [
       "     [,1]  [,2]  [,3]\n",
       "[1,] FALSE  TRUE TRUE\n",
       "[2,]  TRUE  TRUE TRUE\n",
       "[3,]  TRUE FALSE TRUE"
      ]
     },
     "metadata": {},
     "output_type": "display_data"
    }
   ],
   "source": [
    "mask_array <- length_array < 120\n",
    "mask_array"
   ]
  },
  {
   "cell_type": "markdown",
   "metadata": {},
   "source": [
    "Using this array of TRUEs and FALSEs, we can subset the array of movie names:\n"
   ]
  },
  {
   "cell_type": "code",
   "execution_count": 12,
   "metadata": {
    "collapsed": false,
    "jupyter": {
     "outputs_hidden": false
    }
   },
   "outputs": [
    {
     "data": {
      "text/html": [
       "<style>\n",
       ".list-inline {list-style: none; margin:0; padding: 0}\n",
       ".list-inline>li {display: inline-block}\n",
       ".list-inline>li:not(:last-child)::after {content: \"\\00b7\"; padding: 0 .5ex}\n",
       "</style>\n",
       "<ol class=list-inline><li>'Toy Story'</li><li>'Room'</li><li>'The Wave'</li><li>'Whiplash'</li><li>'The Ring'</li><li>'The Artist'</li><li>'Jumanji'</li></ol>\n"
      ],
      "text/latex": [
       "\\begin{enumerate*}\n",
       "\\item 'Toy Story'\n",
       "\\item 'Room'\n",
       "\\item 'The Wave'\n",
       "\\item 'Whiplash'\n",
       "\\item 'The Ring'\n",
       "\\item 'The Artist'\n",
       "\\item 'Jumanji'\n",
       "\\end{enumerate*}\n"
      ],
      "text/markdown": [
       "1. 'Toy Story'\n",
       "2. 'Room'\n",
       "3. 'The Wave'\n",
       "4. 'Whiplash'\n",
       "5. 'The Ring'\n",
       "6. 'The Artist'\n",
       "7. 'Jumanji'\n",
       "\n",
       "\n"
      ],
      "text/plain": [
       "[1] \"Toy Story\"  \"Room\"       \"The Wave\"   \"Whiplash\"   \"The Ring\"  \n",
       "[6] \"The Artist\" \"Jumanji\"   "
      ]
     },
     "metadata": {},
     "output_type": "display_data"
    }
   ],
   "source": [
    "x_vector <- c(\"Akira\", \"Toy Story\", \"Room\", \"The Wave\", \"Whiplash\",\n",
    "              \"Star Wars\", \"The Ring\", \"The Artist\", \"Jumanji\")\n",
    "x_array <- array(x_vector, dim = c(3,3))\n",
    "\n",
    "x_array[mask_array]"
   ]
  },
  {
   "cell_type": "markdown",
   "metadata": {},
   "source": [
    "<hr>\n",
    "\n",
    "**Coding Exercise:** in the code cell below, find all movie titles with length less than or equal to 90 minutes\n"
   ]
  },
  {
   "cell_type": "code",
   "execution_count": 13,
   "metadata": {},
   "outputs": [
    {
     "data": {
      "text/html": [
       "<style>\n",
       ".list-inline {list-style: none; margin:0; padding: 0}\n",
       ".list-inline>li {display: inline-block}\n",
       ".list-inline>li:not(:last-child)::after {content: \"\\00b7\"; padding: 0 .5ex}\n",
       "</style>\n",
       "<ol class=list-inline><li>'Toy Story'</li><li>'The Wave'</li></ol>\n"
      ],
      "text/latex": [
       "\\begin{enumerate*}\n",
       "\\item 'Toy Story'\n",
       "\\item 'The Wave'\n",
       "\\end{enumerate*}\n"
      ],
      "text/markdown": [
       "1. 'Toy Story'\n",
       "2. 'The Wave'\n",
       "\n",
       "\n"
      ],
      "text/plain": [
       "[1] \"Toy Story\" \"The Wave\" "
      ]
     },
     "metadata": {},
     "output_type": "display_data"
    }
   ],
   "source": [
    "# Write your code below. Don't forget to press Shift+Enter to execute the cell\n",
    "mask_array <- length_array <= 90\n",
    "x_array[mask_array]"
   ]
  },
  {
   "cell_type": "markdown",
   "metadata": {},
   "source": [
    "<details><summary>Click here for the solution</summary>\n",
    "\n",
    "```R\n",
    "mask_array <- length_array <= 90\n",
    "x_array[mask_array]\n",
    "```\n",
    "\n",
    "</details>\n",
    "\n",
    "<hr>\n"
   ]
  },
  {
   "cell_type": "markdown",
   "metadata": {},
   "source": [
    "<h2 align=center>What is a Matrix?</h2>\n",
    "\n",
    "Matrices are a subtype of arrays. A matrix **must** have 2 dimensions, whereas arrays are more flexible and can have, one, two, or more dimensions.\n",
    "\n",
    "To create a matrix out of a vector , you can use **matrix()**, which takes in an argument for the vector, an argument for the number of rows and another for the number of columns.\n"
   ]
  },
  {
   "cell_type": "code",
   "execution_count": 14,
   "metadata": {
    "collapsed": false,
    "jupyter": {
     "outputs_hidden": false
    }
   },
   "outputs": [],
   "source": [
    "movie_matrix <- matrix(movie_vector, nrow = 3, ncol = 3)"
   ]
  },
  {
   "cell_type": "code",
   "execution_count": 15,
   "metadata": {
    "collapsed": false,
    "jupyter": {
     "outputs_hidden": false
    }
   },
   "outputs": [
    {
     "data": {
      "text/html": [
       "<table>\n",
       "<caption>A matrix: 3 × 3 of type chr</caption>\n",
       "<tbody>\n",
       "\t<tr><td>Akira    </td><td>The Wave </td><td>The Ring  </td></tr>\n",
       "\t<tr><td>Toy Story</td><td>Whiplash </td><td>The Artist</td></tr>\n",
       "\t<tr><td>Room     </td><td>Star Wars</td><td>Jumanji   </td></tr>\n",
       "</tbody>\n",
       "</table>\n"
      ],
      "text/latex": [
       "A matrix: 3 × 3 of type chr\n",
       "\\begin{tabular}{lll}\n",
       "\t Akira     & The Wave  & The Ring  \\\\\n",
       "\t Toy Story & Whiplash  & The Artist\\\\\n",
       "\t Room      & Star Wars & Jumanji   \\\\\n",
       "\\end{tabular}\n"
      ],
      "text/markdown": [
       "\n",
       "A matrix: 3 × 3 of type chr\n",
       "\n",
       "| Akira     | The Wave  | The Ring   |\n",
       "| Toy Story | Whiplash  | The Artist |\n",
       "| Room      | Star Wars | Jumanji    |\n",
       "\n"
      ],
      "text/plain": [
       "     [,1]      [,2]      [,3]      \n",
       "[1,] Akira     The Wave  The Ring  \n",
       "[2,] Toy Story Whiplash  The Artist\n",
       "[3,] Room      Star Wars Jumanji   "
      ]
     },
     "metadata": {},
     "output_type": "display_data"
    }
   ],
   "source": [
    "movie_matrix"
   ]
  },
  {
   "cell_type": "markdown",
   "metadata": {},
   "source": [
    "<hr>\n",
    "\n",
    "**Coding Exercise:** in the code cell below, create a new length vector with 12 elements and create a 4 x 3 matrix from it\n"
   ]
  },
  {
   "cell_type": "code",
   "execution_count": 16,
   "metadata": {},
   "outputs": [
    {
     "data": {
      "text/html": [
       "<table>\n",
       "<caption>A matrix: 4 × 3 of type dbl</caption>\n",
       "<tbody>\n",
       "\t<tr><td>125</td><td>106</td><td>104</td></tr>\n",
       "\t<tr><td> 81</td><td>121</td><td> 85</td></tr>\n",
       "\t<tr><td>118</td><td> 95</td><td> 64</td></tr>\n",
       "\t<tr><td> 81</td><td>100</td><td> 80</td></tr>\n",
       "</tbody>\n",
       "</table>\n"
      ],
      "text/latex": [
       "A matrix: 4 × 3 of type dbl\n",
       "\\begin{tabular}{lll}\n",
       "\t 125 & 106 & 104\\\\\n",
       "\t  81 & 121 &  85\\\\\n",
       "\t 118 &  95 &  64\\\\\n",
       "\t  81 & 100 &  80\\\\\n",
       "\\end{tabular}\n"
      ],
      "text/markdown": [
       "\n",
       "A matrix: 4 × 3 of type dbl\n",
       "\n",
       "| 125 | 106 | 104 |\n",
       "|  81 | 121 |  85 |\n",
       "| 118 |  95 |  64 |\n",
       "|  81 | 100 |  80 |\n",
       "\n"
      ],
      "text/plain": [
       "     [,1] [,2] [,3]\n",
       "[1,] 125  106  104 \n",
       "[2,]  81  121   85 \n",
       "[3,] 118   95   64 \n",
       "[4,]  81  100   80 "
      ]
     },
     "metadata": {},
     "output_type": "display_data"
    }
   ],
   "source": [
    "# Write your code below. Don't forget to press Shift+Enter to execute the cell\n",
    "new_length_vector <- c(125, 81, 118, 81, 106, 121, 95, 100, 104, 85, 64, 80)\n",
    "new_movie_matrix <- matrix(new_length_vector, nrow = 4, ncol = 3)\n",
    "new_movie_matrix"
   ]
  },
  {
   "cell_type": "markdown",
   "metadata": {},
   "source": [
    "<details><summary>Click here for the solution</summary>\n",
    "\n",
    "```R\n",
    "new_length_vector <- c(125, 81, 118, 81, 106, 121, 95, 100, 104, 85, 64, 80)\n",
    "new_movie_matrix <- matrix(new_length_vector, nrow = 4, ncol = 3)\n",
    "new_movie_matrix\n",
    "\n",
    "```\n",
    "\n",
    "</details>\n",
    "\n",
    "<hr>\n"
   ]
  },
  {
   "cell_type": "markdown",
   "metadata": {},
   "source": [
    "### Accessing elements of a matrix\n"
   ]
  },
  {
   "cell_type": "markdown",
   "metadata": {},
   "source": [
    "As with arrays, you can use **\\[row, column]** to access elements of a matrix. To retrieve \"Akira\", you should use \\[1,1] as it lies in the first row and first column.\n"
   ]
  },
  {
   "cell_type": "code",
   "execution_count": 17,
   "metadata": {
    "collapsed": false,
    "jupyter": {
     "outputs_hidden": false
    }
   },
   "outputs": [
    {
     "data": {
      "text/html": [
       "'Akira'"
      ],
      "text/latex": [
       "'Akira'"
      ],
      "text/markdown": [
       "'Akira'"
      ],
      "text/plain": [
       "[1] \"Akira\""
      ]
     },
     "metadata": {},
     "output_type": "display_data"
    }
   ],
   "source": [
    "movie_matrix[1,1]"
   ]
  },
  {
   "cell_type": "markdown",
   "metadata": {},
   "source": [
    "To get data from a certain range, the folowing code can help. This takes the elements from rows 2 to 3, and from columns 1 to 2.\n"
   ]
  },
  {
   "cell_type": "code",
   "execution_count": 18,
   "metadata": {
    "collapsed": false,
    "jupyter": {
     "outputs_hidden": false
    }
   },
   "outputs": [
    {
     "data": {
      "text/html": [
       "<table>\n",
       "<caption>A matrix: 2 × 2 of type chr</caption>\n",
       "<tbody>\n",
       "\t<tr><td>Toy Story</td><td>Whiplash </td></tr>\n",
       "\t<tr><td>Room     </td><td>Star Wars</td></tr>\n",
       "</tbody>\n",
       "</table>\n"
      ],
      "text/latex": [
       "A matrix: 2 × 2 of type chr\n",
       "\\begin{tabular}{ll}\n",
       "\t Toy Story & Whiplash \\\\\n",
       "\t Room      & Star Wars\\\\\n",
       "\\end{tabular}\n"
      ],
      "text/markdown": [
       "\n",
       "A matrix: 2 × 2 of type chr\n",
       "\n",
       "| Toy Story | Whiplash  |\n",
       "| Room      | Star Wars |\n",
       "\n"
      ],
      "text/plain": [
       "     [,1]      [,2]     \n",
       "[1,] Toy Story Whiplash \n",
       "[2,] Room      Star Wars"
      ]
     },
     "metadata": {},
     "output_type": "display_data"
    }
   ],
   "source": [
    "movie_matrix[2:3, 1:2]"
   ]
  },
  {
   "cell_type": "markdown",
   "metadata": {},
   "source": [
    "<hr>\n",
    "\n",
    "**Coding Exercise:** in the code cell below, get the second row of the matrix\n"
   ]
  },
  {
   "cell_type": "code",
   "execution_count": 19,
   "metadata": {},
   "outputs": [
    {
     "data": {
      "text/html": [
       "<style>\n",
       ".list-inline {list-style: none; margin:0; padding: 0}\n",
       ".list-inline>li {display: inline-block}\n",
       ".list-inline>li:not(:last-child)::after {content: \"\\00b7\"; padding: 0 .5ex}\n",
       "</style>\n",
       "<ol class=list-inline><li>'Toy Story'</li><li>'Whiplash'</li><li>'The Artist'</li></ol>\n"
      ],
      "text/latex": [
       "\\begin{enumerate*}\n",
       "\\item 'Toy Story'\n",
       "\\item 'Whiplash'\n",
       "\\item 'The Artist'\n",
       "\\end{enumerate*}\n"
      ],
      "text/markdown": [
       "1. 'Toy Story'\n",
       "2. 'Whiplash'\n",
       "3. 'The Artist'\n",
       "\n",
       "\n"
      ],
      "text/plain": [
       "[1] \"Toy Story\"  \"Whiplash\"   \"The Artist\""
      ]
     },
     "metadata": {},
     "output_type": "display_data"
    }
   ],
   "source": [
    "# Write your code below. Don't forget to press Shift+Enter to execute the cell\n",
    "movie_matrix[2,]"
   ]
  },
  {
   "cell_type": "markdown",
   "metadata": {},
   "source": [
    "<details><summary>Click here for the solution</summary>\n",
    "\n",
    "```R\n",
    "movie_matrix[2,]\n",
    "\n",
    "```\n",
    "\n",
    "</details>\n",
    "\n",
    "<hr>\n"
   ]
  },
  {
   "cell_type": "markdown",
   "metadata": {},
   "source": [
    "**Coding Exercise:** in the code cell below, get the second column of the matrix\n"
   ]
  },
  {
   "cell_type": "code",
   "execution_count": 20,
   "metadata": {},
   "outputs": [
    {
     "data": {
      "text/html": [
       "<style>\n",
       ".list-inline {list-style: none; margin:0; padding: 0}\n",
       ".list-inline>li {display: inline-block}\n",
       ".list-inline>li:not(:last-child)::after {content: \"\\00b7\"; padding: 0 .5ex}\n",
       "</style>\n",
       "<ol class=list-inline><li>'The Wave'</li><li>'Whiplash'</li><li>'Star Wars'</li></ol>\n"
      ],
      "text/latex": [
       "\\begin{enumerate*}\n",
       "\\item 'The Wave'\n",
       "\\item 'Whiplash'\n",
       "\\item 'Star Wars'\n",
       "\\end{enumerate*}\n"
      ],
      "text/markdown": [
       "1. 'The Wave'\n",
       "2. 'Whiplash'\n",
       "3. 'Star Wars'\n",
       "\n",
       "\n"
      ],
      "text/plain": [
       "[1] \"The Wave\"  \"Whiplash\"  \"Star Wars\""
      ]
     },
     "metadata": {},
     "output_type": "display_data"
    }
   ],
   "source": [
    "# Write your code below. Don't forget to press Shift+Enter to execute the cell\n",
    "movie_matrix[,2]"
   ]
  },
  {
   "cell_type": "markdown",
   "metadata": {},
   "source": [
    "<details><summary>Click here for the solution</summary>\n",
    "\n",
    "```R\n",
    "movie_matrix[,2]\n",
    "\n",
    "```\n",
    "\n",
    "</details>\n",
    "\n",
    "<hr>\n"
   ]
  },
  {
   "cell_type": "markdown",
   "metadata": {},
   "source": [
    "<h2>Concatenation function</h2>\n",
    "\n",
    "A concatenation function is used to combine two vectors into one vector. It combines values of both vectors.<br>\n",
    "Lets create a new vector for the upcoming movies as a `upcoming_movie` variable and add them to the `movie_vector` variable to create a `new_vector` of movies.\n"
   ]
  },
  {
   "cell_type": "code",
   "execution_count": 21,
   "metadata": {},
   "outputs": [],
   "source": [
    "upcoming_movie <- c(\"Fast and Furious 8\", \"xXx: Return of Xander Cage\", \"Suicide Squad\")"
   ]
  },
  {
   "cell_type": "code",
   "execution_count": 22,
   "metadata": {
    "collapsed": false,
    "jupyter": {
     "outputs_hidden": false
    }
   },
   "outputs": [],
   "source": [
    "new_vector <- c(movie_vector, upcoming_movie)"
   ]
  },
  {
   "cell_type": "code",
   "execution_count": 23,
   "metadata": {
    "collapsed": false,
    "jupyter": {
     "outputs_hidden": false
    },
    "scrolled": true
   },
   "outputs": [
    {
     "data": {
      "text/html": [
       "<style>\n",
       ".list-inline {list-style: none; margin:0; padding: 0}\n",
       ".list-inline>li {display: inline-block}\n",
       ".list-inline>li:not(:last-child)::after {content: \"\\00b7\"; padding: 0 .5ex}\n",
       "</style>\n",
       "<ol class=list-inline><li>'Akira'</li><li>'Toy Story'</li><li>'Room'</li><li>'The Wave'</li><li>'Whiplash'</li><li>'Star Wars'</li><li>'The Ring'</li><li>'The Artist'</li><li>'Jumanji'</li><li>'Fast and Furious 8'</li><li>'xXx: Return of Xander Cage'</li><li>'Suicide Squad'</li></ol>\n"
      ],
      "text/latex": [
       "\\begin{enumerate*}\n",
       "\\item 'Akira'\n",
       "\\item 'Toy Story'\n",
       "\\item 'Room'\n",
       "\\item 'The Wave'\n",
       "\\item 'Whiplash'\n",
       "\\item 'Star Wars'\n",
       "\\item 'The Ring'\n",
       "\\item 'The Artist'\n",
       "\\item 'Jumanji'\n",
       "\\item 'Fast and Furious 8'\n",
       "\\item 'xXx: Return of Xander Cage'\n",
       "\\item 'Suicide Squad'\n",
       "\\end{enumerate*}\n"
      ],
      "text/markdown": [
       "1. 'Akira'\n",
       "2. 'Toy Story'\n",
       "3. 'Room'\n",
       "4. 'The Wave'\n",
       "5. 'Whiplash'\n",
       "6. 'Star Wars'\n",
       "7. 'The Ring'\n",
       "8. 'The Artist'\n",
       "9. 'Jumanji'\n",
       "10. 'Fast and Furious 8'\n",
       "11. 'xXx: Return of Xander Cage'\n",
       "12. 'Suicide Squad'\n",
       "\n",
       "\n"
      ],
      "text/plain": [
       " [1] \"Akira\"                      \"Toy Story\"                 \n",
       " [3] \"Room\"                       \"The Wave\"                  \n",
       " [5] \"Whiplash\"                   \"Star Wars\"                 \n",
       " [7] \"The Ring\"                   \"The Artist\"                \n",
       " [9] \"Jumanji\"                    \"Fast and Furious 8\"        \n",
       "[11] \"xXx: Return of Xander Cage\" \"Suicide Squad\"             "
      ]
     },
     "metadata": {},
     "output_type": "display_data"
    }
   ],
   "source": [
    "new_vector"
   ]
  },
  {
   "cell_type": "markdown",
   "metadata": {},
   "source": [
    "<hr>\n",
    "Scaling R with big data\n",
    "\n",
    "As you learn more about R, if you are interested in exploring platforms that can help you run analyses at scale, you might want to sign up for a free account on [IBM Watson Studio](http://cocl.us/dsx_rp0101en), which allows you to run analyses in R with two Spark executors for free.\n"
   ]
  },
  {
   "cell_type": "markdown",
   "metadata": {},
   "source": [
    "## Authors\n",
    "\n",
    "Hi! It's [Hiten Patel](https://ca.linkedin.com/in/hitenpatel161289?utm_medium=Exinfluencer&utm_source=Exinfluencer&utm_content=000026UJ&utm_term=10006555&utm_id=NA-SkillsNetwork-Channel-SkillsNetworkCoursesIBMDeveloperSkillsNetworkRP0101ENCoursera23911160-2021-01-01), the author of this notebook. I hope you found arrays and matrices easy to learn! As you start learning the foundations of R, feel free to connect with me if you have any questions.\n"
   ]
  },
  {
   "cell_type": "markdown",
   "metadata": {},
   "source": [
    "### Other Contributors\n",
    "\n",
    "<a href=\"https://www.linkedin.com/in/yan-luo-96288783/?utm_medium=Exinfluencer&utm_source=Exinfluencer&utm_content=000026UJ&utm_term=10006555&utm_id=NA-SkillsNetwork-Channel-SkillsNetworkCoursesIBMDeveloperSkillsNetworkRP0101ENCoursera23911160-2021-01-01\">Yan Luo</a>\n"
   ]
  },
  {
   "cell_type": "markdown",
   "metadata": {},
   "source": [
    "## Change Log\n",
    "\n",
    "| Date (YYYY-MM-DD) | Version | Changed By | Change Description |\n",
    "| ----------------- | ------- | ---------- | ------------------ |\n",
    "| 2021-03-03        | 2.0     | Yan        | Added coding tasks |\n",
    "|                   |         |            |                    |\n",
    "|                   |         |            |                    |\n",
    "\n",
    "## <h3 align=\"center\"> © IBM Corporation 2021. All rights reserved. <h3/>\n"
   ]
  }
 ],
 "metadata": {
  "kernelspec": {
   "display_name": "R",
   "language": "R",
   "name": "conda-env-r-r"
  },
  "language_info": {
   "codemirror_mode": "r",
   "file_extension": ".r",
   "mimetype": "text/x-r-source",
   "name": "R",
   "pygments_lexer": "r",
   "version": "3.5.1"
  },
  "widgets": {
   "state": {},
   "version": "1.1.2"
  }
 },
 "nbformat": 4,
 "nbformat_minor": 4
}
