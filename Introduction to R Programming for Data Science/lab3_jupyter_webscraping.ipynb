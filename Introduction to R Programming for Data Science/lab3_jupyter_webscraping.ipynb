{
 "cells": [
  {
   "cell_type": "markdown",
   "metadata": {},
   "source": [
    "<a href=\"https://cognitiveclass.ai/?utm_medium=Exinfluencer&utm_source=Exinfluencer&utm_content=000026UJ&utm_term=10006555&utm_id=NA-SkillsNetwork-Channel-SkillsNetworkCoursesIBMDeveloperSkillsNetworkRP0101ENCoursera23911160-2021-01-01\">\n",
    "    <img src=\"https://cf-courses-data.s3.us.cloud-object-storage.appdomain.cloud/IBMDeveloperSkillsNetwork-RP0101EN-Coursera/v2/M1_R_Basics/images/IDSNlogo.png\" width=\"200\" align=\"center\">\n",
    "</a>\n"
   ]
  },
  {
   "cell_type": "markdown",
   "metadata": {},
   "source": [
    "<h1>Webscraping in R</h1>\n",
    "\n",
    "Estimated time needed: **15** minutes\n",
    "\n",
    "## Objectives\n",
    "\n",
    "After completing this lab you will be able to:\n",
    "\n",
    "*   Understand HTML via coding practice\n",
    "*   Perform basic webscraping using rvest\n"
   ]
  },
  {
   "cell_type": "markdown",
   "metadata": {},
   "source": [
    "<h2>Table of Contents</h2>\n",
    "\n",
    "<div class=\"alert alert-block alert-info\" style=\"margin-top: 20px\">\n",
    "    <ul>\n",
    "        <li><a href=\"https://#Overview-of-HTML\">Overview of HTML</a></li>\n",
    "        <li><a href=\"https://#The-rvest-library\">The rvest library</a></li> \n",
    "</div>\n",
    "\n",
    "<hr>\n"
   ]
  },
  {
   "cell_type": "markdown",
   "metadata": {},
   "source": [
    "<a id=\"ref0\"></a>\n",
    "\n",
    "<h2 id=\"#html\">Overview of HTML</h2>\n"
   ]
  },
  {
   "cell_type": "markdown",
   "metadata": {},
   "source": [
    "*   HTML stands for Hypertext Markup Language and it is used mainly for writing web pages.\n",
    "\n",
    "*   An HTML page consists of many organized HTML nodes or elements that tell a browser how to render its content.\n",
    "\n",
    "*   Each node or element has a start tag and an end tag with the same name and wraps some textual content.\n"
   ]
  },
  {
   "cell_type": "markdown",
   "metadata": {},
   "source": [
    "One key feature of HTML is that nodes can be nested within other nodes, organizing into a tree-like structure like the folders in a file system. Below is a basic HTML node structure:\n",
    "\n",
    "*   `<html>` node is the root node,\n",
    "\n",
    "*   `<html>` node has two children: `<head>` and `<body>`.\n",
    "\n",
    "*   Since the `<head>` and `<body>` nodes have the same parent `<html>` node they are siblings to each other.\n",
    "\n",
    "*   Similarly, the `<body>` node has two child nodes, the `<h1>` and `<p>` nodes.\n",
    "\n",
    "It is important to understand this tree-structure when writing a new HTML page or extracting data from an existing HTML page.\n"
   ]
  },
  {
   "cell_type": "markdown",
   "metadata": {},
   "source": [
    "<img src=\"https://cf-courses-data.s3.us.cloud-object-storage.appdomain.cloud/IBMDeveloperSkillsNetwork-RP0101EN-Coursera/v2/M4_Working_With_Data/images/html.png\" width=\"600\" align=\"center\">\n"
   ]
  },
  {
   "cell_type": "markdown",
   "metadata": {},
   "source": [
    "<a id=\"ref1\"></a>\n",
    "\n",
    "<h2 id=\"#revest\">The `revest` library</h2>\n"
   ]
  },
  {
   "cell_type": "markdown",
   "metadata": {},
   "source": [
    "The `rvest` package is a popular web scraping package for R. After rvest reads an HTML page, you can use the tag names to find the child nodes of the current node.\n"
   ]
  },
  {
   "cell_type": "code",
   "execution_count": 1,
   "metadata": {},
   "outputs": [
    {
     "name": "stderr",
     "output_type": "stream",
     "text": [
      "Loading required package: xml2\n"
     ]
    }
   ],
   "source": [
    "library(rvest)"
   ]
  },
  {
   "cell_type": "markdown",
   "metadata": {},
   "source": [
    "We also need to import httr library to get some HTML pages by sending HTTP GET request\n"
   ]
  },
  {
   "cell_type": "code",
   "execution_count": 2,
   "metadata": {},
   "outputs": [],
   "source": [
    "library(httr)"
   ]
  },
  {
   "cell_type": "markdown",
   "metadata": {},
   "source": [
    "First let's warm-up by reading HTML from the following character variable `simple_html_text`\n"
   ]
  },
  {
   "cell_type": "code",
   "execution_count": 3,
   "metadata": {},
   "outputs": [],
   "source": [
    "# A simple HTML document in a character variable\n",
    "simple_html_text <- \"\n",
    "<html>\n",
    "    <body>\n",
    "        <p>This is a test html page</p>\n",
    "    </body>\n",
    "</html>\""
   ]
  },
  {
   "cell_type": "markdown",
   "metadata": {},
   "source": [
    "Then use the read_html function to create the HTML root node, i.e., the html node by loading the `simple_html_text`\n"
   ]
  },
  {
   "cell_type": "code",
   "execution_count": 4,
   "metadata": {},
   "outputs": [
    {
     "data": {
      "text/plain": [
       "{html_document}\n",
       "<html>\n",
       "[1] <body>\\n        <p>This is a test html page</p>\\n    </body>"
      ]
     },
     "metadata": {},
     "output_type": "display_data"
    }
   ],
   "source": [
    "# Create the root html node by reading the simple HTML string\n",
    "root_node <- read_html(simple_html_text)\n",
    "root_node"
   ]
  },
  {
   "cell_type": "markdown",
   "metadata": {},
   "source": [
    "You can also check the type of `root_node`\n"
   ]
  },
  {
   "cell_type": "code",
   "execution_count": 5,
   "metadata": {},
   "outputs": [
    {
     "data": {
      "text/html": [
       "<style>\n",
       ".list-inline {list-style: none; margin:0; padding: 0}\n",
       ".list-inline>li {display: inline-block}\n",
       ".list-inline>li:not(:last-child)::after {content: \"\\00b7\"; padding: 0 .5ex}\n",
       "</style>\n",
       "<ol class=list-inline><li>'xml_document'</li><li>'xml_node'</li></ol>\n"
      ],
      "text/latex": [
       "\\begin{enumerate*}\n",
       "\\item 'xml\\_document'\n",
       "\\item 'xml\\_node'\n",
       "\\end{enumerate*}\n"
      ],
      "text/markdown": [
       "1. 'xml_document'\n",
       "2. 'xml_node'\n",
       "\n",
       "\n"
      ],
      "text/plain": [
       "[1] \"xml_document\" \"xml_node\"    "
      ]
     },
     "metadata": {},
     "output_type": "display_data"
    }
   ],
   "source": [
    "class(root_node)"
   ]
  },
  {
   "cell_type": "markdown",
   "metadata": {},
   "source": [
    "You can see the class is `xml_node` because rvest load HTML pages and convert them using XML format internally. XML has similar parent-child tree structure but more suitable for storing and tranporting data than HTML.\n"
   ]
  },
  {
   "cell_type": "markdown",
   "metadata": {},
   "source": [
    "Next, let's try to create a HTML node by loading a remote HTML page given a URL\n"
   ]
  },
  {
   "cell_type": "code",
   "execution_count": 6,
   "metadata": {},
   "outputs": [
    {
     "data": {
      "text/plain": [
       "{html_document}\n",
       "<html lang=\"en-US\">\n",
       "[1] <head>\\n<meta http-equiv=\"Content-Type\" content=\"text/html; charset=UTF-8 ...\n",
       "[2] <body>\\n<div id=\"__next\">\\n<div>\\n<div class=\"bx--masthead \"><div class=\" ..."
      ]
     },
     "metadata": {},
     "output_type": "display_data"
    }
   ],
   "source": [
    "ibm_html_node <- read_html(\"http://www.ibm.com\")\n",
    "ibm_html_node"
   ]
  },
  {
   "cell_type": "markdown",
   "metadata": {},
   "source": [
    "Sometimes you want to download some HTML pages and analyze them offline, you could use `download.file` to do so:\n"
   ]
  },
  {
   "cell_type": "code",
   "execution_count": 7,
   "metadata": {},
   "outputs": [],
   "source": [
    "# download the R home page and save it to an HTML file locally called r.html\n",
    "download.file('https://www.r-project.org', destfile = 'r.html')"
   ]
  },
  {
   "cell_type": "code",
   "execution_count": 8,
   "metadata": {},
   "outputs": [
    {
     "data": {
      "text/plain": [
       "{html_document}\n",
       "<html lang=\"en\">\n",
       "[1] <head>\\n<meta http-equiv=\"Content-Type\" content=\"text/html; charset=UTF-8 ...\n",
       "[2] <body>\\n    <div class=\"container page\">\\n      <div class=\"row\">\\n       ..."
      ]
     },
     "metadata": {},
     "output_type": "display_data"
    }
   ],
   "source": [
    "# Create a html_node from the local r.html file\n",
    "html_node <- read_html('r.html')\n",
    "html_node"
   ]
  },
  {
   "cell_type": "markdown",
   "metadata": {},
   "source": [
    "<hr>\n",
    "\n",
    "**Coding Exercise:** in the code cell below, download a html node using any URL you like.\n"
   ]
  },
  {
   "cell_type": "code",
   "execution_count": 9,
   "metadata": {},
   "outputs": [],
   "source": [
    "# Write your code below. Don't forget to press Shift+Enter to execute the cell\n"
   ]
  },
  {
   "cell_type": "markdown",
   "metadata": {},
   "source": [
    "<hr>\n"
   ]
  },
  {
   "cell_type": "markdown",
   "metadata": {},
   "source": [
    "Now you know how to read an HTML page from a character variable, a URL, or a local HTML file. Next let's see how to parse and extract\n",
    "data from a specific node(s) starting from the root node\n"
   ]
  },
  {
   "cell_type": "code",
   "execution_count": 10,
   "metadata": {},
   "outputs": [
    {
     "data": {
      "text/plain": [
       "{html_document}\n",
       "<html>\n",
       "[1] <body>\\n        <p style=\"color:red;\">This is a test html page</p>\\n    < ..."
      ]
     },
     "metadata": {},
     "output_type": "display_data"
    }
   ],
   "source": [
    "simple_html_text <- \"\n",
    "<html>\n",
    "    <body>\n",
    "        <p style=\\\"color:red;\\\">This is a test html page</p>\n",
    "    </body>\n",
    "</html>\"\n",
    "\n",
    "root_node <- read_html(simple_html_text)\n",
    "root_node"
   ]
  },
  {
   "cell_type": "markdown",
   "metadata": {},
   "source": [
    "Get the `<body>` node by using its parent node `<html>`\n"
   ]
  },
  {
   "cell_type": "code",
   "execution_count": 11,
   "metadata": {},
   "outputs": [
    {
     "data": {
      "text/plain": [
       "{html_node}\n",
       "<body>\n",
       "[1] <p style=\"color:red;\">This is a test html page</p>"
      ]
     },
     "metadata": {},
     "output_type": "display_data"
    }
   ],
   "source": [
    "# Get the child <body> node from <html> root_node\n",
    "body_node <- html_node(root_node, \"body\")\n",
    "body_node"
   ]
  },
  {
   "cell_type": "markdown",
   "metadata": {},
   "source": [
    "You can see it has a child node paragraph `<p>`\n"
   ]
  },
  {
   "cell_type": "markdown",
   "metadata": {},
   "source": [
    "Let's get the content of the `<p>`\n"
   ]
  },
  {
   "cell_type": "code",
   "execution_count": 12,
   "metadata": {},
   "outputs": [
    {
     "data": {
      "text/html": [
       "'This is a test html page'"
      ],
      "text/latex": [
       "'This is a test html page'"
      ],
      "text/markdown": [
       "'This is a test html page'"
      ],
      "text/plain": [
       "[1] \"This is a test html page\""
      ]
     },
     "metadata": {},
     "output_type": "display_data"
    }
   ],
   "source": [
    "# Get the child <p> node from its <body> node\n",
    "p_node <- html_node(body_node, \"p\")\n",
    "p_content<-html_text(p_node)\n",
    "p_content"
   ]
  },
  {
   "cell_type": "markdown",
   "metadata": {},
   "source": [
    "The `<p>` node also has `style` attribute with value `color:red;`, which means we want the browser to render its text using red color. To get an attribute of a node, we can use a function called `html_attr(\"attribute name\")`\n"
   ]
  },
  {
   "cell_type": "code",
   "execution_count": 13,
   "metadata": {},
   "outputs": [
    {
     "data": {
      "text/html": [
       "'color:red;'"
      ],
      "text/latex": [
       "'color:red;'"
      ],
      "text/markdown": [
       "'color:red;'"
      ],
      "text/plain": [
       "[1] \"color:red;\""
      ]
     },
     "metadata": {},
     "output_type": "display_data"
    }
   ],
   "source": [
    "# Use the p_node as the first argument to get its attribute\n",
    "style_attr <- html_attr(p_node, \"style\")\n",
    "style_attr"
   ]
  },
  {
   "cell_type": "markdown",
   "metadata": {},
   "source": [
    "In the code cell below, the downloaded `r.html` file (from `https://www.r-project.org`) has an `<img>` node representing an image URL to R logo image (a relative path on its web server), let's try to find the image URL and download it.\n",
    "\n",
    "Your need to paste the relative path in `<img>` with the the `https://www.r-project.org` to get the full URL of the image, and use the `GET` function to request the image as bytes in the response\n"
   ]
  },
  {
   "cell_type": "code",
   "execution_count": 14,
   "metadata": {},
   "outputs": [
    {
     "data": {
      "text/html": [
       "'/Rlogo.png'"
      ],
      "text/latex": [
       "'/Rlogo.png'"
      ],
      "text/markdown": [
       "'/Rlogo.png'"
      ],
      "text/plain": [
       "[1] \"/Rlogo.png\""
      ]
     },
     "metadata": {},
     "output_type": "display_data"
    }
   ],
   "source": [
    "# Write your code below. Don't forget to press Shift+Enter to execute the cell\n",
    "url <- 'https://www.r-project.org'\n",
    "html_node <- read_html('r.html')\n",
    "\n",
    "# Get the image node using its root node\n",
    "img_node <- html_node(html_node, \"img\")\n",
    "# Get the \"src\" attribute of img node, representing the image location\n",
    "img_relative_path <- html_attr(img_node, \"src\")\n",
    "img_relative_path\n",
    "\n",
    "# Paste img_relative_path with 'https://www.r-project.org'\n",
    "image_path <- paste(url, img_relative_path, sep=\"\")\n",
    "# Use GET request to get the image\n",
    "image_response<-GET(image_path)"
   ]
  },
  {
   "cell_type": "markdown",
   "metadata": {},
   "source": [
    "Then use `writeBin()` function to save the returned bytes into an image file.\n"
   ]
  },
  {
   "cell_type": "code",
   "execution_count": 15,
   "metadata": {},
   "outputs": [],
   "source": [
    "# Parse the body from the response as bytes\n",
    "image <- content(image_response, \"raw\")\n",
    "# Write the bytes to a png file\n",
    "writeBin(image, \"r.png\")"
   ]
  },
  {
   "cell_type": "markdown",
   "metadata": {},
   "source": [
    "Now, from the file list on the left, you should be able to find a saved r.png file.\n"
   ]
  },
  {
   "cell_type": "markdown",
   "metadata": {},
   "source": [
    "In HTML, many tabluar data are stored in `<table>` nodes. Thus, it is very important to be\n",
    "able to extract data from `<table>` nodes and preferably convert them into R data frames.\n"
   ]
  },
  {
   "cell_type": "markdown",
   "metadata": {},
   "source": [
    "Below is a sample HTML page contains a color table showing the supported HTML colors,\n",
    "and we want to load it as a R data frame so we can analyze it using data frame-related operations.\n"
   ]
  },
  {
   "cell_type": "code",
   "execution_count": 16,
   "metadata": {},
   "outputs": [],
   "source": [
    "table_url <- \"https://cf-courses-data.s3.us.cloud-object-storage.appdomain.cloud/IBM-DA0321EN-SkillsNetwork/labs/datasets/HTMLColorCodes.html\""
   ]
  },
  {
   "cell_type": "markdown",
   "metadata": {},
   "source": [
    "Like other HTML nodes, let's first get the `<table>` node using `html_node` function\n"
   ]
  },
  {
   "cell_type": "code",
   "execution_count": 17,
   "metadata": {},
   "outputs": [
    {
     "data": {
      "text/plain": [
       "{html_node}\n",
       "<table border=\"1\" class=\"main-table\">\n",
       " [1] <tr>\\n<td>Number </td>\\n      <td>Color</td>\\n      <td>Color Name</td>\\ ...\n",
       " [2] <tr>\\n<td>1</td>\\n      <td style=\"background:lightsalmon;\"> </td>\\n     ...\n",
       " [3] <tr>\\n<td>2</td>\\n      <td style=\"background:salmon;\"> </td>\\n      <td ...\n",
       " [4] <tr>\\n<td>3</td>\\n      <td style=\"background:darksalmon;\"> </td>\\n      ...\n",
       " [5] <tr>\\n<td>4</td>\\n      <td style=\"background:lightcoral;\"> </td>\\n      ...\n",
       " [6] <tr>\\n<td>5</td>\\n      <td style=\"background:coral;\"> </td>\\n      <td> ...\n",
       " [7] <tr>\\n<td>6</td>\\n      <td style=\"background:tomato;\"> </td>\\n      <td ...\n",
       " [8] <tr>\\n<td>7</td>\\n      <td style=\"background:orangered;\"> </td>\\n       ...\n",
       " [9] <tr>\\n<td>8</td>\\n      <td style=\"background:gold;\"> </td>\\n      <td>g ...\n",
       "[10] <tr>\\n<td>9</td>\\n      <td style=\"background:orange;\"> </td>\\n      <td ...\n",
       "[11] <tr>\\n<td>10</td>\\n      <td style=\"background:darkorange;\"> </td>\\n     ...\n",
       "[12] <tr>\\n<td>11</td>\\n      <td style=\"background:lightyellow;\"> </td>\\n    ...\n",
       "[13] <tr>\\n<td>12</td>\\n      <td style=\"background:lemonchiffon;\"> </td>\\n   ...\n",
       "[14] <tr>\\n<td>13</td>\\n      <td style=\"background:papayawhip;\"> </td>\\n     ...\n",
       "[15] <tr>\\n<td>14</td>\\n      <td style=\"background:moccasin;\"> </td>\\n       ...\n",
       "[16] <tr>\\n<td>15</td>\\n      <td style=\"background:peachpuff;\"> </td>\\n      ...\n",
       "[17] <tr>\\n<td>16</td>\\n      <td style=\"background:palegoldenrod;\"> </td>\\n  ...\n",
       "[18] <tr>\\n<td>17</td>\\n      <td style=\"background:khaki;\"> </td>\\n      <td ...\n",
       "[19] <tr>\\n<td>18</td>\\n      <td style=\"background:darkkhaki;\"> </td>\\n      ...\n",
       "[20] <tr>\\n<td>19</td>\\n      <td style=\"background:yellow;\"> </td>\\n      <t ...\n",
       "..."
      ]
     },
     "metadata": {},
     "output_type": "display_data"
    }
   ],
   "source": [
    "root_node <-read_html(table_url)\n",
    "table_node <- html_node(root_node, \"table\")\n",
    "table_node"
   ]
  },
  {
   "cell_type": "markdown",
   "metadata": {},
   "source": [
    "You can see the table node in a messy HTML format. Fortunately, you dont need to parse it by yourself, `rvest` provides a handy function called `html_table()` to convert `<table>` node into R dataframe\n"
   ]
  },
  {
   "cell_type": "code",
   "execution_count": 18,
   "metadata": {},
   "outputs": [
    {
     "data": {
      "text/html": [
       "<table>\n",
       "<caption>A data.frame: 6 × 5</caption>\n",
       "<thead>\n",
       "\t<tr><th></th><th scope=col>X1</th><th scope=col>X2</th><th scope=col>X3</th><th scope=col>X4</th><th scope=col>X5</th></tr>\n",
       "\t<tr><th></th><th scope=col>&lt;chr&gt;</th><th scope=col>&lt;chr&gt;</th><th scope=col>&lt;chr&gt;</th><th scope=col>&lt;chr&gt;</th><th scope=col>&lt;chr&gt;</th></tr>\n",
       "</thead>\n",
       "<tbody>\n",
       "\t<tr><th scope=row>1</th><td>Number</td><td>Color</td><td>Color Name </td><td>Hex Code#RRGGBB</td><td>Decimal Code(R,G,B)</td></tr>\n",
       "\t<tr><th scope=row>2</th><td>1     </td><td>     </td><td>lightsalmon</td><td>#FFA07A        </td><td>rgb(255,160,122)   </td></tr>\n",
       "\t<tr><th scope=row>3</th><td>2     </td><td>     </td><td>salmon     </td><td>#FA8072        </td><td>rgb(250,128,114)   </td></tr>\n",
       "\t<tr><th scope=row>4</th><td>3     </td><td>     </td><td>darksalmon </td><td>#E9967A        </td><td>rgb(233,150,122)   </td></tr>\n",
       "\t<tr><th scope=row>5</th><td>4     </td><td>     </td><td>lightcoral </td><td>#F08080        </td><td>rgb(240,128,128)   </td></tr>\n",
       "\t<tr><th scope=row>6</th><td>5     </td><td>     </td><td>coral      </td><td>#FF7F50        </td><td>rgb(255,127,80)    </td></tr>\n",
       "</tbody>\n",
       "</table>\n"
      ],
      "text/latex": [
       "A data.frame: 6 × 5\n",
       "\\begin{tabular}{r|lllll}\n",
       "  & X1 & X2 & X3 & X4 & X5\\\\\n",
       "  & <chr> & <chr> & <chr> & <chr> & <chr>\\\\\n",
       "\\hline\n",
       "\t1 & Number & Color & Color Name  & Hex Code\\#RRGGBB & Decimal Code(R,G,B)\\\\\n",
       "\t2 & 1      &       & lightsalmon & \\#FFA07A         & rgb(255,160,122)   \\\\\n",
       "\t3 & 2      &       & salmon      & \\#FA8072         & rgb(250,128,114)   \\\\\n",
       "\t4 & 3      &       & darksalmon  & \\#E9967A         & rgb(233,150,122)   \\\\\n",
       "\t5 & 4      &       & lightcoral  & \\#F08080         & rgb(240,128,128)   \\\\\n",
       "\t6 & 5      &       & coral       & \\#FF7F50         & rgb(255,127,80)    \\\\\n",
       "\\end{tabular}\n"
      ],
      "text/markdown": [
       "\n",
       "A data.frame: 6 × 5\n",
       "\n",
       "| <!--/--> | X1 &lt;chr&gt; | X2 &lt;chr&gt; | X3 &lt;chr&gt; | X4 &lt;chr&gt; | X5 &lt;chr&gt; |\n",
       "|---|---|---|---|---|---|\n",
       "| 1 | Number | Color | Color Name  | Hex Code#RRGGBB | Decimal Code(R,G,B) |\n",
       "| 2 | 1      | <!----> | lightsalmon | #FFA07A         | rgb(255,160,122)    |\n",
       "| 3 | 2      | <!----> | salmon      | #FA8072         | rgb(250,128,114)    |\n",
       "| 4 | 3      | <!----> | darksalmon  | #E9967A         | rgb(233,150,122)    |\n",
       "| 5 | 4      | <!----> | lightcoral  | #F08080         | rgb(240,128,128)    |\n",
       "| 6 | 5      | <!----> | coral       | #FF7F50         | rgb(255,127,80)     |\n",
       "\n"
      ],
      "text/plain": [
       "  X1     X2    X3          X4              X5                 \n",
       "1 Number Color Color Name  Hex Code#RRGGBB Decimal Code(R,G,B)\n",
       "2 1            lightsalmon #FFA07A         rgb(255,160,122)   \n",
       "3 2            salmon      #FA8072         rgb(250,128,114)   \n",
       "4 3            darksalmon  #E9967A         rgb(233,150,122)   \n",
       "5 4            lightcoral  #F08080         rgb(240,128,128)   \n",
       "6 5            coral       #FF7F50         rgb(255,127,80)    "
      ]
     },
     "metadata": {},
     "output_type": "display_data"
    }
   ],
   "source": [
    "# Extract content from table_node and convert the data into a dataframe\n",
    "color_data_frame <- html_table(table_node)\n",
    "head(color_data_frame)"
   ]
  },
  {
   "cell_type": "markdown",
   "metadata": {},
   "source": [
    "But you could see the table headers were parsed as the first row, no worries, we could manually fix that\n"
   ]
  },
  {
   "cell_type": "code",
   "execution_count": 19,
   "metadata": {},
   "outputs": [
    {
     "data": {
      "text/html": [
       "<style>\n",
       ".list-inline {list-style: none; margin:0; padding: 0}\n",
       ".list-inline>li {display: inline-block}\n",
       ".list-inline>li:not(:last-child)::after {content: \"\\00b7\"; padding: 0 .5ex}\n",
       "</style>\n",
       "<ol class=list-inline><li>'X1'</li><li>'X2'</li><li>'X3'</li><li>'X4'</li><li>'X5'</li></ol>\n"
      ],
      "text/latex": [
       "\\begin{enumerate*}\n",
       "\\item 'X1'\n",
       "\\item 'X2'\n",
       "\\item 'X3'\n",
       "\\item 'X4'\n",
       "\\item 'X5'\n",
       "\\end{enumerate*}\n"
      ],
      "text/markdown": [
       "1. 'X1'\n",
       "2. 'X2'\n",
       "3. 'X3'\n",
       "4. 'X4'\n",
       "5. 'X5'\n",
       "\n",
       "\n"
      ],
      "text/plain": [
       "[1] \"X1\" \"X2\" \"X3\" \"X4\" \"X5\""
      ]
     },
     "metadata": {},
     "output_type": "display_data"
    }
   ],
   "source": [
    "names(color_data_frame)"
   ]
  },
  {
   "cell_type": "code",
   "execution_count": 20,
   "metadata": {},
   "outputs": [
    {
     "data": {
      "text/html": [
       "<table>\n",
       "<caption>A data.frame: 6 × 5</caption>\n",
       "<thead>\n",
       "\t<tr><th></th><th scope=col>Number</th><th scope=col>Color</th><th scope=col>Color Name</th><th scope=col>Hex Code#RRGGBB</th><th scope=col>Decimal Code(R,G,B)</th></tr>\n",
       "\t<tr><th></th><th scope=col>&lt;chr&gt;</th><th scope=col>&lt;chr&gt;</th><th scope=col>&lt;chr&gt;</th><th scope=col>&lt;chr&gt;</th><th scope=col>&lt;chr&gt;</th></tr>\n",
       "</thead>\n",
       "<tbody>\n",
       "\t<tr><th scope=row>2</th><td>1</td><td></td><td>lightsalmon</td><td>#FFA07A</td><td>rgb(255,160,122)</td></tr>\n",
       "\t<tr><th scope=row>3</th><td>2</td><td></td><td>salmon     </td><td>#FA8072</td><td>rgb(250,128,114)</td></tr>\n",
       "\t<tr><th scope=row>4</th><td>3</td><td></td><td>darksalmon </td><td>#E9967A</td><td>rgb(233,150,122)</td></tr>\n",
       "\t<tr><th scope=row>5</th><td>4</td><td></td><td>lightcoral </td><td>#F08080</td><td>rgb(240,128,128)</td></tr>\n",
       "\t<tr><th scope=row>6</th><td>5</td><td></td><td>coral      </td><td>#FF7F50</td><td>rgb(255,127,80) </td></tr>\n",
       "\t<tr><th scope=row>7</th><td>6</td><td></td><td>tomato     </td><td>#FF6347</td><td>rgb(255,99,71)  </td></tr>\n",
       "</tbody>\n",
       "</table>\n"
      ],
      "text/latex": [
       "A data.frame: 6 × 5\n",
       "\\begin{tabular}{r|lllll}\n",
       "  & Number & Color & Color Name & Hex Code\\#RRGGBB & Decimal Code(R,G,B)\\\\\n",
       "  & <chr> & <chr> & <chr> & <chr> & <chr>\\\\\n",
       "\\hline\n",
       "\t2 & 1 &  & lightsalmon & \\#FFA07A & rgb(255,160,122)\\\\\n",
       "\t3 & 2 &  & salmon      & \\#FA8072 & rgb(250,128,114)\\\\\n",
       "\t4 & 3 &  & darksalmon  & \\#E9967A & rgb(233,150,122)\\\\\n",
       "\t5 & 4 &  & lightcoral  & \\#F08080 & rgb(240,128,128)\\\\\n",
       "\t6 & 5 &  & coral       & \\#FF7F50 & rgb(255,127,80) \\\\\n",
       "\t7 & 6 &  & tomato      & \\#FF6347 & rgb(255,99,71)  \\\\\n",
       "\\end{tabular}\n"
      ],
      "text/markdown": [
       "\n",
       "A data.frame: 6 × 5\n",
       "\n",
       "| <!--/--> | Number &lt;chr&gt; | Color &lt;chr&gt; | Color Name &lt;chr&gt; | Hex Code#RRGGBB &lt;chr&gt; | Decimal Code(R,G,B) &lt;chr&gt; |\n",
       "|---|---|---|---|---|---|\n",
       "| 2 | 1 | <!----> | lightsalmon | #FFA07A | rgb(255,160,122) |\n",
       "| 3 | 2 | <!----> | salmon      | #FA8072 | rgb(250,128,114) |\n",
       "| 4 | 3 | <!----> | darksalmon  | #E9967A | rgb(233,150,122) |\n",
       "| 5 | 4 | <!----> | lightcoral  | #F08080 | rgb(240,128,128) |\n",
       "| 6 | 5 | <!----> | coral       | #FF7F50 | rgb(255,127,80)  |\n",
       "| 7 | 6 | <!----> | tomato      | #FF6347 | rgb(255,99,71)   |\n",
       "\n"
      ],
      "text/plain": [
       "  Number Color Color Name  Hex Code#RRGGBB Decimal Code(R,G,B)\n",
       "2 1            lightsalmon #FFA07A         rgb(255,160,122)   \n",
       "3 2            salmon      #FA8072         rgb(250,128,114)   \n",
       "4 3            darksalmon  #E9967A         rgb(233,150,122)   \n",
       "5 4            lightcoral  #F08080         rgb(240,128,128)   \n",
       "6 5            coral       #FF7F50         rgb(255,127,80)    \n",
       "7 6            tomato      #FF6347         rgb(255,99,71)     "
      ]
     },
     "metadata": {},
     "output_type": "display_data"
    },
    {
     "data": {
      "text/html": [
       "<style>\n",
       ".list-inline {list-style: none; margin:0; padding: 0}\n",
       ".list-inline>li {display: inline-block}\n",
       ".list-inline>li:not(:last-child)::after {content: \"\\00b7\"; padding: 0 .5ex}\n",
       "</style>\n",
       "<ol class=list-inline><li>'Number'</li><li>'Color'</li><li>'Color Name'</li><li>'Hex Code#RRGGBB'</li><li>'Decimal Code(R,G,B)'</li></ol>\n"
      ],
      "text/latex": [
       "\\begin{enumerate*}\n",
       "\\item 'Number'\n",
       "\\item 'Color'\n",
       "\\item 'Color Name'\n",
       "\\item 'Hex Code\\#RRGGBB'\n",
       "\\item 'Decimal Code(R,G,B)'\n",
       "\\end{enumerate*}\n"
      ],
      "text/markdown": [
       "1. 'Number'\n",
       "2. 'Color'\n",
       "3. 'Color Name'\n",
       "4. 'Hex Code#RRGGBB'\n",
       "5. 'Decimal Code(R,G,B)'\n",
       "\n",
       "\n"
      ],
      "text/plain": [
       "[1] \"Number\"              \"Color\"               \"Color Name\"         \n",
       "[4] \"Hex Code#RRGGBB\"     \"Decimal Code(R,G,B)\""
      ]
     },
     "metadata": {},
     "output_type": "display_data"
    }
   ],
   "source": [
    "# Convert the first row as column names\n",
    "names(color_data_frame) <- as.matrix(color_data_frame[1, ])\n",
    "# Then remove the first row\n",
    "data_frame <- color_data_frame[-1, ]\n",
    "\n",
    "head(data_frame)\n",
    "names(color_data_frame)"
   ]
  },
  {
   "cell_type": "markdown",
   "metadata": {},
   "source": [
    "That's it for `webscraping` in R, there is a lot more you can do check out <a href=\"https://cran.r-project.org/web/packages/rvest/rvest.pdf?utm_medium=Exinfluencer&utm_source=Exinfluencer&utm_content=000026UJ&utm_term=10006555&utm_id=NA-SkillsNetwork-Channel-SkillsNetworkCoursesIBMDeveloperSkillsNetworkRP0101ENCoursera23911160-2021-01-01\">rvest</a>.\n"
   ]
  },
  {
   "cell_type": "markdown",
   "metadata": {},
   "source": [
    "<hr>\n"
   ]
  },
  {
   "cell_type": "markdown",
   "metadata": {},
   "source": [
    "## Authors\n",
    "\n",
    "Hi, this is <a href=\"https://www.linkedin.com/in/yan-luo-96288783/?utm_medium=Exinfluencer&utm_source=Exinfluencer&utm_content=000026UJ&utm_term=10006555&utm_id=NA-SkillsNetwork-Channel-SkillsNetworkCoursesIBMDeveloperSkillsNetworkRP0101ENCoursera23911160-2021-01-01\" target=\"_blank\">Yan Luo</a> the author of this notebook.\n",
    "\n",
    "I hope you found it easy to learn how to do webscraping in R! Feel free to connect with us if you have any questions.\n"
   ]
  },
  {
   "cell_type": "markdown",
   "metadata": {},
   "source": [
    "### Other Contributors\n"
   ]
  },
  {
   "cell_type": "markdown",
   "metadata": {},
   "source": [
    "## Change Log\n",
    "\n",
    "| Date (YYYY-MM-DD) | Version | Changed By | Change Description      |\n",
    "| ----------------- | ------- | ---------- | ----------------------- |\n",
    "| 2021-03-05        | 1.0     | Yan        | Initial version created |\n",
    "|                   |         |            |                         |\n",
    "|                   |         |            |                         |\n",
    "\n",
    "## <h3 align=\"center\"> © IBM Corporation 2021. All rights reserved. <h3/>\n"
   ]
  }
 ],
 "metadata": {
  "kernelspec": {
   "display_name": "R",
   "language": "R",
   "name": "conda-env-r-r"
  },
  "language_info": {
   "codemirror_mode": "r",
   "file_extension": ".r",
   "mimetype": "text/x-r-source",
   "name": "R",
   "pygments_lexer": "r",
   "version": "3.5.1"
  }
 },
 "nbformat": 4,
 "nbformat_minor": 4
}
